{
 "cells": [
  {
   "cell_type": "markdown",
   "id": "f1245a2f-62c2-431b-8478-4b5a718e18f9",
   "metadata": {},
   "source": [
    "# 1.hashlib 모듈\r",
    "## \n",
    "MD5, SHA256 등의 알고리즘으로 문자열을 해싱(hashing)할 때 사용하는 모듈이다\r",
    "# 2. hashing\r\n",
    "원본 문자열을 알아볼 수 없는 난해한 문자열로 정의하는 방법으로, 해시값을 조사하여 데이터 변조 여부를 확인하는 것이 주\n",
    "\n",
    "# 3.검증방식\r",
    "## \n",
    "비밀번호 일치 여부를 검증하고자 사용자로부터 입력받은 이전 비밀번호를 해싱하고 나서 파일에 저장한 값과 비교 (해싱한 문자열은 복구가 불가능 하므로 비번을 동일한 방식으로 해싱한 후 DB에 저장된 해싱비번과 비교하는 것임)된 목적"
   ]
  },
  {
   "cell_type": "code",
   "execution_count": null,
   "id": "b6d78eb0-d4ec-471f-857c-62a76f7bf0e6",
   "metadata": {},
   "outputs": [
    {
     "name": "stdout",
     "output_type": "stream",
     "text": [
      " * Serving Flask app '__main__'\n",
      " * Debug mode: off\n"
     ]
    },
    {
     "name": "stderr",
     "output_type": "stream",
     "text": [
      "WARNING: This is a development server. Do not use it in a production deployment. Use a production WSGI server instead.\n",
      " * Running on http://127.0.0.1:5000\n",
      "Press CTRL+C to quit\n",
      "127.0.0.1 - - [10/Sep/2024 14:27:39] \"GET / HTTP/1.1\" 200 -\n",
      "127.0.0.1 - - [10/Sep/2024 14:27:40] \"GET /static/KakaoTalk_20240909_154227754.jpg HTTP/1.1\" 304 -\n",
      "127.0.0.1 - - [10/Sep/2024 14:27:40] \"GET /login HTTP/1.1\" 200 -\n",
      "127.0.0.1 - - [10/Sep/2024 14:27:40] \"GET /static/제목%20없음.jpg HTTP/1.1\" 200 -\n"
     ]
    }
   ],
   "source": [
    "import pymysql\n",
    "from flask import Flask, render_template,request\n",
    "import hashlib\n",
    "app=Flask(__name__)\n",
    "\n",
    "conn= pymysql.connect(host='127.0.0.1',user='root',password='mysql904#',db='mydb',charset='utf8')\n",
    "cur=conn.cursor()\n",
    "\n",
    "@app.route(\"/\")\n",
    "def index():\n",
    "    return render_template('index.html')\n",
    "\n",
    "@app.route(\"/login\")\n",
    "def login():\n",
    "    return render_template('login.html')\n",
    "\n",
    "@app.route(\"/idcheck\",methods=['post'])\n",
    "def idcheck():\n",
    "    uid= request.form['id']\n",
    "    cur.execute('SELECT count(*) FROM usertable WHERE id = \"%s\"'%(uid))\n",
    "    user = cur.fetchone()\n",
    "    print(user)\n",
    "    \n",
    "@app.route(\"/logincheck\",methods=['post'])\n",
    "def logincheck():\n",
    "    uid = request.form['id']\n",
    "    upass = request.form['pass']\n",
    "    upassSec =hashlib.sha256(upass.encode('utf-8')).hexdigest()\n",
    "    # 사용자가 입력한 비번을 upass 변수에 저장후 hashlib의 sha256을 이용해서\n",
    "    # 암호화 하는데 utf-8로 인코딩 사용하고,이를다시 16진수의 키값으로 변경\n",
    "\n",
    "    cur.execute('SELECT count(*) FROM usertable WHERE id = \"%s\" AND pwd = \"%s\"'%(uid,upass))\n",
    "    \n",
    "    user = cur.fetchone()\n",
    "    \n",
    "    if user:\n",
    "        return render_template('memberm.html')\n",
    "    else:\n",
    "        return render_template('login.html')    \n",
    "\n",
    "@app.route(\"/join\")\n",
    "def joinApp():\n",
    "    return render_template('join.html')\n",
    "\n",
    "@app.route(\"/memberm\")\n",
    "def memberm():\n",
    "    return render_template('memberm.html')\n",
    "    \n",
    "\n",
    "@app.route(\"/insert\", methods=['post'])\n",
    "def insertApp():\n",
    "    id = request.form['id']\n",
    "    pwd = request.form['pass']\n",
    "    pwdsecq = hashlib.sha256(pwd.encode('utf-8')).hexdigest()\n",
    "    name = request.form['name']    \n",
    "    birthy = request.form['year']\n",
    "    birthm = request.form['month']\n",
    "    birthd = request.form['days']\n",
    "    gender = request.form['gender']\n",
    "    tel = request.form['tel']\n",
    "    post = request.form['postcode']\n",
    "    addr = request.form['address']\n",
    "    addrdt = request.form['addressdetail']\n",
    "    email = request.form['email']\n",
    "    cur.execute(\"insert into usertable values('%s','%s','%s',%d,%d,%d,'%s','%s',%d,'%s','%s','%s')\"\n",
    "        %(id,pwdsecq,name,int(birthy),int(birthm),int(birthd),gender,tel,int(post),addr,addrdt,email))\n",
    "    conn.commit()\n",
    "    return render_template('login.html')\n",
    "\n",
    "host_addr=\"127.0.0.1\"\n",
    "port_num=\"5000\"\n",
    "\n",
    "if __name__ == \"__main__\":\n",
    "    app.run(host=host_addr,port=port_num)\n",
    "\n"
   ]
  }
 ],
 "metadata": {
  "kernelspec": {
   "display_name": "Python 3 (ipykernel)",
   "language": "python",
   "name": "python3"
  },
  "language_info": {
   "codemirror_mode": {
    "name": "ipython",
    "version": 3
   },
   "file_extension": ".py",
   "mimetype": "text/x-python",
   "name": "python",
   "nbconvert_exporter": "python",
   "pygments_lexer": "ipython3",
   "version": "3.12.4"
  }
 },
 "nbformat": 4,
 "nbformat_minor": 5
}
