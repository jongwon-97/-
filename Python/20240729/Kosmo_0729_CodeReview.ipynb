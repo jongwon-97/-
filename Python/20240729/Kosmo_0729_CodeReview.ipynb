{
 "cells": [
  {
   "cell_type": "code",
   "execution_count": 78,
   "id": "89681b41-f5d5-4da2-a894-6e2d638dc756",
   "metadata": {},
   "outputs": [
    {
     "name": "stdout",
     "output_type": "stream",
     "text": [
      "('apple', 'banana', 'cherry', 'orange', 'melon', 'strawberry')\n",
      "6\n",
      "apple\n",
      "banana\n",
      "cherry\n"
     ]
    }
   ],
   "source": [
    "tuple1 = ('apple', 'banana', 'cherry')\n",
    "tuple2 = ('orange', 'melon', 'strawberry')\n",
    "tuple3 = tuple1 + tuple2\n",
    "print(tuple3)\n",
    "print(len(tuple3))\n",
    "for x in tuple1 :\n",
    "    print(x)\n",
    "del tuple1   #del을 써서 완전히 삭제 삭제를 안하게 되면 메모리상에 삭제 되지 않고 남아있을수가 있다 \n"
   ]
  },
  {
   "cell_type": "code",
   "execution_count": 63,
   "id": "ec4385ee-ac8c-41bf-99e0-37b55932a3a7",
   "metadata": {
    "scrolled": true
   },
   "outputs": [
    {
     "name": "stdout",
     "output_type": "stream",
     "text": [
      "구구단표\n",
      "------------------------------\n",
      "2 x 1 = 2\n",
      "2 x 2 = 4\n",
      "2 x 3 = 6\n",
      "2 x 4 = 8\n",
      "2 x 5 = 10\n",
      "2 x 6 = 12\n",
      "2 x 7 = 14\n",
      "2 x 8 = 16\n",
      "2 x 9 = 18\n",
      "3 x 1 = 3\n",
      "3 x 2 = 6\n",
      "3 x 3 = 9\n",
      "3 x 4 = 12\n",
      "3 x 5 = 15\n",
      "3 x 6 = 18\n",
      "3 x 7 = 21\n",
      "3 x 8 = 24\n",
      "3 x 9 = 27\n",
      "4 x 1 = 4\n",
      "4 x 2 = 8\n",
      "4 x 3 = 12\n",
      "4 x 4 = 16\n",
      "4 x 5 = 20\n",
      "4 x 6 = 24\n",
      "4 x 7 = 28\n",
      "4 x 8 = 32\n",
      "4 x 9 = 36\n",
      "5 x 1 = 5\n",
      "5 x 2 = 10\n",
      "5 x 3 = 15\n",
      "5 x 4 = 20\n",
      "5 x 5 = 25\n",
      "5 x 6 = 30\n",
      "5 x 7 = 35\n",
      "5 x 8 = 40\n",
      "5 x 9 = 45\n",
      "6 x 1 = 6\n",
      "6 x 2 = 12\n",
      "6 x 3 = 18\n",
      "6 x 4 = 24\n",
      "6 x 5 = 30\n",
      "6 x 6 = 36\n",
      "6 x 7 = 42\n",
      "6 x 8 = 48\n",
      "6 x 9 = 54\n",
      "7 x 1 = 7\n",
      "7 x 2 = 14\n",
      "7 x 3 = 21\n",
      "7 x 4 = 28\n",
      "7 x 5 = 35\n",
      "7 x 6 = 42\n",
      "7 x 7 = 49\n",
      "7 x 8 = 56\n",
      "7 x 9 = 63\n",
      "8 x 1 = 8\n",
      "8 x 2 = 16\n",
      "8 x 3 = 24\n",
      "8 x 4 = 32\n",
      "8 x 5 = 40\n",
      "8 x 6 = 48\n",
      "8 x 7 = 56\n",
      "8 x 8 = 64\n",
      "8 x 9 = 72\n",
      "9 x 1 = 9\n",
      "9 x 2 = 18\n",
      "9 x 3 = 27\n",
      "9 x 4 = 36\n",
      "9 x 5 = 45\n",
      "9 x 6 = 54\n",
      "9 x 7 = 63\n",
      "9 x 8 = 72\n",
      "9 x 9 = 81\n",
      "------------------------------\n"
     ]
    }
   ],
   "source": [
    "dans = (2, 3, 4, 5, 6, 7, 8, 9)\n",
    "print('구구단표') \n",
    "print('-' * 30)\n",
    "for dan in dans :\n",
    "    for i in range(1, 10) :\n",
    "        print('%d x %d = %d' %(dan, i , dan*i))\n",
    "print('-' * 30)"
   ]
  },
  {
   "cell_type": "code",
   "execution_count": 76,
   "id": "7602d6a7-08da-42ab-9799-fbca97167f07",
   "metadata": {},
   "outputs": [
    {
     "name": "stdin",
     "output_type": "stream",
     "text": [
      "관리자 아이디를 입력하세요 :  admin\n",
      "관리자 비밀번호를 입력하세요 :  12345\n"
     ]
    },
    {
     "name": "stdout",
     "output_type": "stream",
     "text": [
      "관리자입니다.\n"
     ]
    }
   ],
   "source": [
    "admin_info = ('admin', '12345', 'rubato@naver.com')\n",
    "id = input('관리자 아이디를 입력하세요 : ') \n",
    "password = input('관리자 비밀번호를 입력하세요 : ')\n",
    "if id == admin_info[0] and password == admin_info[1] :\n",
    "    print('관리자입니다.') \n",
    "else :\n",
    "    print('아이디 또는 비밀번호가 잘못 입력되었습니다.')"
   ]
  },
  {
   "cell_type": "code",
   "execution_count": 61,
   "id": "dc8b085a-581b-4f76-a76d-46a3adfaca1f",
   "metadata": {},
   "outputs": [
    {
     "name": "stdout",
     "output_type": "stream",
     "text": [
      "김예진 : 90\n",
      "박영진 : 95\n",
      "김소희 : 84\n",
      "합계 : 269, 평균 : 89.67\n"
     ]
    }
   ],
   "source": [
    "scores = {'김예진': 90, '박영진': 95, '김소희': 84}\n",
    "sum = 0 \n",
    "for key in scores :\n",
    "    sum += scores[key]\n",
    "    print('%s : %d' % (key , scores[key])) \n",
    "avg = sum/len(scores)\n",
    "print('합계 : %d, 평균 : %.2f' % (sum, avg ))"
   ]
  },
  {
   "cell_type": "code",
   "execution_count": 82,
   "id": "136322db-680f-4b58-bd56-0b9accb0a86a",
   "metadata": {},
   "outputs": [
    {
     "name": "stdout",
     "output_type": "stream",
     "text": [
      "{'갤럭시 노트8': 2017, '갤럭시 S9': 2018, '갤럭시 노트10': 2019, '갤럭시 S20': 2020}\n",
      "갤럭시 노트8 => 2017\n",
      "갤럭시 S9 => 2018\n",
      "갤럭시 노트10 => 2019\n",
      "갤럭시 S20 => 2020\n",
      "4\n"
     ]
    }
   ],
   "source": [
    "phones = {'갤럭시 노트8': 2017, '갤럭시 S9': 2018, \n",
    "'갤럭시 노트10': 2019, '갤럭시 S20': 2020}\n",
    "print(phones)\n",
    "for key in phones :\n",
    "    print('%s => %s' % (key, phones[key]))\n",
    "print(len(phones))"
   ]
  },
  {
   "cell_type": "code",
   "execution_count": 90,
   "id": "eb852c2b-032f-49ac-8880-f770e1569fdd",
   "metadata": {},
   "outputs": [
    {
     "name": "stdout",
     "output_type": "stream",
     "text": [
      "{'갤럭시 노트8': 2017, '갤럭시 S9': 2018, '갤럭시 노트10': 2019, '갤럭시 S20': 2020}\n",
      "dict_items([('갤럭시 노트8', 2017), ('갤럭시 S9', 2018), ('갤럭시 노트10', 2019), ('갤럭시 S20', 2020)])\n",
      "dict_keys(['갤럭시 노트8', '갤럭시 S9', '갤럭시 노트10', '갤럭시 S20'])\n",
      "dict_values([2017, 2018, 2019, 2020])\n",
      "갤럭시 노트8 => 2017\n",
      "갤럭시 S9 => 2018\n",
      "갤럭시 노트10 => 2019\n",
      "갤럭시 S20 => 2020\n",
      "4\n"
     ]
    }
   ],
   "source": [
    "phones = {'갤럭시 노트8': 2017, '갤럭시 S9': 2018, \n",
    "'갤럭시 노트10': 2019, '갤럭시 S20': 2020}\n",
    "print(phones)\n",
    "print(phones.items())   #list type 결과값은 리스트이지만 안에 내장것들은 튜플형식으로 되있다\n",
    "print(phones.keys())\n",
    "print(phones.values())\n",
    "for key in phones :\n",
    "    print('%s => %s' % (key, phones[key]))\n",
    "print(len(phones))"
   ]
  },
  {
   "cell_type": "code",
   "execution_count": 112,
   "id": "478d51c2-aac0-4194-a7b9-eb527818fa66",
   "metadata": {},
   "outputs": [
    {
     "name": "stdout",
     "output_type": "stream",
     "text": [
      "None\n",
      "['apple', 'orange', 'cherry', 'banana', 'melon', 'strawberry']\n",
      "None\n",
      "['apple', 'orange', 'cherry', 'banana', 'melon', 'strawberry', 'watermelon', 'watermelon2']\n",
      "['apple', 'orange', 'cherry', 'banana', 'melon', 'strawberry', 'watermelon', 'watermelon2', 'g', 'r', 'a', 'p', 'e']\n"
     ]
    }
   ],
   "source": [
    "#expend()를 잘못쓰는경우\n",
    "list1 = ['apple', 'orange', 'cherry'] \n",
    "list2 = ['banana', 'melon', 'strawberry'] \n",
    "list3 = [1,2,3]\n",
    "list4 = [4,5,6] \n",
    "list5=list1.extend(list2)\n",
    "print(list5)\n",
    "print(list1)\n",
    "list5=list1.append('watermelon')\n",
    "print(list5)\n",
    "list1.append('watermelon2')\n",
    "print(list1)\n",
    "list1.extend('grape')\n",
    "print(list1)  #liist 형식으로 g r a p e 로 쪼개져서 병합이 된다"
   ]
  },
  {
   "cell_type": "code",
   "execution_count": 120,
   "id": "95df66da-fa86-4118-add5-ff49ede1e28a",
   "metadata": {},
   "outputs": [
    {
     "name": "stdout",
     "output_type": "stream",
     "text": [
      "['apple', 'orange', 'cherry', 'banana', 'melon', 'strawberry']\n",
      "['apple', 'orange', 'cherry', 'banana', 'melon', 'strawberry']\n",
      "['banana', 'melon', 'strawberry']\n"
     ]
    }
   ],
   "source": [
    "list1 = ['apple', 'orange', 'cherry'] \n",
    "list2 = ['banana', 'melon', 'strawberry'] \n",
    "list3 = [1,2,3]\n",
    "list4 = [4,5,6] \n",
    "list1.extend(list2)\n",
    "list5=list1\n",
    "print(list5)\n",
    "print(list1) # 이미 병합 되있는 상태\n",
    "print(list2)"
   ]
  },
  {
   "cell_type": "code",
   "execution_count": 124,
   "id": "0f084324-5f65-42c6-b375-804592e334d4",
   "metadata": {},
   "outputs": [
    {
     "name": "stdout",
     "output_type": "stream",
     "text": [
      "7은(는) 홀수이다.\n",
      "16은(는) 짝수이다.\n"
     ]
    }
   ],
   "source": [
    "def even_odd(num) :\n",
    "    if num % 2 == 0 :\n",
    "        print('%d은(는) 짝수이다.' % num)\n",
    "    else :\n",
    "        print('%d은(는) 홀수이다.' % num)\n",
    "even_odd(7)\n",
    "even_odd(16)"
   ]
  },
  {
   "cell_type": "code",
   "execution_count": 17,
   "id": "4c008fd2-fbb0-4233-8b9e-924b2639991a",
   "metadata": {},
   "outputs": [
    {
     "name": "stdout",
     "output_type": "stream",
     "text": [
      "메인 : x =  10 , id = 140717803518680\n",
      "func() : x =  100 , id = 140717803521560\n",
      "y= 20\n",
      "y= 50\n",
      "메인 : x =  10 , id = 140717803518680\n"
     ]
    }
   ],
   "source": [
    "# 서브 루틴 : func() 함수 \n",
    "def func(x) :\n",
    "    x = 100\n",
    "    global y  #static memory(공유데이터)에 있는 y값을 쓰기 위해 글로벌을 써서 가져옴\n",
    "    print('func() : x = ', x, ', id =', id(x))\n",
    "    print('y=',y)\n",
    "    y=y+30\n",
    "    print('y=',y)\n",
    "# 메인 루틴\n",
    "x = 10\n",
    "y = 20\n",
    "print('메인 : x = ', x, ', id =', id(x))\n",
    "func(x)\n",
    "print('메인 : x = ', x, ', id =', id(x))"
   ]
  },
  {
   "cell_type": "code",
   "execution_count": 19,
   "id": "52ab1199-48fd-4582-8c8b-3e80abe7654a",
   "metadata": {},
   "outputs": [
    {
     "name": "stdout",
     "output_type": "stream",
     "text": [
      "메인 : x =  [1, 2, 3] , id = 1333162631872\n",
      "func() : x =  [100, 2, 3] , id = 1333162631872\n",
      "메인 : x =  [100, 2, 3] , id = 1333162631872\n"
     ]
    }
   ],
   "source": [
    "# 서브 루틴 : func() 함수  리스트의 경우 주소를 보내주기 떄문에 출력값에서 변수와 메인의 id가 다름\n",
    "def func(x) :\n",
    "    x[0] = 100\n",
    "    print('func() : x = ', x, ', id =', id(x))\n",
    "# 메인 루틴\n",
    "x = [1, 2, 3]\n",
    "print('메인 : x = ', x, ', id =', id(x))\n",
    "func(x)\n",
    "print('메인 : x = ', x, ', id =', id(x))"
   ]
  },
  {
   "cell_type": "code",
   "execution_count": 21,
   "id": "49662496-f3c5-4ab1-975e-1b2a2d935eaf",
   "metadata": {},
   "outputs": [
    {
     "name": "stdin",
     "output_type": "stream",
     "text": [
      "원의 반지름을 입력하세요 :  10\n"
     ]
    },
    {
     "name": "stdout",
     "output_type": "stream",
     "text": [
      "반지름 : 10, 원의 면적 : 314.00\n"
     ]
    },
    {
     "name": "stdin",
     "output_type": "stream",
     "text": [
      "원의 반지름을 입력하세요 :  20\n"
     ]
    },
    {
     "name": "stdout",
     "output_type": "stream",
     "text": [
      "반지름 : 20, 원의 면적 : 1256.00\n"
     ]
    }
   ],
   "source": [
    "def circle_area(r) :\n",
    "    area = r * r * 3.14 \n",
    "    return area\n",
    "radius = int(input('원의 반지름을 입력하세요 : '))\n",
    "result = circle_area(radius)\n",
    "print('반지름 : %d, 원의 면적 : %.2f' % (radius, result))\n",
    "radius = int(input('원의 반지름을 입력하세요 : '))\n",
    "result = circle_area(radius)\n",
    "print('반지름 : %d, 원의 면적 : %.2f' % (radius, result))\n"
   ]
  },
  {
   "cell_type": "code",
   "execution_count": 66,
   "id": "b8689acd-ec4b-45ea-bbfa-5025712539d1",
   "metadata": {},
   "outputs": [
    {
     "name": "stdout",
     "output_type": "stream",
     "text": [
      "10 ~ 100의 정수 합계 : 5005\n",
      "100 ~ 1000의 정수 합계 : 495550\n",
      "1000 ~ 10000의 정수 합계 : 49505500\n"
     ]
    }
   ],
   "source": [
    "def sum(start,end) :\n",
    "    total = 0\n",
    "    for i in range(start, end+1) :\n",
    "        total += i\n",
    "    print('%d ~ %d의 정수 합계 : %d' % (start, end, total))\n",
    "sum(10, 100) \n",
    "sum(100, 1000) \n",
    "sum(1000, 10000)"
   ]
  },
  {
   "cell_type": "code",
   "execution_count": 64,
   "id": "bc65c7a6-b31e-4291-8d25-5a303ddfd1d4",
   "metadata": {},
   "outputs": [
    {
     "name": "stdout",
     "output_type": "stream",
     "text": [
      "[1, 2, 3] 1333163065600\n",
      "[1, 2, 3] 1333163077312\n"
     ]
    }
   ],
   "source": [
    "#리스트의 깊은 복사 슬라이싱과 copy를 썼을때는 주소가 달라진다\n",
    "#깊은 복사는 새로운 공간에 계속적으로 만들기 때문에 공간복잡도가 높아진다\n",
    "num1=[1,2,3]\n",
    "print(num1,id(num1))\n",
    "num2=num1.copy()\n",
    "print(num2,id(num2))"
   ]
  },
  {
   "cell_type": "code",
   "execution_count": 68,
   "id": "ffef21fd-a5f4-440b-9ce2-3cd967fca2b8",
   "metadata": {},
   "outputs": [
    {
     "name": "stdout",
     "output_type": "stream",
     "text": [
      "25\n",
      "100\n"
     ]
    }
   ],
   "source": [
    "#def x(a):           매개변수는 x 왼쪽의 a 를 넣고 오른쪽a++2의 결과를 준다\n",
    "#    return a**2        함수식의 간소화 or 함수의 매개변수로 다른변수를 넘길때\n",
    "\n",
    "x = lambda a : a**2\n",
    "\n",
    "print(x(5))\n",
    "print(x(10))"
   ]
  },
  {
   "cell_type": "code",
   "execution_count": 94,
   "id": "740092e8-47f5-40fa-b713-cf6fe1b9d6ab",
   "metadata": {},
   "outputs": [
    {
     "name": "stdout",
     "output_type": "stream",
     "text": [
      "30\n",
      "100\n"
     ]
    }
   ],
   "source": [
    "f = lambda x, y, z : x + y + z\n",
    "print(f(10, 20, 30))\n",
    "def mul(n) :\n",
    "   return lambda x : x * n\n",
    "#mul=lambda n: lambda x:x*n\n",
    "sum=lambda x:x*n\n",
    "g = mul(3)\n",
    "h = mul(5)\n",
    "print(g(10))\n",
    "print(h(20))"
   ]
  },
  {
   "cell_type": "code",
   "execution_count": 74,
   "id": "49e8268a-e21d-4964-b797-6ead79a303a4",
   "metadata": {},
   "outputs": [
    {
     "name": "stdout",
     "output_type": "stream",
     "text": [
      "60\n"
     ]
    }
   ],
   "source": [
    "def f(x,y,z):\n",
    "    return x+y+z\n",
    "    "
   ]
  },
  {
   "cell_type": "code",
   "execution_count": 96,
   "id": "4d72f681-4bc6-46d2-a9a5-7b19de1df421",
   "metadata": {},
   "outputs": [
    {
     "name": "stdout",
     "output_type": "stream",
     "text": [
      "10\n",
      "10\n"
     ]
    }
   ],
   "source": [
    "#공간복잡도 global 과 따로 선언했을때 질문\n",
    "def func() :\n",
    "    global x  \n",
    "    x = 10\n",
    "    print(x)\n",
    "func()\n",
    "print(x)"
   ]
  },
  {
   "cell_type": "code",
   "execution_count": 98,
   "id": "cfb0d64c-e240-41d3-8de5-7c2698f30a44",
   "metadata": {},
   "outputs": [
    {
     "name": "stdout",
     "output_type": "stream",
     "text": [
      "10\n",
      "140717803518680\n",
      "10\n",
      "140717803518680\n"
     ]
    }
   ],
   "source": [
    "def func() :\n",
    "    print(x)\n",
    "    print(id(x))\n",
    "x = 10\n",
    "print(x)\n",
    "print(id(x))\n",
    "func()"
   ]
  },
  {
   "cell_type": "code",
   "execution_count": 17,
   "id": "80e4f726-80a7-408c-b394-6ce245a36827",
   "metadata": {},
   "outputs": [
    {
     "name": "stdout",
     "output_type": "stream",
     "text": [
      "10\n",
      "140717803518680\n",
      "100\n",
      "140717803521560\n",
      "100\n",
      "140717803521560\n"
     ]
    }
   ],
   "source": [
    "def func() :\n",
    "    global x\n",
    "    x=100\n",
    "    print(x)\n",
    "    print(id(x))\n",
    "x=10\n",
    "print(x)\n",
    "print(id(x))\n",
    "func()\n",
    "print(x)\n",
    "print(id(x))\n"
   ]
  },
  {
   "cell_type": "code",
   "execution_count": null,
   "id": "309d749b-8b61-4ed7-b637-f757ecd51835",
   "metadata": {},
   "outputs": [],
   "source": []
  }
 ],
 "metadata": {
  "kernelspec": {
   "display_name": "Python 3 (ipykernel)",
   "language": "python",
   "name": "python3"
  },
  "language_info": {
   "codemirror_mode": {
    "name": "ipython",
    "version": 3
   },
   "file_extension": ".py",
   "mimetype": "text/x-python",
   "name": "python",
   "nbconvert_exporter": "python",
   "pygments_lexer": "ipython3",
   "version": "3.12.4"
  }
 },
 "nbformat": 4,
 "nbformat_minor": 5
}
