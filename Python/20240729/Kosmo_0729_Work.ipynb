{
 "cells": [
  {
   "cell_type": "code",
   "execution_count": 5,
   "id": "1d22c4b3-9da3-4e67-b5b2-8a4f971cce02",
   "metadata": {},
   "outputs": [
    {
     "name": "stdout",
     "output_type": "stream",
     "text": [
      "구구단표\n",
      "------------------------------\n",
      "2 x 1 = 2\n",
      "2 x 2 = 4\n",
      "2 x 3 = 6\n",
      "2 x 4 = 8\n",
      "2 x 5 = 10\n",
      "2 x 6 = 12\n",
      "2 x 7 = 14\n",
      "2 x 8 = 16\n",
      "2 x 9 = 18\n",
      "3 x 1 = 3\n",
      "3 x 2 = 6\n",
      "3 x 3 = 9\n",
      "3 x 4 = 12\n",
      "3 x 5 = 15\n",
      "3 x 6 = 18\n",
      "3 x 7 = 21\n",
      "3 x 8 = 24\n",
      "3 x 9 = 27\n",
      "4 x 1 = 4\n",
      "4 x 2 = 8\n",
      "4 x 3 = 12\n",
      "4 x 4 = 16\n",
      "4 x 5 = 20\n",
      "4 x 6 = 24\n",
      "4 x 7 = 28\n",
      "4 x 8 = 32\n",
      "4 x 9 = 36\n",
      "5 x 1 = 5\n",
      "5 x 2 = 10\n",
      "5 x 3 = 15\n",
      "5 x 4 = 20\n",
      "5 x 5 = 25\n",
      "5 x 6 = 30\n",
      "5 x 7 = 35\n",
      "5 x 8 = 40\n",
      "5 x 9 = 45\n",
      "6 x 1 = 6\n",
      "6 x 2 = 12\n",
      "6 x 3 = 18\n",
      "6 x 4 = 24\n",
      "6 x 5 = 30\n",
      "6 x 6 = 36\n",
      "6 x 7 = 42\n",
      "6 x 8 = 48\n",
      "6 x 9 = 54\n",
      "7 x 1 = 7\n",
      "7 x 2 = 14\n",
      "7 x 3 = 21\n",
      "7 x 4 = 28\n",
      "7 x 5 = 35\n",
      "7 x 6 = 42\n",
      "7 x 7 = 49\n",
      "7 x 8 = 56\n",
      "7 x 9 = 63\n",
      "8 x 1 = 8\n",
      "8 x 2 = 16\n",
      "8 x 3 = 24\n",
      "8 x 4 = 32\n",
      "8 x 5 = 40\n",
      "8 x 6 = 48\n",
      "8 x 7 = 56\n",
      "8 x 8 = 64\n",
      "8 x 9 = 72\n",
      "9 x 1 = 9\n",
      "9 x 2 = 18\n",
      "9 x 3 = 27\n",
      "9 x 4 = 36\n",
      "9 x 5 = 45\n",
      "9 x 6 = 54\n",
      "9 x 7 = 63\n",
      "9 x 8 = 72\n",
      "9 x 9 = 81\n",
      "------------------------------\n"
     ]
    }
   ],
   "source": [
    "#Q6-1 튜플로 구구단표 만들기\n",
    "dans = (2, 3, 4, 5, 6, 7, 8, 9)\n",
    "print('구구단표') \n",
    "print('-' * 30)\n",
    "for dan in dans :\n",
    "    for i in range(1, 10) :\n",
    "        print('%d x %d = %d' % (dan, i , dan*i))\n",
    "print('-' * 30)"
   ]
  },
  {
   "cell_type": "code",
   "execution_count": 9,
   "id": "8ad3bbf3-2463-4812-a2f1-68bcc08f583c",
   "metadata": {},
   "outputs": [
    {
     "name": "stdin",
     "output_type": "stream",
     "text": [
      "관리자 아이디를 입력하세요 :  rubato@naver.com\n",
      "관리자 비밀번호를 입력하세요 :  12345\n"
     ]
    },
    {
     "name": "stdout",
     "output_type": "stream",
     "text": [
      "아이디 또는 비밀번호가 잘못 입력되었습니다.\n"
     ]
    }
   ],
   "source": [
    "#Q6-2 튜플로 관리자 정보 처리하기\n",
    "admin_info = ('admin', '12345', 'rubato@naver.com')\n",
    "id = input('관리자 아이디를 입력하세요 : ') \n",
    "password = input('관리자 비밀번호를 입력하세요 : ')\n",
    "if id == admin_info[0] and password == admin_info[1] :\n",
    "    print('관리자입니다.') \n",
    "else :\n",
    "    print('아이디 또는 비밀번호가 잘못 입력되었습니다.')"
   ]
  },
  {
   "cell_type": "code",
   "execution_count": 33,
   "id": "ad2ce456-a030-4284-ad42-f6fd0bcb549c",
   "metadata": {},
   "outputs": [
    {
     "name": "stdout",
     "output_type": "stream",
     "text": [
      "김예진 : 90\n",
      "박영진 : 95\n",
      "김소희 : 84\n",
      "합계 : 269, 평균 : 89.67\n"
     ]
    }
   ],
   "source": [
    "#Q6-3 딕셔너리로 성적 합계/평균 구하기\n",
    "scores = {'김예진': 90, '박영진': 95, '김소희': 84}\n",
    "sum = 0 \n",
    "for key in scores :\n",
    "    sum += scores[key]\n",
    "    print('%s : %d' % (key , scores[key])) \n",
    "avg = sum/len(scores)\n",
    "print('합계 : %d, 평균 : %.2f' % (sum, avg ))"
   ]
  },
  {
   "cell_type": "code",
   "execution_count": 45,
   "id": "b4c3d07e-cd92-4a5a-99e7-fa5a56d6cd28",
   "metadata": {},
   "outputs": [
    {
     "name": "stdin",
     "output_type": "stream",
     "text": [
      "아이디를 입력하세요:  admin\n",
      "비밀번호를 입력하세요:  11111\n"
     ]
    },
    {
     "name": "stdout",
     "output_type": "stream",
     "text": [
      "모든 정보에 접근 가능합니다!\n"
     ]
    }
   ],
   "source": [
    "#Q6-4 딕셔너리로 정보 접근 제어하기\n",
    "ad = {'id':'admin', 'password':'11111'}\n",
    "in_id = input('아이디를 입력하세요: ') \n",
    "in_password = input('비밀번호를 입력하세요: ')\n",
    "if (in_id == ad.get('id') and in_password == ad.get('password')) :\n",
    "    print('모든 정보에 접근 가능합니다!') \n",
    "else :\n",
    "    print('정보에 접근 권한이 없습니다!')\n"
   ]
  },
  {
   "cell_type": "code",
   "execution_count": 47,
   "id": "fc9ab23f-4177-428f-a970-d0c314d566a0",
   "metadata": {
    "scrolled": true
   },
   "outputs": [
    {
     "name": "stdin",
     "output_type": "stream",
     "text": [
      "사과에 해당되는 영어 단어를 입력해주세요:  apple\n"
     ]
    },
    {
     "name": "stdout",
     "output_type": "stream",
     "text": [
      "정답입니다!\n"
     ]
    },
    {
     "name": "stdin",
     "output_type": "stream",
     "text": [
      "컴퓨터에 해당되는 영어 단어를 입력해주세요:  comtre\n"
     ]
    },
    {
     "name": "stdout",
     "output_type": "stream",
     "text": [
      "틀렸습니다!\n"
     ]
    },
    {
     "name": "stdin",
     "output_type": "stream",
     "text": [
      "학교에 해당되는 영어 단어를 입력해주세요:  school\n"
     ]
    },
    {
     "name": "stdout",
     "output_type": "stream",
     "text": [
      "정답입니다!\n"
     ]
    },
    {
     "name": "stdin",
     "output_type": "stream",
     "text": [
      "책상에 해당되는 영어 단어를 입력해주세요:  dask\n"
     ]
    },
    {
     "name": "stdout",
     "output_type": "stream",
     "text": [
      "틀렸습니다!\n"
     ]
    },
    {
     "name": "stdin",
     "output_type": "stream",
     "text": [
      "의 자에 해당되는 영어 단어를 입력해주세요:  chair\n"
     ]
    },
    {
     "name": "stdout",
     "output_type": "stream",
     "text": [
      "정답입니다!\n"
     ]
    }
   ],
   "source": [
    "#Q6-5 딕셔너리로 영어 단어 퀴즈 만들기\n",
    "words = {'사과':'apple', '컴퓨터':'computer', '학교':'school', '책상':'desk', '의 자':'chair'}\n",
    "for key in words :\n",
    "    in_word = input('%s에 해당되는 영어 단어를 입력해주세요: ' % key)\n",
    "    if in_word == words[key] :\n",
    "        print('정답입니다!')\n",
    "    else :\n",
    "        print('틀렸습니다!')"
   ]
  },
  {
   "cell_type": "code",
   "execution_count": 71,
   "id": "e63cd80a-b9cb-4ea0-b9f0-10461adf4b92",
   "metadata": {},
   "outputs": [
    {
     "name": "stdout",
     "output_type": "stream",
     "text": [
      "10 ~ 100의 정수 합계 : 5005\n",
      "100 ~ 1000의 정수 합계 : 495550\n",
      "1000 ~ 10000의 정수 합계 : 49505500\n"
     ]
    }
   ],
   "source": [
    "#Q7-1 함수로 정수 합계 구하기\n",
    "def sum(start, end) :\n",
    "    total = 0\n",
    "    for i in range(start, end+1) :\n",
    "        total += i\n",
    "    print('%d ~ %d의 정수 합계 : %d' % (start, end, total))\n",
    "sum(10, 100) \n",
    "sum(100, 1000) \n",
    "sum(1000, 10000)"
   ]
  },
  {
   "cell_type": "code",
   "execution_count": 96,
   "id": "3d0e3b96-c5c9-427b-a1bb-0a3a4d28db25",
   "metadata": {},
   "outputs": [
    {
     "name": "stdin",
     "output_type": "stream",
     "text": [
      "시작 수를 입력하세요:  10\n",
      "끝 수를 입력하세요:  100\n",
      "합계를 구할 배수를 입력하세요:  5\n"
     ]
    },
    {
     "name": "stdout",
     "output_type": "stream",
     "text": [
      "10 ~ 100의 정수 중 5의 배수의 합 : 1045\n"
     ]
    }
   ],
   "source": [
    "#Q7-2 함수로 배수 합계 구하기\n",
    "def sum_besu(n1,n2,num) : \n",
    "    sum = 0\n",
    "    for i in range(n1,n2+1) :\n",
    "        if i % num == 0 :\n",
    "            sum += i\n",
    "    return sum\n",
    "start = int(input('시작 수를 입력하세요: ')) \n",
    "end = int(input('끝 수를 입력하세요: ')) \n",
    "besu = int(input('합계를 구할 배수를 입력하세요: '))\n",
    "result = sum_besu(start, end, besu)\n",
    "print('%d ~ %d의 정수 중 %d의 배수의 합 : %d' % (start, end, besu, result))\n"
   ]
  },
  {
   "cell_type": "code",
   "execution_count": 106,
   "id": "c0df9fdb-ff11-472c-b5a1-10f476b54559",
   "metadata": {},
   "outputs": [
    {
     "name": "stdin",
     "output_type": "stream",
     "text": [
      "첫 번째 수를 입력하세요:  33\n",
      "두 번째 수를 입력하세요:  44\n"
     ]
    },
    {
     "name": "stdout",
     "output_type": "stream",
     "text": [
      "33과(와) 44의 최대공약수 : 11\n"
     ]
    }
   ],
   "source": [
    "#Q7-3 함수로 최대공약수 구하기\n",
    "def computeMaxGong(x,y):\n",
    "    if x > y:\n",
    "        small = y\n",
    "    else:\n",
    "        small = x\n",
    "    for i in range(1,small+1):\n",
    "        if((x % i == 0) and (y % i == 0)):\n",
    "            result = i \n",
    "    return result\n",
    "num1 = int(input(\"첫 번째 수를 입력하세요: \")) \n",
    "num2 = int(input(\"두 번째 수를 입력하세요: \"))\n",
    "max_gong = computeMaxGong(num1, num2)\n",
    "print('%d과(와) %d의 최대공약수 : %d' % (num1, num2,max_gong))"
   ]
  },
  {
   "cell_type": "code",
   "execution_count": 134,
   "id": "68cf7126-6abc-40f5-971c-53eb7ea30ca7",
   "metadata": {},
   "outputs": [
    {
     "name": "stdin",
     "output_type": "stream",
     "text": [
      "오렌지에 맞는 영어 단어는?  orange\n"
     ]
    },
    {
     "name": "stdout",
     "output_type": "stream",
     "text": [
      "맞습니다!\n"
     ]
    },
    {
     "name": "stdin",
     "output_type": "stream",
     "text": [
      "과자에 맞는 영어 단어는?  cookie\n"
     ]
    },
    {
     "name": "stdout",
     "output_type": "stream",
     "text": [
      "맞습니다!\n"
     ]
    },
    {
     "name": "stdin",
     "output_type": "stream",
     "text": [
      "어머니에 맞는 영어 단어는?  akwj\n"
     ]
    },
    {
     "name": "stdout",
     "output_type": "stream",
     "text": [
      "틀렸습니다!\n"
     ]
    },
    {
     "name": "stdin",
     "output_type": "stream",
     "text": [
      "형 제에 맞는 영어 단어는?  vkfj\n"
     ]
    },
    {
     "name": "stdout",
     "output_type": "stream",
     "text": [
      "틀렸습니다!\n"
     ]
    },
    {
     "name": "stdin",
     "output_type": "stream",
     "text": [
      "파이썬에 맞는 영어 단어는?  slsl\n"
     ]
    },
    {
     "name": "stdout",
     "output_type": "stream",
     "text": [
      "틀렸습니다!\n"
     ]
    }
   ],
   "source": [
    "#Q7-4 함수로 만드는 영어단어 퀴즈\n",
    "def matchWord(word, answer) :\n",
    "    if word == answer :\n",
    "        msg = '맞습니다!'\n",
    "    else :\n",
    "        msg = '틀렸습니다!' \n",
    "    return msg\n",
    "    \n",
    "eng_dict = {'orange':'오렌지', 'cookie':'과자', 'mother':'어머니', 'brother':'형 제', 'python':'파이썬'} \n",
    "for key in eng_dict :\n",
    "    string = input(eng_dict[key] + '에 맞는 영어 단어는? ') \n",
    "    result = matchWord(string, key)\n",
    "    print(result)\n",
    "    "
   ]
  },
  {
   "cell_type": "code",
   "execution_count": 140,
   "id": "d671a4d1-d369-4652-bd6c-0bcc7af7f234",
   "metadata": {},
   "outputs": [
    {
     "name": "stdin",
     "output_type": "stream",
     "text": [
      "첫 번째 수를 입력하세요:  33\n",
      "두 번째 수를 입력하세요:  77\n",
      "세 번째 수를 입력하세요:  -55\n"
     ]
    },
    {
     "name": "stdout",
     "output_type": "stream",
     "text": [
      "33, 77, -55 중 가장 큰 수 : 77\n"
     ]
    }
   ],
   "source": [
    "#Q7-5 함수로 세 수 중 큰 수 찾기\n",
    "def maxTwo(i, j):\n",
    "    if i > j:\n",
    "        return i\n",
    "    else :\n",
    "        return j\n",
    "def maxThree(x, y, z) :\n",
    "    max1 = maxTwo(x, y) \n",
    "    max2 = maxTwo(y, z)\n",
    "    if max1 > max2 :\n",
    "        largest = max1\n",
    "    else :\n",
    "        largest = max2 \n",
    "    return largest \n",
    "a = int(input('첫 번째 수를 입력하세요: ')) \n",
    "b = int(input('두 번째 수를 입력하세요: ')) \n",
    "c = int(input('세 번째 수를 입력하세요: '))\n",
    "max_num =maxThree(a, b, c) \n",
    "print('%d, %d, %d 중 가장 큰 수 : %d' % (a, b, c, max_num))"
   ]
  },
  {
   "cell_type": "code",
   "execution_count": null,
   "id": "a217ca44-d9db-4b9e-82df-e32c17bff7c8",
   "metadata": {},
   "outputs": [],
   "source": []
  }
 ],
 "metadata": {
  "kernelspec": {
   "display_name": "Python 3 (ipykernel)",
   "language": "python",
   "name": "python3"
  },
  "language_info": {
   "codemirror_mode": {
    "name": "ipython",
    "version": 3
   },
   "file_extension": ".py",
   "mimetype": "text/x-python",
   "name": "python",
   "nbconvert_exporter": "python",
   "pygments_lexer": "ipython3",
   "version": "3.12.4"
  }
 },
 "nbformat": 4,
 "nbformat_minor": 5
}
