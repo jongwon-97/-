{
 "cells": [
  {
   "cell_type": "code",
   "execution_count": null,
   "id": "a7caa32f-ca09-4462-89ba-6ab1aab47a47",
   "metadata": {},
   "outputs": [
    {
     "name": "stdout",
     "output_type": "stream",
     "text": [
      "==================================================\n"
     ]
    },
    {
     "name": "stdin",
     "output_type": "stream",
     "text": [
      "게임 입력 범위를 지정해주세요. 50\n"
     ]
    },
    {
     "name": "stdout",
     "output_type": "stream",
     "text": [
      "==================================================\n"
     ]
    },
    {
     "name": "stdin",
     "output_type": "stream",
     "text": [
      "아무숫자나 입력해주세요. 25\n"
     ]
    },
    {
     "name": "stdout",
     "output_type": "stream",
     "text": [
      "Down\n",
      "------------------------------\n"
     ]
    },
    {
     "name": "stdin",
     "output_type": "stream",
     "text": [
      "아무숫자나 입력해주세요. 17\n"
     ]
    },
    {
     "name": "stdout",
     "output_type": "stream",
     "text": [
      "Up\n",
      "------------------------------\n"
     ]
    },
    {
     "name": "stdin",
     "output_type": "stream",
     "text": [
      "아무숫자나 입력해주세요. 20\n"
     ]
    },
    {
     "name": "stdout",
     "output_type": "stream",
     "text": [
      "Up\n",
      "------------------------------\n"
     ]
    },
    {
     "name": "stdin",
     "output_type": "stream",
     "text": [
      "아무숫자나 입력해주세요. 23\n"
     ]
    },
    {
     "name": "stdout",
     "output_type": "stream",
     "text": [
      "Up\n",
      "------------------------------\n"
     ]
    },
    {
     "name": "stdin",
     "output_type": "stream",
     "text": [
      "아무숫자나 입력해주세요. 24\n"
     ]
    },
    {
     "name": "stdout",
     "output_type": "stream",
     "text": [
      "축하합니다 정답24을 맞추셨습니다!!총5회 걸렸습니다.\n"
     ]
    }
   ],
   "source": [
    "# 조건1)(1~n) 까지의 범위 입력\n",
    "# 1~n까지의 값중 random값을 answer에 저장\n",
    "# 조건2) 사용자가 값을 입력하면 up down출력\n",
    "# 조건3) 답을 맞출때까지 반복\n",
    "# 조건4) 정답을 맞춘경우 정답과 함께 시도 횟수 출력\n",
    "# \"축하합니다 20번만에 정답30번을 맞추셨습니다\"\n",
    "# 실행 파일 카페에 배포 \n",
    "import random\n",
    "print(\"=\"*50)\n",
    "n = int(input(\"게임 입력 범위를 지정해주세요.\"))\n",
    "print(\"=\"*50)\n",
    "\n",
    "answer = random.randint(1,n)\n",
    "count=0\n",
    "while True:\n",
    "    a=int(input(\"아무숫자나 입력해주세요.\"))\n",
    "    count+=1\n",
    "    \n",
    "    if answer>a:   \n",
    "        print(\"Up!\")\n",
    "    elif answer<a:\n",
    "        print(\"Down!\")\n",
    "    else: \n",
    "        print(\"축하합니다 정답%d을 맞추셨습니다!!총%d회 걸렸습니다.\"%(answer,count))\n",
    "        restart = input(\"다시 시작하시려면 restart를 눌러주세요.종료는 아무키나 눌러주세요.\")\n",
    "        if restart != \"restart\": \n",
    "            break \n",
    "        print(\"=\"*50)\n",
    "        n = int(input(\"게임 입력 범위를 지정해주세요.\"))\n",
    "        print(\"=\"*50)\n",
    "        answer = random.randint(1,n)\n",
    "        count=0\n",
    "    print(\"-\" *30)"
   ]
  },
  {
   "cell_type": "code",
   "execution_count": null,
   "id": "684b5fdb-5c2f-4527-b7cf-98caebcb13cc",
   "metadata": {},
   "outputs": [],
   "source": []
  }
 ],
 "metadata": {
  "kernelspec": {
   "display_name": "Python 3 (ipykernel)",
   "language": "python",
   "name": "python3"
  },
  "language_info": {
   "codemirror_mode": {
    "name": "ipython",
    "version": 3
   },
   "file_extension": ".py",
   "mimetype": "text/x-python",
   "name": "python",
   "nbconvert_exporter": "python",
   "pygments_lexer": "ipython3",
   "version": "3.12.4"
  }
 },
 "nbformat": 4,
 "nbformat_minor": 5
}
