{
 "cells": [
  {
   "cell_type": "code",
   "execution_count": 7,
   "id": "6470bacb-eb50-41ea-a3c0-03a54462d144",
   "metadata": {},
   "outputs": [
    {
     "name": "stdout",
     "output_type": "stream",
     "text": [
      "김영진님 안녕하세요.\n",
      "10.0\n",
      "제 나이는 25 입니다.\n",
      "박소정님 반갑습니다.\n",
      "10.0\n",
      "한은정님 만나서 반가워요.\n",
      "제 나이는 100 입니다.\n",
      "0.8939966636005579\n",
      "한은정님 반갑습니다.\n",
      "10.0 0.8414709848078965\n"
     ]
    }
   ],
   "source": [
    "import greet\n",
    "import math\n",
    "print(greet.hello1('김영진'))\n",
    "print(math.sqrt(100))\n",
    "print(greet.sqrt(25))\n",
    "\n",
    "import greet as gr  #greet 를 as 를 사용해 gr 로 지칭\n",
    "import math as m\n",
    "print(gr.hello2('박소정'))\n",
    "print(m.sqrt(100))\n",
    "\n",
    "from greet import hello3\n",
    "from math import sqrt     #math 모듈로부터 sqrt 만 import 한다는뜻 앞에 모듈명을 안써도 된다 만약 sin을 쓰고싶다면 \n",
    "from greet import sqrt     #정의를 한번 더 해줘야 한다 \n",
    "from math import sin      #만약 다른쪽에 있는 sqrt 를 쓰고싶다면\n",
    "                          #import greet as gr\n",
    "                          #import math as m 을  해서 gr.sqrt m.sqrt 를 구분해서 써준다. \n",
    "print(hello3('한은정'))\n",
    "print(sqrt(100))\n",
    "print(sin(90))\n",
    "\n",
    "from greet import *      #import greet \n",
    "from math import *       #import math   복잡도 기능은 동일하다 다만 함수를 바로 쓸수가 있다 \n",
    "print(hello2('한은정'))\n",
    "print(sqrt(100), sin(1))\n"
   ]
  },
  {
   "cell_type": "code",
   "execution_count": 125,
   "id": "d98137f3-32d4-4191-b7dc-499c4a1ac508",
   "metadata": {},
   "outputs": [
    {
     "name": "stdout",
     "output_type": "stream",
     "text": [
      "floor(7.7) : 7\n",
      "ceil(10.1) : 11\n"
     ]
    },
    {
     "ename": "AttributeError",
     "evalue": "module 'math' has no attribute 'round'",
     "output_type": "error",
     "traceback": [
      "\u001b[1;31m---------------------------------------------------------------------------\u001b[0m",
      "\u001b[1;31mAttributeError\u001b[0m                            Traceback (most recent call last)",
      "Cell \u001b[1;32mIn[125], line 4\u001b[0m\n\u001b[0;32m      2\u001b[0m \u001b[38;5;28mprint\u001b[39m(\u001b[38;5;124m'\u001b[39m\u001b[38;5;124mfloor(7.7) : \u001b[39m\u001b[38;5;132;01m%d\u001b[39;00m\u001b[38;5;124m'\u001b[39m \u001b[38;5;241m%\u001b[39m math\u001b[38;5;241m.\u001b[39mfloor(\u001b[38;5;241m7.7\u001b[39m))\n\u001b[0;32m      3\u001b[0m \u001b[38;5;28mprint\u001b[39m(\u001b[38;5;124m'\u001b[39m\u001b[38;5;124mceil(10.1) : \u001b[39m\u001b[38;5;132;01m%d\u001b[39;00m\u001b[38;5;124m'\u001b[39m \u001b[38;5;241m%\u001b[39m math\u001b[38;5;241m.\u001b[39mceil(\u001b[38;5;241m10.1\u001b[39m))\n\u001b[1;32m----> 4\u001b[0m \u001b[38;5;28mprint\u001b[39m(\u001b[38;5;124m'\u001b[39m\u001b[38;5;124mround(8.6) : \u001b[39m\u001b[38;5;132;01m%d\u001b[39;00m\u001b[38;5;124m'\u001b[39m \u001b[38;5;241m%\u001b[39m \u001b[43mmath\u001b[49m\u001b[38;5;241;43m.\u001b[39;49m\u001b[43mround\u001b[49m(\u001b[38;5;241m8.6\u001b[39m))  \u001b[38;5;66;03m#round 는 내장 함수이기 때문에 바로 써도 무방 math.round =오류..?  \u001b[39;00m\n\u001b[0;32m      5\u001b[0m \u001b[38;5;28mprint\u001b[39m(\u001b[38;5;124m'\u001b[39m\u001b[38;5;124m5의 팩토리얼 : \u001b[39m\u001b[38;5;132;01m%d\u001b[39;00m\u001b[38;5;124m'\u001b[39m \u001b[38;5;241m%\u001b[39m math\u001b[38;5;241m.\u001b[39mfactorial(\u001b[38;5;241m5\u001b[39m))\n",
      "\u001b[1;31mAttributeError\u001b[0m: module 'math' has no attribute 'round'"
     ]
    }
   ],
   "source": [
    "import math\n",
    "print('floor(7.7) : %d' % math.floor(7.7))\n",
    "print('ceil(10.1) : %d' % math.ceil(10.1))\n",
    "print('round(8.6) : %d' % math.round(8.6))   #round 는 내장 함수이기 때문에 바로 써도 무방 math.round()오류뜨는 이유 \n",
    "                                             #현재버전 파이썬에서는  math()모듈 안에 round 가 없고 내장으로만 쓰인다 \n",
    "                                             #다른버전에는 있을수도 있으니 파이썬 버전 확인 \n",
    "print('5의 팩토리얼 : %d' % math.factorial(5))"
   ]
  },
  {
   "cell_type": "code",
   "execution_count": 73,
   "id": "b5f747c2-dcde-486d-b9d3-5bef811221a4",
   "metadata": {},
   "outputs": [
    {
     "name": "stdout",
     "output_type": "stream",
     "text": [
      "0.47159617428200995\n",
      "0.6298941299673145\n",
      "0.9991441781663669\n"
     ]
    }
   ],
   "source": [
    "import random \n",
    "for i in range(3) :\n",
    "    print(random.random())"
   ]
  },
  {
   "cell_type": "code",
   "execution_count": 77,
   "id": "69d99520-fbde-47fe-9d39-240acdea57da",
   "metadata": {},
   "outputs": [
    {
     "name": "stdout",
     "output_type": "stream",
     "text": [
      "3\n",
      "2\n",
      "3\n",
      "5\n",
      "4\n"
     ]
    }
   ],
   "source": [
    "import random\n",
    "for i in range(5) :\n",
    "`print(random.randint(1, 6))"
   ]
  },
  {
   "cell_type": "code",
   "execution_count": 81,
   "id": "7a13d3fa-2145-4353-805a-86fd0a65bef2",
   "metadata": {},
   "outputs": [
    {
     "name": "stdout",
     "output_type": "stream",
     "text": [
      "가위\n",
      "보\n",
      "바위\n",
      "보\n",
      "가위\n"
     ]
    }
   ],
   "source": [
    "import random\n",
    "toss = ['가위', '바위', '보']\n",
    "for i in range(5) :\n",
    "    print(random.choice(toss))"
   ]
  },
  {
   "cell_type": "code",
   "execution_count": 107,
   "id": "6a0bfad3-9553-43b3-b345-94a09a81c2dd",
   "metadata": {},
   "outputs": [
    {
     "name": "stdout",
     "output_type": "stream",
     "text": [
      "['사과', '바나나', '오렌지']\n",
      "['사과', '바나나', '오렌지']\n",
      "['오렌지', '사과', '바나나']\n"
     ]
    }
   ],
   "source": [
    "import random\n",
    "fruits = ['사과', '바나나', '오렌지']\n",
    "for i in range(3) :\n",
    "    random.shuffle(fruits)\n",
    "    print(fruits)"
   ]
  },
  {
   "cell_type": "code",
   "execution_count": 89,
   "id": "94e2683d-78af-4850-83f0-f2b9c6e2f1e0",
   "metadata": {},
   "outputs": [
    {
     "name": "stdout",
     "output_type": "stream",
     "text": [
      "------------------------------\n",
      "주사위 던지기 : 1번째\n",
      "나 : 5\n",
      "컴퓨터 : 4\n",
      "나의 승리!\n"
     ]
    },
    {
     "name": "stdin",
     "output_type": "stream",
     "text": [
      "계속하려면 y를 입력하세요! y\n"
     ]
    },
    {
     "name": "stdout",
     "output_type": "stream",
     "text": [
      "------------------------------\n",
      "주사위 던지기 : 2번째\n",
      "나 : 4\n",
      "컴퓨터 : 1\n",
      "나의 승리!\n"
     ]
    },
    {
     "name": "stdin",
     "output_type": "stream",
     "text": [
      "계속하려면 y를 입력하세요! y\n"
     ]
    },
    {
     "name": "stdout",
     "output_type": "stream",
     "text": [
      "------------------------------\n",
      "주사위 던지기 : 3번째\n",
      "나 : 1\n",
      "컴퓨터 : 1\n",
      "무승부!\n"
     ]
    },
    {
     "name": "stdin",
     "output_type": "stream",
     "text": [
      "계속하려면 y를 입력하세요! y\n"
     ]
    },
    {
     "name": "stdout",
     "output_type": "stream",
     "text": [
      "------------------------------\n",
      "주사위 던지기 : 4번째\n",
      "나 : 4\n",
      "컴퓨터 : 3\n",
      "나의 승리!\n"
     ]
    },
    {
     "name": "stdin",
     "output_type": "stream",
     "text": [
      "계속하려면 y를 입력하세요! 2\n"
     ]
    }
   ],
   "source": [
    "import random\n",
    "again = 'y'\n",
    "count = 1\n",
    "while again =='y':\n",
    "    print('-' * 30)\n",
    "    print('주사위 던지기 : %d번째' % count)\n",
    "    me = random.randint(1, 6)\n",
    "    computer = random.randint(1, 6)\n",
    "    print('나 : %d' % me )\n",
    "    print('컴퓨터 : %d' % computer)\n",
    "    if me > computer :\n",
    "        print('나의 승리!')\n",
    "    elif me == computer :\n",
    "        print('무승부!')\n",
    "    else :\n",
    "        print('컴퓨터의 승리!')\n",
    "    count = count + 1\n",
    "    again = input('계속하려면 y를 입력하세요!')\n"
   ]
  },
  {
   "cell_type": "code",
   "execution_count": 121,
   "id": "9bdf0544-0dc9-4600-b911-c412e102879e",
   "metadata": {},
   "outputs": [
    {
     "name": "stdout",
     "output_type": "stream",
     "text": [
      "==============================\n",
      "가위 바위 보 게임\n",
      "==============================\n",
      "나 : 보\n",
      "당신 : 바위\n",
      "나의 승리입니다!\n",
      "------------------------------\n"
     ]
    },
    {
     "name": "stdin",
     "output_type": "stream",
     "text": [
      "계속하려면 y를 입력하세요! y\n"
     ]
    },
    {
     "name": "stdout",
     "output_type": "stream",
     "text": [
      "\n",
      "나 : 바위\n",
      "당신 : 바위\n",
      "무승부입니다!\n",
      "------------------------------\n"
     ]
    },
    {
     "name": "stdin",
     "output_type": "stream",
     "text": [
      "계속하려면 y를 입력하세요! y\n"
     ]
    },
    {
     "name": "stdout",
     "output_type": "stream",
     "text": [
      "\n",
      "나 : 가위\n",
      "당신 : 가위\n",
      "무승부입니다!\n",
      "------------------------------\n"
     ]
    },
    {
     "name": "stdin",
     "output_type": "stream",
     "text": [
      "계속하려면 y를 입력하세요! y\n"
     ]
    },
    {
     "name": "stdout",
     "output_type": "stream",
     "text": [
      "\n",
      "나 : 가위\n",
      "당신 : 보\n",
      "나의 승리입니다!\n",
      "------------------------------\n"
     ]
    },
    {
     "name": "stdin",
     "output_type": "stream",
     "text": [
      "계속하려면 y를 입력하세요! y\n"
     ]
    },
    {
     "name": "stdout",
     "output_type": "stream",
     "text": [
      "\n",
      "나 : 가위\n",
      "당신 : 바위\n",
      "당신의 승리입니다!\n",
      "------------------------------\n"
     ]
    },
    {
     "name": "stdin",
     "output_type": "stream",
     "text": [
      "계속하려면 y를 입력하세요! y\n"
     ]
    },
    {
     "name": "stdout",
     "output_type": "stream",
     "text": [
      "\n",
      "나 : 가위\n",
      "당신 : 보\n",
      "나의 승리입니다!\n",
      "------------------------------\n"
     ]
    },
    {
     "name": "stdin",
     "output_type": "stream",
     "text": [
      "계속하려면 y를 입력하세요! y\n"
     ]
    },
    {
     "name": "stdout",
     "output_type": "stream",
     "text": [
      "\n",
      "나 : 가위\n",
      "당신 : 가위\n",
      "무승부입니다!\n",
      "------------------------------\n"
     ]
    },
    {
     "name": "stdin",
     "output_type": "stream",
     "text": [
      "계속하려면 y를 입력하세요! d\n"
     ]
    },
    {
     "name": "stdout",
     "output_type": "stream",
     "text": [
      "\n"
     ]
    }
   ],
   "source": [
    "import random\n",
    "def whoWin(x, y) :\n",
    "    if x == '가위' : \n",
    "        if y == '가위' :\n",
    "            msg = '무승부입니다!'\n",
    "        elif y == '바위' :\n",
    "            msg = '당신의 승리입니다!'\n",
    "        else :\n",
    "            msg = '나의 승리입니다!'\n",
    "    elif x == '바위' :\n",
    "        if y == '가위' :\n",
    "            msg = '나의 승리입니다!'\n",
    "        elif y == '바위' :\n",
    "            msg = '무승부입니다!'\n",
    "        else :\n",
    "            msg = '당신의 승리입니다!'\n",
    "    else :\n",
    "        if y == '가위' :\n",
    "            msg = '당신의 승리입니다!'\n",
    "        elif y == '바위' :\n",
    "            msg = '나의 승리입니다!'\n",
    "        else :\n",
    "            msg = '무승부입니다!'\n",
    "    return msg\n",
    "print('=' * 30)\n",
    "print('가위 바위 보 게임')\n",
    "print('=' * 30)\n",
    "gawibawibo = ['가위','바위', '보']\n",
    "again = 'y'\n",
    "while again == 'y' :\n",
    "    me = random.choice(gawibawibo)\n",
    "    you = random.choice(gawibawibo)\n",
    "    result = whoWin(me, you)\n",
    "    print('나 : %s' % me)\n",
    "    print('당신 : %s' % you)\n",
    "    print(result)\n",
    "    print('-' * 30)\n",
    "    again = input('계속하려면 y를 입력하세요!')\n",
    "    print()\n"
   ]
  },
  {
   "cell_type": "code",
   "execution_count": null,
   "id": "5e320c6b-5baa-4a18-bccd-c94d38b0db6c",
   "metadata": {},
   "outputs": [],
   "source": [
    "import random\n",
    "def whoWin(x, y) :   #x는 나, y는 상대\n",
    "    x_id = gawibawibo.index(x)   #리스트에서 입력받은 값이 인덱스로 몇번인지 확인\n",
    "    y_id = gawibawibo.index(y)\n",
    "\n",
    "    if x_id == y_id:     #index가 같으면 무승부\n",
    "        msg = '무승부입니다!'\n",
    "    elif (x_id - y_id == 1) or (x_id ==0 and y_id==2): #x의 index가 1높은 경우\n",
    "        msg = '나의 승리입니다!'\n",
    "    else:\n",
    "        msg = '당신의 승리입니다!'\n",
    "    return msg\n",
    "\n",
    "print('=' * 30)\n",
    "print('가위 바위 보 게임')\n",
    "print('=' * 30)\n",
    "gawibawibo = ['가위','바위', '보']\n",
    "again = 'y'\n",
    "while again == 'y' :\n",
    "    me = random.choice(gawibawibo)\n",
    "    you = random.choice(gawibawibo)\n",
    "    result = whoWin(me, you)\n",
    "    print('나 : %s' % me)\n",
    "    print('당신 : %s' % you)\n",
    "    print(result)\n",
    "    print('-' * 30)\n",
    "    again = input('계속하려면 y를 입력하세요!')\n",
    "    print()"
   ]
  }
 ],
 "metadata": {
  "kernelspec": {
   "display_name": "Python 3 (ipykernel)",
   "language": "python",
   "name": "python3"
  },
  "language_info": {
   "codemirror_mode": {
    "name": "ipython",
    "version": 3
   },
   "file_extension": ".py",
   "mimetype": "text/x-python",
   "name": "python",
   "nbconvert_exporter": "python",
   "pygments_lexer": "ipython3",
   "version": "3.12.4"
  }
 },
 "nbformat": 4,
 "nbformat_minor": 5
}
