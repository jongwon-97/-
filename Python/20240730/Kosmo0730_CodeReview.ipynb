{
 "cells": [
  {
   "cell_type": "code",
   "execution_count": 60,
   "id": "213698e7-9ceb-4941-98e8-23e12e5d36cf",
   "metadata": {},
   "outputs": [
    {
     "name": "stdout",
     "output_type": "stream",
     "text": [
      "<class 'list'>\n",
      "['김소영 82 80 93 97 93 88 \\n', '정예린 86 100 93 86 90 77 \\n', '이세영 91 88 99 79 92 68 \\n', '정수정 86 100 93 89 92 93 \\n', '박지수 80 100 95 89 90 84']\n",
      "김소영 82 80 93 97 93 88 \n",
      "\n",
      "정예린 86 100 93 86 90 77 \n",
      "\n",
      "이세영 91 88 99 79 92 68 \n",
      "\n",
      "정수정 86 100 93 89 92 93 \n",
      "\n",
      "박지수 80 100 95 89 90 84\n",
      "scores.txt 파일의 내용 : \n",
      "김소영 82 80 93 97 93 88 \n",
      "정예린 86 100 93 86 90 77 \n",
      "이세영 91 88 99 79 92 68 \n",
      "정수정 86 100 93 89 92 93 \n",
      "박지수 80 100 95 89 90 84"
     ]
    }
   ],
   "source": [
    "file = open('scores.txt', 'r', encoding='utf8')\n",
    "lines = file.readlines()   #리스트의 형식으로 파일의 내용을 가져온다 \n",
    "#--------------------------------------추가부분\n",
    "print(type(lines))\n",
    "print(lines)\n",
    "for i in range(len(lines)) :     \n",
    "    print(lines[i])\n",
    "#----------------------------------------------\n",
    "print('scores.txt 파일의 내용 : ')\n",
    "for line in lines :        #lines에서 가져온 리스트 형식을 하나하나 출력 \n",
    "    print(line,end=\"\")\n",
    "file.close()"
   ]
  },
  {
   "cell_type": "code",
   "execution_count": 74,
   "id": "a5fd9c86-e431-4fc2-bd07-73ba970ccc5d",
   "metadata": {},
   "outputs": [
    {
     "name": "stdout",
     "output_type": "stream",
     "text": [
      "파일 쓰기 완료!\n"
     ]
    }
   ],
   "source": [
    "file = open('sample.txt', 'w', encoding='utf8')\n",
    "file.write('안녕하세요. 반갑습니다.')\n",
    "file.close()\n",
    "print('파일 쓰기 완료!')"
   ]
  },
  {
   "cell_type": "code",
   "execution_count": 46,
   "id": "2f6707a9-1b48-4d1e-9dfe-ff76589b6375",
   "metadata": {},
   "outputs": [
    {
     "name": "stdout",
     "output_type": "stream",
     "text": [
      "김소영 82 80 93 97 93 88\n",
      "정예린 86 100 93 86 90 77\n",
      "이세영 91 88 99 79 92 68\n",
      "정수정 86 100 93 89 92 93\n",
      "박지수 80 100 95 89 90 84\n",
      "\n"
     ]
    }
   ],
   "source": [
    "scores = ['김소영 82 80 93 97 93 88',\n",
    "'정예린 86 100 93 86 90 77',\n",
    "'이세영 91 88 99 79 92 68',\n",
    "'정수정 86 100 93 89 92 93',\n",
    "'박지수 80 100 95 89 90 84']\n",
    "data = ''\n",
    "for item in scores :\n",
    "    data += item + '\\n'\n",
    "# 화면 출력하기\n",
    "print(data)\n",
    "# 파일(scores.csv)에 저장하기\n",
    "file = open('scores.csv', 'w', encoding='utf8' )\n",
    "file.write(data)\n",
    "file.close()\n"
   ]
  },
  {
   "cell_type": "code",
   "execution_count": 56,
   "id": "aa042c2f-5423-4bc8-9cd0-8404a6a3b36b",
   "metadata": {},
   "outputs": [
    {
     "name": "stdout",
     "output_type": "stream",
     "text": [
      "scores.xls 쓰기 완료!!!\n"
     ]
    }
   ],
   "source": [
    "file = open('scores.txt', 'r', encoding='utf8')\n",
    "lines = file.readlines()\n",
    "\n",
    "data = ''\n",
    "for item in lines :\n",
    "    data += item\n",
    "# 파일(scores.xls)에 저장하기\n",
    "file = open('scores.xls', 'w', encoding='utf8' )\n",
    "file.write(data)\n",
    "print('scores.xls 쓰기 완료!!!')\n",
    "\n",
    "file.close()"
   ]
  },
  {
   "cell_type": "code",
   "execution_count": 84,
   "id": "05bfa1f0-8003-497a-a853-03843d84589c",
   "metadata": {},
   "outputs": [
    {
     "name": "stdout",
     "output_type": "stream",
     "text": [
      "sample.txt 추가완료!\n",
      "안녕하세요. 반갑습니다.1절\n",
      "동해물과 백두산이 마르고 닳도록 \n",
      "하느님이 보우하사 우리나라 만세 \n",
      "무궁화 삼천리 화려강산 \n",
      "대한사람 대한으로 길이 보전하세.\n",
      "2절\n",
      "남산위에 저 소나무 철갑을 두른듯\n",
      "바람서리 불변함은 일편단심일세 \n",
      "무궁화 삼천리 화려강산 \n",
      "대한사람 대한으로 길이 보전하세.\n",
      "3절\n",
      "가을 하늘 공활한데 높고푸름없이\n",
      "밝은 달은 우리 가슴 일편 단심일세\n",
      "무궁화 삼천리 화려강산 \n",
      "대한사람 대한으로 길이 보전하세.\n",
      "4절\n",
      "이기상과 이맘으로 충성을 다하듯\n",
      "괴로우나 즐거우나 나라 사랑하세\n",
      "무궁화 삼천리 화려강산 \n",
      "대한사람 대한으로 길이 보전하세.1절\n",
      "동해물과 백두산이 마르고 닳도록 \n",
      "하느님이 보우하사 우리나라 만세 \n",
      "무궁화 삼천리 화려강산 \n",
      "대한사람 대한으로 길이 보전하세.\n",
      "2절\n",
      "남산위에 저 소나무 철갑을 두른듯\n",
      "바람서리 불변함은 일편단심일세 \n",
      "무궁화 삼천리 화려강산 \n",
      "대한사람 대한으로 길이 보전하세.\n",
      "3절\n",
      "가을 하늘 공활한데 높고푸름없이\n",
      "밝은 달은 우리 가슴 일편 단심일세\n",
      "무궁화 삼천리 화려강산 \n",
      "대한사람 대한으로 길이 보전하세.\n",
      "4절\n",
      "이기상과 이맘으로 충성을 다하듯\n",
      "괴로우나 즐거우나 나라 사랑하세\n",
      "무궁화 삼천리 화려강산 \n",
      "대한사람 대한으로 길이 보전하세.\n"
     ]
    }
   ],
   "source": [
    "# 1.sample.txt 파일에 korea.txt파일의 내용을 추가한후 \n",
    "# sample.txt 파일의 내용을 읽어서 화면에 출력하세요\n",
    "file = open('korea.txt','r',encoding='utf8')\n",
    "lines = file.readlines()\n",
    "data = ''\n",
    "for item in lines :\n",
    "    data += item\n",
    "    data='\\n'\n",
    "file= open('sample.txt','a',encoding='utf8')\n",
    "file.write(data)\n",
    "print(\"sample.txt 추가완료!\")\n",
    "file = open('sample.txt', 'r', encoding='utf8')\n",
    "lines = file.readlines()\n",
    "for line in lines :   \n",
    "    print(line,end=\"\")\n",
    "file.close()\n"
   ]
  },
  {
   "cell_type": "code",
   "execution_count": 80,
   "id": "ee067bd1-b0b9-463d-bd92-0fc8dbefae83",
   "metadata": {},
   "outputs": [
    {
     "name": "stdout",
     "output_type": "stream",
     "text": [
      "sample.txt 추가완료!\n",
      "김소영 82 80 93 97 93 88 \n",
      "정예린 86 100 93 86 90 77 \n",
      "이세영 91 88 99 79 92 68 \n",
      "정수정 86 100 93 89 92 93 \n",
      "박지수 80 100 95 89 90 841절\n",
      "동해물과 백두산이 마르고 닳도록 \n",
      "하느님이 보우하사 우리나라 만세 \n",
      "무궁화 삼천리 화려강산 \n",
      "대한사람 대한으로 길이 보전하세.\n",
      "2절\n",
      "남산위에 저 소나무 철갑을 두른듯\n",
      "바람서리 불변함은 일편단심일세 \n",
      "무궁화 삼천리 화려강산 \n",
      "대한사람 대한으로 길이 보전하세.\n",
      "3절\n",
      "가을 하늘 공활한데 높고푸름없이\n",
      "밝은 달은 우리 가슴 일편 단심일세\n",
      "무궁화 삼천리 화려강산 \n",
      "대한사람 대한으로 길이 보전하세.\n",
      "4절\n",
      "이기상과 이맘으로 충성을 다하듯\n",
      "괴로우나 즐거우나 나라 사랑하세\n",
      "무궁화 삼천리 화려강산 \n",
      "대한사람 대한으로 길이 보전하세."
     ]
    }
   ],
   "source": [
    "# 2.scores.txt 파일에 korea.txt파일의 내용을 추가한후\n",
    "# sample.txt 파일의 내용을 읽어서 화면에 출력하세요\n",
    "file = open('korea.txt','r',encoding='utf8') #korea.txt 를 읽어옴\n",
    "lines = file.readlines()     #korea.txt 의 내용을 리스트 형으로 가져옴\n",
    "data = ''                    \n",
    "for item in lines :            #가져온 리스트형을 'str' 형식으로 바꿔주는 for 문\n",
    "    data += item\n",
    "    \n",
    "file= open('scores.txt','a',encoding='utf8') #a 를 사용해 scores.txt 에 추가모드 \n",
    "file.write(data)\n",
    "print(\"sample.txt 추가완료!\")\n",
    "\n",
    "file = open('scores.txt', 'r', encoding='utf8')\n",
    "lines = file.readlines()\n",
    "for line in lines :   \n",
    "    print(line,end=\"\")\n",
    "file.close()"
   ]
  },
  {
   "cell_type": "code",
   "execution_count": null,
   "id": "87cd89f8-e8df-4919-99f0-316010bddc3c",
   "metadata": {},
   "outputs": [],
   "source": []
  }
 ],
 "metadata": {
  "kernelspec": {
   "display_name": "Python 3 (ipykernel)",
   "language": "python",
   "name": "python3"
  },
  "language_info": {
   "codemirror_mode": {
    "name": "ipython",
    "version": 3
   },
   "file_extension": ".py",
   "mimetype": "text/x-python",
   "name": "python",
   "nbconvert_exporter": "python",
   "pygments_lexer": "ipython3",
   "version": "3.12.4"
  }
 },
 "nbformat": 4,
 "nbformat_minor": 5
}
