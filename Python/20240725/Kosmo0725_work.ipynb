{
 "cells": [
  {
   "cell_type": "code",
   "execution_count": null,
   "id": "c900f905-d522-45bc-9b08-32544cee23c9",
   "metadata": {},
   "outputs": [],
   "source": [
    "a = int(input('좌석 종류를 입력해 주세요(1:일반실, 2:특실) : '))\n",
    "seat1 = '일반실' \n",
    "seat2 = '특실'\n",
    "if a == 1:\n",
    "    print('%s입니다.' % seat1)\n",
    "elif  a == 2:\n",
    "    print('%s입니다.' % seat2)"
   ]
  },
  {
   "cell_type": "code",
   "execution_count": 1,
   "id": "ed452453-7bf7-458c-8b9e-f664bcb9b0eb",
   "metadata": {},
   "outputs": [
    {
     "name": "stdin",
     "output_type": "stream",
     "text": [
      "좌석 종류를 입력해 주세요(1:일반실, 2:특실) :  1\n"
     ]
    },
    {
     "name": "stdout",
     "output_type": "stream",
     "text": [
      "일반실입니다.\n"
     ]
    }
   ],
   "source": [
    "#리스트를 활용한 최적화\n",
    "a = int(input('좌석 종류를 입력해 주세요(1:일반실, 2:특실) : '))\n",
    "seats=[\"일반실\",\"특실\"]\n",
    "print(\"%s입니다.\" % seats[a-1]) #a를 정수로 전환해서 seats[자리값]을 나타낼 수 있다 \n",
    "                                #ex) 2를 넣었을때 seat[1] = seat[\"일반실\",\"특실\"]  에서 특실을 나타낸다\n",
    "#공간복잡도는 리스트를 사용해서 순차적으로 저장하기 때문에 잡을수 있었다\n",
    "#시간복잡도는 if 문과 else 문을 사용안했기 때문에 실행수가 적어서 잡았다 "
   ]
  },
  {
   "cell_type": "code",
   "execution_count": null,
   "id": "503ac373-f64c-4fc4-90a8-cc907ce035ed",
   "metadata": {},
   "outputs": [],
   "source": [
    "#if~ 구문으로 4의 배수/5의 배수 판별하기\n",
    "\n",
    "a=int(input(\"숫자를 입력해주세요.\"))\n",
    "\n",
    "if  a%4 == 0 and a%5 ==0:\n",
    "    print(a,\"는 4의배수면서 5의배수입니다.\")\n",
    "elif a%4 ==0:\n",
    "    print(a,\"는 4의배수입니다.\")\n",
    "elif a%5 ==0:\n",
    "    print(a,\"는 5의배수입니다.\")\n",
    "else:\n",
    "    print(a,\"는 4의배수도 5의 배수도 아닙니다.\") "
   ]
  },
  {
   "cell_type": "code",
   "execution_count": null,
   "id": "2baff41f-089c-43a4-823e-5869a72df012",
   "metadata": {},
   "outputs": [],
   "source": [
    "char = input('영어 알파벳을 입력하세요 : ')\n",
    "char2 = char.upper()\n",
    "if  char2 == 'A' or char2 == 'E' or char2 == 'I'or char2 == 'O' or char2 == 'U' : \n",
    "    print('%s은(는) 모음이다.' % char) \n",
    "else : \n",
    "    print('%s은(는) 자음이다.' % char)"
   ]
  },
  {
   "cell_type": "code",
   "execution_count": null,
   "id": "6dd67df7-384d-47e2-bebe-2e681eb053b3",
   "metadata": {},
   "outputs": [],
   "source": [
    "char = input('영어 알파벳을 입력하세요 : ')\n",
    "char2 = char.upper()\n",
    "vowel=[\"A\",\"E\",\"I\",\"O\",\"U\"]\n",
    "if  char2 in vowel : \n",
    "    print('%s은(는) 모음이다.' % char) \n",
    "else : \n",
    "    print('%s은(는) 자음이다.' % char) #리스트를 활용한 최적화 "
   ]
  },
  {
   "cell_type": "code",
   "execution_count": null,
   "id": "b9d07989-d1b9-4b1e-96c4-fed0f12abd61",
   "metadata": {},
   "outputs": [],
   "source": [
    "height = int(input('키를 입력해 주세요 : ')) \n",
    "weight = int(input('몸무게를 입력해 주세요 : '))\n",
    "\n",
    "bmi = (height - 100) * 0.9; \n",
    "\n",
    "print('-' * 30) \n",
    "print('키 : %dcm' % height) \n",
    "print('몸무게 : %dkg' % weight)\n",
    "if weight > bmi : \n",
    "    print('딱 보기 좋습니다.') \n",
    "else : \n",
    "    print('표준(또는 마른) 체형입니다.')\n",
    "print('-' * 30)"
   ]
  },
  {
   "cell_type": "code",
   "execution_count": null,
   "id": "4c67dd34-f5be-43bf-8403-d63294f3be86",
   "metadata": {},
   "outputs": [],
   "source": [
    "buy = int(input('물건 구매가를 입력하세요 : ')) \n",
    "\n",
    "if buy >= 10000 and buy < 50000 : \n",
    "    rate = 5 \n",
    "elif buy >= 50000 and buy < 300000 : \n",
    "    rate = 7.5 \n",
    "elif buy >= 300000 : \n",
    "    rate = 10 \n",
    "else: \n",
    "    rate = 0\n",
    "discount = buy * rate / 100 \n",
    "pay = buy - discount \n",
    "print('구매가 : %.0f원' % buy) \n",
    "print('할인율 : %.1f%%' % rate) \n",
    "print('할인 금액 : %.0f원' % discount) \n",
    "print('지불 금액 : %.0f원' % pay)"
   ]
  },
  {
   "cell_type": "code",
   "execution_count": 5,
   "id": "55b53665-2458-4132-81c1-acc69fd409e0",
   "metadata": {},
   "outputs": [
    {
     "name": "stdin",
     "output_type": "stream",
     "text": [
      "물건 구매가를 입력하세요 :  50000\n"
     ]
    },
    {
     "name": "stdout",
     "output_type": "stream",
     "text": [
      "구매가 : 50000원\n",
      "할인율 : 7.5%\n",
      "할인 금액 : 3750원\n",
      "지불 금액 : 46250원\n"
     ]
    }
   ],
   "source": [
    "#큰 값부터 비교를해서 내려갔다 불필요한 and연산을 지움으로써 시간복잡도를 잡았다\n",
    "buy = int(input('물건 구매가를 입력하세요 : '))\n",
    "\n",
    "if buy >= 300000:\n",
    "    rate = 10\n",
    "elif buy >= 50000: \n",
    "    rate = 7.5\n",
    "elif buy >= 10000:\n",
    "    rate = 5\n",
    "else:\n",
    "    rate = 0\n",
    "discount = buy * rate / 100 \n",
    "pay = buy - discount \n",
    "print('구매가 : %.0f원' % buy) \n",
    "print('할인율 : %.1f%%' % rate) \n",
    "print('할인 금액 : %.0f원' % discount)   \n",
    "print('지불 금액 : %.0f원' % pay)"
   ]
  },
  {
   "cell_type": "code",
   "execution_count": 7,
   "id": "906d0d60-1903-47b2-a6bd-c35b8e3c975a",
   "metadata": {},
   "outputs": [
    {
     "name": "stdin",
     "output_type": "stream",
     "text": [
      "첫 번째 정수를 입력하세요 :  22\n",
      "두 번째 정수를 입력하세요 :  50\n",
      "세 번째 정수를 입력하세요 :  41\n"
     ]
    },
    {
     "name": "stdout",
     "output_type": "stream",
     "text": [
      "입력된 세 수 22, 50, 41 중에서 가장 큰 수는 50 입니다.\n"
     ]
    }
   ],
   "source": [
    "num1 = int(input('첫 번째 정수를 입력하세요 : ')) \n",
    "num2 = int(input('두 번째 정수를 입력하세요 : ')) \n",
    "num3 = int(input('세 번째 정수를 입력하세요 : ')) \n",
    "if (num1 >= num2) and (num1 >= num3) : \n",
    "    largest = num1 \n",
    "elif (num2 >= num1) and (num2 >= num3) : \n",
    "    largest = num2 \n",
    "else : \n",
    "    largest = num3 \n",
    "print('입력된 세 수 %d, %d, %d 중에서 가장 큰 수는 %d 입니다.' % (num1, num2, num3, largest))"
   ]
  },
  {
   "cell_type": "code",
   "execution_count": 11,
   "id": "b2c38a80-4f76-4d87-98d6-ac608484aeaf",
   "metadata": {},
   "outputs": [
    {
     "name": "stdin",
     "output_type": "stream",
     "text": [
      "첫 번째 정수를 입력하세요 :  44\n",
      "두 번째 정수를 입력하세요 :  50\n",
      "세 번째 정수를 입력하세요 :  60\n"
     ]
    },
    {
     "name": "stdout",
     "output_type": "stream",
     "text": [
      "입력된 세 수 44, 50, 60 중에서 가장 큰 수는 60 입니다.\n"
     ]
    }
   ],
   "source": [
    "num1 = int(input('첫 번째 정수를 입력하세요 : ')) \n",
    "num2 = int(input('두 번째 정수를 입력하세요 : ')) \n",
    "num3 = int(input('세 번째 정수를 입력하세요 : '))\n",
    "largest = max(num1,num2,num3) #주어진 값에서 최대값을 찾아주는 내장 함수 max()를 사용해서 조건문 삭제를해서 최적화시켰다 \n",
    "                              #최솟값은 min() \n",
    "print('입력된 세 수 %d, %d, %d 중에서 가장 큰 수는 %d 입니다.' % (num1, num2, num3, largest))"
   ]
  },
  {
   "cell_type": "code",
   "execution_count": null,
   "id": "6fdacc84-01af-4b2c-90c9-e14fb250f164",
   "metadata": {},
   "outputs": [],
   "source": [
    "a = int(input('서비스 만족도를 입력해주세요(예: 1 또는 2 또는 3) : ')) \n",
    "price = int(input('음식값을 입력해 주세요(예:8000) : ')) \n",
    "if a == 1: \n",
    "     tip = int(price * 0.2) \n",
    "     service = '매우 만족' \n",
    "elif a == 2: \n",
    "     tip = int(price * 0.1) \n",
    "     service = '만족' \n",
    "else: \n",
    "     tip = int(price * 0.05) \n",
    "     service = '불만족'\n",
    "print('서비스 만족도 : %s, 팁 : %d원' % (service,tip))"
   ]
  },
  {
   "cell_type": "code",
   "execution_count": null,
   "id": "d2771e59-e334-4e06-8dab-9a63192b55d0",
   "metadata": {},
   "outputs": [],
   "source": [
    "#리스트를 사용한 최적화 \n",
    "a = int(input('서비스 만족도를 입력해주세요(예: 1 또는 2 또는 3) : '))\n",
    "price = int(input('음식값을 입력해 주세요(예:8000) : ')) \n",
    "\n",
    "services=[\"매우만족\",\"만족\",\"불만족\"]\n",
    "tips=[0.2,0.1, 0.05]\n",
    "\n",
    "service=services[a-1]\n",
    "tip = int(price * tips[a-1]) \n",
    "\n",
    "print('서비스 만족도 : %s, 팁 : %d원' % (service,tip))"
   ]
  },
  {
   "cell_type": "code",
   "execution_count": null,
   "id": "f4962896-1fe1-4dbc-b7aa-e375ecc646f3",
   "metadata": {},
   "outputs": [],
   "source": [
    "n1 = int(input('시작 수를 입력하세요 : ')) \n",
    "n2 = int(input('끝 수를 입력하세요 : '))\n",
    "sum = 0 \n",
    "for i in range(n1,n2) : \n",
    "    if i%5 != 0 : \n",
    "         sum += i\n",
    "        \n",
    "print('-' * 50) \n",
    "print('%d에서 %d까지 5의 배수가 아닌 수의 합계 : %d' % (n1,n2,sum))"
   ]
  },
  {
   "cell_type": "code",
   "execution_count": null,
   "id": "2b2d61a7-10f6-48e1-951b-88513b0b260a",
   "metadata": {},
   "outputs": [],
   "source": [
    "number = input('하이픈(-)을 포함한 휴대폰 번호를 입력하세요: ') \n",
    "for x in number: \n",
    "    if x != '-' : \n",
    "        print('%s' % x, end='')"
   ]
  },
  {
   "cell_type": "code",
   "execution_count": 33,
   "id": "0316d5ee-c169-4921-a37f-fa928a8ce294",
   "metadata": {},
   "outputs": [
    {
     "name": "stdin",
     "output_type": "stream",
     "text": [
      "하이픈(-)을 뺀 11자리의 휴대폰 번호를 입력하세요:  01012345678\n"
     ]
    },
    {
     "name": "stdout",
     "output_type": "stream",
     "text": [
      "010-1234-5678\n"
     ]
    }
   ],
   "source": [
    "phone = input('하이픈(-)을 뺀 11자리의 휴대폰 번호를 입력하세요: ') \n",
    "number = ''; \n",
    "for i in range(0,len(phone)) : \n",
    "    if i == 2 : \n",
    "        number = number + (phone[2]+'-') \n",
    "    elif i == 6:\n",
    "        number = number + (phone[6]+'-') \n",
    "    else :\n",
    "        number = number + phone[i]\n",
    "    \n",
    "print(number)"
   ]
  },
  {
   "cell_type": "code",
   "execution_count": 35,
   "id": "23f087a5-d869-4d0f-889c-7431897d8c44",
   "metadata": {},
   "outputs": [
    {
     "name": "stdout",
     "output_type": "stream",
     "text": [
      "--------------------------------------------------\n",
      "센티미터(cm) 인치(inch) 피트(ft) 야드(yd)\n",
      "--------------------------------------------------\n",
      "      10        3.9        0.3        0.1\n",
      "      20        7.9        0.7        0.2\n",
      "      30       11.8        1.0        0.3\n",
      "      40       15.7        1.3        0.4\n",
      "      50       19.7        1.6        0.5\n",
      "      60       23.6        2.0        0.7\n",
      "      70       27.6        2.3        0.8\n",
      "      80       31.5        2.6        0.9\n",
      "      90       35.4        3.0        1.0\n",
      "     100       39.4        3.3        1.1\n",
      "     110       43.3        3.6        1.2\n",
      "     120       47.2        3.9        1.3\n",
      "     130       51.2        4.3        1.4\n",
      "     140       55.1        4.6        1.5\n",
      "     150       59.1        4.9        1.6\n",
      "     160       63.0        5.2        1.7\n",
      "     170       66.9        5.6        1.9\n",
      "     180       70.9        5.9        2.0\n",
      "     190       74.8        6.2        2.1\n",
      "     200       78.7        6.6        2.2\n",
      "--------------------------------------------------\n"
     ]
    }
   ],
   "source": [
    "print('-' * 50) \n",
    "print('센티미터(cm) 인치(inch) 피트(ft) 야드(yd)') \n",
    "print('-' * 50) \n",
    "for cm in range(10, 201, 10): \n",
    "    \n",
    "    inch = cm * 0.393701 \n",
    "    ft = cm * 0.032808\n",
    "    yd = cm * 0.010936 \n",
    "    print('%8d %10.1f %10.1f %10.1f' % (cm, inch, ft, yd)) \n",
    "print('-' * 50)"
   ]
  },
  {
   "cell_type": "code",
   "execution_count": 39,
   "id": "d1e4b021-8174-430c-a2ea-2547a91c87bb",
   "metadata": {},
   "outputs": [
    {
     "name": "stdout",
     "output_type": "stream",
     "text": [
      "----------------------------------------\n",
      "킬로그램(kg) 파운드(lb) 온스(oz)\n",
      "----------------------------------------\n",
      "      10       22.0      352.7\n",
      "      15       33.1      529.1\n",
      "      20       44.1      705.5\n",
      "      25       55.1      881.8\n",
      "      30       66.1     1058.2\n",
      "      35       77.2     1234.6\n",
      "      40       88.2     1411.0\n",
      "      45       99.2     1587.3\n",
      "      50      110.2     1763.7\n",
      "      55      121.3     1940.1\n",
      "      60      132.3     2116.4\n",
      "      65      143.3     2292.8\n",
      "      70      154.3     2469.2\n",
      "      75      165.3     2645.5\n",
      "      80      176.4     2821.9\n",
      "      85      187.4     2998.3\n",
      "      90      198.4     3174.7\n",
      "      95      209.4     3351.0\n",
      "     100      220.5     3527.4\n",
      "----------------------------------------\n"
     ]
    }
   ],
   "source": [
    "print('-' * 40) \n",
    "print('킬로그램(kg) 파운드(lb) 온스(oz)') \n",
    "print('-' * 40) \n",
    "for kg in range(10, 101, 5) : \n",
    "    lb = kg * 2.204623 \n",
    "    oz = kg * 35.273962 \n",
    "    print('%8d %10.1f %10.1f' % (kg, lb, oz)) \n",
    "print('-' * 40)"
   ]
  },
  {
   "cell_type": "code",
   "execution_count": 43,
   "id": "438bc301-1073-44fa-913a-fbc648c7d858",
   "metadata": {},
   "outputs": [
    {
     "name": "stdin",
     "output_type": "stream",
     "text": [
      "숫자를 입력하세요 :  555444\n"
     ]
    },
    {
     "name": "stdout",
     "output_type": "stream",
     "text": [
      "입력된 숫자 중 홀수의 개수 : 3개\n"
     ]
    }
   ],
   "source": [
    "number = input('숫자를 입력하세요 : ') \n",
    "total = 0 \n",
    "for a in number: \n",
    "    a = int(a) \n",
    "    if a %2== 1: \n",
    "        total += 1 \n",
    "print('입력된 숫자 중 홀수의 개수 : %d개' % total)"
   ]
  },
  {
   "cell_type": "code",
   "execution_count": null,
   "id": "9c81a235-5dd2-46ae-8236-947c1855062c",
   "metadata": {},
   "outputs": [],
   "source": [
    "for i in range(1,11) :\n",
    "    for j in range(1,i+1): \n",
    "        print('*', end=\"\")\n",
    "    print()"
   ]
  },
  {
   "cell_type": "code",
   "execution_count": null,
   "id": "a422ddb6-05b1-4725-956c-b6069ab7fd7b",
   "metadata": {},
   "outputs": [],
   "source": [
    "for i in range(1,11) : \n",
    "    for j in range(1,11-i ) : \n",
    "        print(' ', end='') \n",
    "    for k in range(1, i+1 ) : \n",
    "        print('*', end='') \n",
    "    print()"
   ]
  }
 ],
 "metadata": {
  "kernelspec": {
   "display_name": "Python 3 (ipykernel)",
   "language": "python",
   "name": "python3"
  },
  "language_info": {
   "codemirror_mode": {
    "name": "ipython",
    "version": 3
   },
   "file_extension": ".py",
   "mimetype": "text/x-python",
   "name": "python",
   "nbconvert_exporter": "python",
   "pygments_lexer": "ipython3",
   "version": "3.12.4"
  }
 },
 "nbformat": 4,
 "nbformat_minor": 5
}
