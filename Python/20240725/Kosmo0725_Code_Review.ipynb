{
 "cells": [
  {
   "cell_type": "code",
   "execution_count": 9,
   "id": "bc08b93e-1aa4-47b0-bc90-e0857b1aaa92",
   "metadata": {},
   "outputs": [
    {
     "name": "stdout",
     "output_type": "stream",
     "text": [
      "3.3764 3.0 3\n"
     ]
    }
   ],
   "source": [
    "#eng score=90\n",
    "#7font=\"굴림\" (변수 오류사항 에러가 났을때 위에도 볼것) \n",
    "\n",
    "x=3.3764\n",
    "y=6/2\n",
    "z=6//2\n",
    "print(x,y,z)"
   ]
  },
  {
   "cell_type": "code",
   "execution_count": 12,
   "id": "5b3b2756-b734-489b-a1a6-892c1bcd1bef",
   "metadata": {},
   "outputs": [
    {
     "name": "stdout",
     "output_type": "stream",
     "text": [
      "209.0\n"
     ]
    }
   ],
   "source": [
    "a = 10\n",
    "b = 20\n",
    "c = a + b * 10 - 5 / 5\n",
    "print(c)"
   ]
  },
  {
   "cell_type": "code",
   "execution_count": 14,
   "id": "c7837a38-aeb2-4602-95ae-2b5b99bef51e",
   "metadata": {},
   "outputs": [
    {
     "name": "stdout",
     "output_type": "stream",
     "text": [
      "4\n",
      "4 -4\n"
     ]
    }
   ],
   "source": [
    "x = 20 \n",
    "y = 4\n",
    "x = y % x \n",
    "print(x)\n",
    "y -= x * 2 \n",
    "print(x, y)"
   ]
  },
  {
   "cell_type": "code",
   "execution_count": 16,
   "id": "a9b79a98-77b7-450b-b25f-6ce0a782b463",
   "metadata": {},
   "outputs": [
    {
     "name": "stdout",
     "output_type": "stream",
     "text": [
      "15\n"
     ]
    }
   ],
   "source": [
    "a = '쥐 구멍에 볕 들 날 있다.'\n",
    "b = len(a)\n",
    "print(b)"
   ]
  },
  {
   "cell_type": "code",
   "execution_count": 112,
   "id": "e5ef2fc6-99dc-4a60-9868-364721fea6c7",
   "metadata": {},
   "outputs": [
    {
     "name": "stdout",
     "output_type": "stream",
     "text": [
      "영어 점수 :  80 점\n"
     ]
    }
   ],
   "source": [
    "eng = 80\n",
    "#result = '영어 점수 : ' + eng + '점'\n",
    "print('영어 점수 : ' , eng, '점')"
   ]
  },
  {
   "cell_type": "code",
   "execution_count": 110,
   "id": "bf57eb00-4b61-4e1b-89b5-c0ce4e6240d0",
   "metadata": {},
   "outputs": [
    {
     "name": "stdout",
     "output_type": "stream",
     "text": [
      "영어 점수 : 80점\n"
     ]
    }
   ],
   "source": [
    "eng = 80\n",
    "result = '영어 점수 : ' + str(eng) + '점'\n",
    "print(result)"
   ]
  },
  {
   "cell_type": "code",
   "execution_count": 108,
   "id": "342cb2c8-b176-41db-bf34-fee96a2b18b9",
   "metadata": {},
   "outputs": [
    {
     "name": "stdout",
     "output_type": "stream",
     "text": [
      "나는 김수영입니다. 나이는 26이고 키는 180.345입니다.\n"
     ]
    }
   ],
   "source": [
    "name = '김수영'\n",
    "age = 26\n",
    "height = 180.345\n",
    "a = '나는 %s입니다. 나이는 %d이고 키는 %.3f입니다.' %(name,age,height)\n",
    "print(a)"
   ]
  },
  {
   "cell_type": "code",
   "execution_count": 106,
   "id": "798e09d2-1fb2-4cf5-86d5-692216ef4b53",
   "metadata": {},
   "outputs": [
    {
     "name": "stdout",
     "output_type": "stream",
     "text": [
      "이름 : 황예린\n",
      "나이 : 18세\n",
      "시력 : 1.2\n"
     ]
    }
   ],
   "source": [
    "name = '황예린'\n",
    "age = 18\n",
    "eyesight = 1.2\n",
    "a = '이름 : {}'.format(name)\n",
    "b = '나이 : {}세'.format(age)\n",
    "c = '시력 : {}'.format(eyesight)\n",
    "print(a)\n",
    "print(b)\n",
    "print(c)"
   ]
  },
  {
   "cell_type": "code",
   "execution_count": 104,
   "id": "4e9d9634-02f4-4f23-be6c-9cd1f75a79ca",
   "metadata": {},
   "outputs": [
    {
     "name": "stdout",
     "output_type": "stream",
     "text": [
      "두 과목 점수 : 80, 87\n",
      "합계 : 167, 평균 : 83.50\n"
     ]
    }
   ],
   "source": [
    "score1 = 80\n",
    "score2 = 87\n",
    "sum = score1 + score2\n",
    "avg = sum/2\n",
    "print('두 과목 점수 : %d, %d' % (score1, score2))\n",
    "print('합계 : %d, 평균 : %.2f' % (sum, avg))"
   ]
  },
  {
   "cell_type": "code",
   "execution_count": 102,
   "id": "849e8db8-ebba-4c8c-b015-6d6639520f70",
   "metadata": {},
   "outputs": [
    {
     "name": "stdout",
     "output_type": "stream",
     "text": [
      "2020/3/5\n"
     ]
    }
   ],
   "source": [
    "year = 2020\n",
    "month = 3\n",
    "day = 5\n",
    "print(year, month, day, sep='/')"
   ]
  },
  {
   "cell_type": "code",
   "execution_count": 100,
   "id": "b765b91e-c88d-42e8-8a0d-94a4fbe27bd2",
   "metadata": {},
   "outputs": [
    {
     "name": "stdout",
     "output_type": "stream",
     "text": [
      "안녕하세요.\n",
      "반갑습니다.\n",
      "\n",
      "\n",
      "\n",
      "안녕하세요.반갑습니다.\n"
     ]
    }
   ],
   "source": [
    "a = '안녕하세요.'\n",
    "b = '반갑습니다.'\n",
    "print(a)\n",
    "print(b)\n",
    "print('\\n\\n')\n",
    "print(a, end='')\n",
    "print(b)"
   ]
  },
  {
   "cell_type": "code",
   "execution_count": 120,
   "id": "48b0f416-bc91-4537-b82f-c9b130b16c81",
   "metadata": {},
   "outputs": [
    {
     "name": "stdin",
     "output_type": "stream",
     "text": [
      "첫 번째 숫자를 입력하세요 :  9\n",
      "두 번째 숫자를 입력하세요 :  5\n"
     ]
    },
    {
     "name": "stdout",
     "output_type": "stream",
     "text": [
      "14\n",
      "95\n"
     ]
    }
   ],
   "source": [
    "a = input('첫 번째 숫자를 입력하세요 : ')\n",
    "b = input('두 번째 숫자를 입력하세요 : ')\n",
    "c = int(a) + int(b)\n",
    "d= a+b\n",
    "print(c)\n",
    "print(d)"
   ]
  },
  {
   "cell_type": "code",
   "execution_count": 122,
   "id": "dcb209d9-c1c6-45f9-8442-75e5ee1810fc",
   "metadata": {},
   "outputs": [
    {
     "name": "stdin",
     "output_type": "stream",
     "text": [
      "인치(inch)를 입력하세요 :  32\n"
     ]
    },
    {
     "name": "stdout",
     "output_type": "stream",
     "text": [
      "센티미터 : 81.28\n"
     ]
    }
   ],
   "source": [
    "inch = float(input('인치(inch)를 입력하세요 : '))\n",
    "cm = inch * 2.54\n",
    "print('센티미터 : %.2f' % cm)"
   ]
  },
  {
   "cell_type": "code",
   "execution_count": 128,
   "id": "7ac02d82-8247-4483-90c1-227d70d9ed79",
   "metadata": {},
   "outputs": [
    {
     "name": "stdout",
     "output_type": "stream",
     "text": [
      "300\n"
     ]
    }
   ],
   "source": [
    " #파일명 : ex2-35.py\n",
    "\"\"\"\n",
    "프로그램명 : 두 수 더하기\n",
    "작성자 : 홍길동\n",
    "작성일 : 2021.9.20\n",
    "\"\"\"\n",
    "# a = 10 # 변수 a에 10 저장\n",
    "# b = 20 # 변수 b에 20 저장\n",
    "# c = a + b # 두 수를 더해 변수 c에 저장\n",
    "# 결과를 출력한다.\n",
    "# print(c)\n",
    "a = 100 # 변수 a에 10 저장\n",
    "b = 200 # 변수 b에 20 저장\n",
    "c = a + b # 두 수를 더해 변수 c에 저장\n",
    "# 결과를 출력한다.\n",
    "print(c)"
   ]
  },
  {
   "cell_type": "code",
   "execution_count": 130,
   "id": "8d166a08-ec19-43b0-b0b5-faeea21a8837",
   "metadata": {},
   "outputs": [
    {
     "name": "stdout",
     "output_type": "stream",
     "text": [
      "삼각형의 밑변 길이 : 10\n",
      "삼각형의 높이 : 3\n",
      "삼각형의 면적 : 15.0\n"
     ]
    }
   ],
   "source": [
    "width = 10 \n",
    "height = 3\n",
    "area = width * height / 2\n",
    "print('삼각형의 밑변 길이 :', width) \n",
    "print('삼각형의 높이 :',height) \n",
    "print('삼각형의 면적 :',area"
   ]
  },
  {
   "cell_type": "code",
   "execution_count": 134,
   "id": "9bde0f76-6b50-4232-af75-0cba91de9538",
   "metadata": {},
   "outputs": [
    {
     "name": "stdout",
     "output_type": "stream",
     "text": [
      "삼각형의 밑변 길이 : 10\n",
      "삼각형의 높이 : 3\n",
      "삼각형의 면적 : 15.0\n"
     ]
    }
   ],
   "source": [
    "#위의 것을 최적화한 결과 나눗셈을 곱셈으로 바꾼다 \n",
    "#나눗셈과 몫을 구하는것보다 곱셈연산이 더 빠르고 곱셈보다 비트연산이 더 빠르다 \n",
    "#이렇게 바꿀시 시간복잡도를 잡아줄수있다\n",
    "width = 10 \n",
    "height = 3\n",
    "area = width * height * 0.5\n",
    "print('삼각형의 밑변 길이 :', width) \n",
    "print('삼각형의 높이 :',height) \n",
    "print('삼각형의 면적 :',area)"
   ]
  },
  {
   "cell_type": "code",
   "execution_count": 136,
   "id": "08bce95c-421b-446e-b9f5-2299427ef4a7",
   "metadata": {},
   "outputs": [
    {
     "name": "stdout",
     "output_type": "stream",
     "text": [
      "물건가격 : 800 원\n",
      "구개개수 : 3 개\n",
      "지불금액 : 5000 원\n",
      "거스름돈 : 2600 원\n"
     ]
    }
   ],
   "source": [
    "#거스름돈 구하기 및 거스름돈 줄이기 알고리즘(그리디 알고리즘 = 탐욕)\n",
    "price = 800 \n",
    "buy = 3 \n",
    "pay = 5000\n",
    "change = pay - price * buy\n",
    "print('물건가격 :', price, '원') \n",
    "print('구개개수 :', buy, '개') \n",
    "print('지불금액 :', pay, '원') \n",
    "print('거스름돈 :', change, '원')"
   ]
  },
  {
   "cell_type": "code",
   "execution_count": 144,
   "id": "3865085f-30de-4099-8ad2-0ed88c6ffbdf",
   "metadata": {},
   "outputs": [
    {
     "name": "stdout",
     "output_type": "stream",
     "text": [
      "성 : 홍\n",
      "이름 : 길동\n",
      "홍길동의 나이 : 30세, 키 : 171.5cm\n",
      "홍길동의 나이 : 30세, 키 : 171.5cm\n"
     ]
    }
   ],
   "source": [
    "name = \"홍길동\"\n",
    "age = 30\n",
    "height = 171.5\n",
    "print('성 :', name[0])\n",
    "print('이름 :', name[1:])\n",
    "print(\"%s의 나이 : %d세, 키 : %.1fcm\" % (name, age, height)) \n",
    "print(f\"{name}의 나이 : {age}세, 키 : {height}cm\".format())"
   ]
  },
  {
   "cell_type": "code",
   "execution_count": 150,
   "id": "dbf023e9-c1d1-48ea-9c2b-8d4b36da8a56",
   "metadata": {},
   "outputs": [
    {
     "name": "stdin",
     "output_type": "stream",
     "text": [
      "학생 이름을 입력하세요 : 100\n",
      "국어 성적을 입력하세요 : 50\n",
      "영어 성적을 입력하세요 : 60\n",
      "수학 성적을 입력하세요 : 40\n"
     ]
    },
    {
     "name": "stdout",
     "output_type": "stream",
     "text": [
      "이름:100, 국어:50, 영어:60,수학:40, 평균:50.0점\n"
     ]
    }
   ],
   "source": [
    "name = input('학생 이름을 입력하세요 :') \n",
    "kor = int(input('국어 성적을 입력하세요 :')) \n",
    "eng = int(input('영어 성적을 입력하세요 :')) \n",
    "math = int(input('수학 성적을 입력하세요 :'))\n",
    "total = kor + eng + math \n",
    "avg = total / 3  \n",
    "print('이름:%s, 국어:%d, 영어:%d,수학:%d, 평균:%.1f점' % (name, kor, eng, math, avg))"
   ]
  },
  {
   "cell_type": "code",
   "execution_count": 152,
   "id": "7754410d-01df-489c-aa71-bc2d007fbaea",
   "metadata": {},
   "outputs": [
    {
     "name": "stdin",
     "output_type": "stream",
     "text": [
      "학생 이름을 입력하세요 : 종원\n",
      "국어 성적을 입력하세요 : 80\n",
      "영어 성적을 입력하세요 : 90\n",
      "수학 성적을 입력하세요 : 70\n"
     ]
    },
    {
     "name": "stdout",
     "output_type": "stream",
     "text": [
      "이름:종원, 국어:80, 영어:90,수학:70, 평균:80.0점\n"
     ]
    }
   ],
   "source": [
    "name = input('학생 이름을 입력하세요 :') \n",
    "kor = int(input('국어 성적을 입력하세요 :')) \n",
    "eng = int(input('영어 성적을 입력하세요 :')) \n",
    "math = int(input('수학 성적을 입력하세요 :'))\n",
    "total = kor + eng + math \n",
    "avg = total *0.333333  #최적화가 필요할때 소수점이 들어가면 고객사와 협의하에 한다 값이 바뀔수도 있기 때문이다\n",
    "print('이름:%s, 국어:%d, 영어:%d,수학:%d, 평균:%.1f점' % (name, kor, eng, math, avg))"
   ]
  },
  {
   "cell_type": "code",
   "execution_count": 162,
   "id": "43a6efcb-7d23-4cc9-ab2f-960bf482b2f1",
   "metadata": {},
   "outputs": [
    {
     "name": "stdin",
     "output_type": "stream",
     "text": [
      "숫자를 입력하세요 :  5555\n"
     ]
    },
    {
     "name": "stdout",
     "output_type": "stream",
     "text": [
      "양수!\n",
      "조건 제어문의 대표적인 명령은 if문입니다.\n"
     ]
    }
   ],
   "source": [
    " x = int(input('숫자를 입력하세요 : '))\n",
    "if x > 0 :\n",
    "    print('양수!')\n",
    "else :\n",
    "    print('0 또는 음수!')\n",
    "    \n",
    "print(\"조건 제어문의 대표적인 명령은 if문입니다.\")"
   ]
  },
  {
   "cell_type": "code",
   "execution_count": 166,
   "id": "c77e0484-806e-48c0-aea0-75387c81ec7e",
   "metadata": {},
   "outputs": [
    {
     "name": "stdin",
     "output_type": "stream",
     "text": [
      "숫자를 입력하세요 :  55555554\n"
     ]
    },
    {
     "name": "stdout",
     "output_type": "stream",
     "text": [
      "짝수이다.\n"
     ]
    }
   ],
   "source": [
    "num = int(input('숫자를 입력하세요 : '))\n",
    "if num % 2 == 0 :\n",
    "    print('짝수이다.')\n",
    "else :\n",
    "    print('홀수이다.')"
   ]
  },
  {
   "cell_type": "code",
   "execution_count": 168,
   "id": "ee551fd0-6e48-4ef0-ab1d-bac7f4767159",
   "metadata": {},
   "outputs": [
    {
     "name": "stdin",
     "output_type": "stream",
     "text": [
      "숫자를 입력하세요 :  444\n"
     ]
    },
    {
     "name": "stdout",
     "output_type": "stream",
     "text": [
      "7의 배수가 아닙니다.\n"
     ]
    }
   ],
   "source": [
    "num = int(input('숫자를 입력하세요 : '))\n",
    "if num % 7 == 0 :\n",
    "    print('7의 배수이다.') \n",
    "else :\n",
    "    print('7의 배수가 아닙니다.')"
   ]
  },
  {
   "cell_type": "code",
   "execution_count": 184,
   "id": "c5bb59b5-f3b5-4da2-acc0-c259508790a7",
   "metadata": {},
   "outputs": [
    {
     "name": "stdin",
     "output_type": "stream",
     "text": [
      "숫자를 입력하세요 :  44\n"
     ]
    },
    {
     "name": "stdout",
     "output_type": "stream",
     "text": [
      "44 은 3과 7의 공배수가 아닙니다.\n",
      "False\n"
     ]
    }
   ],
   "source": [
    "num = int(input('숫자를 입력하세요 : '))\n",
    "\n",
    "if num % 3 == 0 and num % 7 == 0:\n",
    "    print('num')\n",
    "    \n",
    "else :\n",
    "    print(num,\"은 3과 7의 공배수가 아닙니다.\")\n",
    "\n",
    "print(not num)"
   ]
  },
  {
   "cell_type": "code",
   "execution_count": 192,
   "id": "f5c79b82-f609-40d7-9a9a-f90c1669b457",
   "metadata": {},
   "outputs": [
    {
     "name": "stdin",
     "output_type": "stream",
     "text": [
      "아이디를 입력하세요 :  admin\n",
      "회원 레벨을 입력하세요 :  7\n"
     ]
    },
    {
     "name": "stdout",
     "output_type": "stream",
     "text": [
      "관리자이다.\n"
     ]
    }
   ],
   "source": [
    "id = input('아이디를 입력하세요 : ')\n",
    "level = int(input('회원 레벨을 입력하세요 : '))\n",
    "if id == 'admin' or level == 1 :\n",
    "    print('관리자이다.')\n",
    "else :\n",
    "    print('관리자가 아니다.')"
   ]
  },
  {
   "cell_type": "code",
   "execution_count": 206,
   "id": "7904a9bc-3299-4bb0-804c-7767ef7a0e7c",
   "metadata": {},
   "outputs": [
    {
     "name": "stdin",
     "output_type": "stream",
     "text": [
      "이름을 입력하세요 :  \n"
     ]
    },
    {
     "name": "stdout",
     "output_type": "stream",
     "text": [
      "이름이 입력되지 않았다.\n"
     ]
    }
   ],
   "source": [
    "name = input('이름을 입력하세요 : ')\n",
    "if not name :\n",
    "    print('이름이 입력되지 않았다.')\n",
    "else :\n",
    "    print('이름 : %s' % name)"
   ]
  },
  {
   "cell_type": "code",
   "execution_count": 212,
   "id": "fbef8e7d-b09c-4cab-afec-efe1f94b3ad6",
   "metadata": {},
   "outputs": [
    {
     "name": "stdin",
     "output_type": "stream",
     "text": [
      "나이를 입력하세요 :  6\n"
     ]
    },
    {
     "name": "stdout",
     "output_type": "stream",
     "text": [
      "입장료 : 무료\n"
     ]
    }
   ],
   "source": [
    "age = int(input('나이를 입력하세요 : '))\n",
    "pay = '3000원'\n",
    "if age >= 65 or age < 7 :\n",
    "    pay = '무료'\n",
    "print('입장료 : %s' % pay)"
   ]
  },
  {
   "cell_type": "code",
   "execution_count": 218,
   "id": "2b29d1d8-f4a5-4375-9029-710752190174",
   "metadata": {},
   "outputs": [
    {
     "name": "stdin",
     "output_type": "stream",
     "text": [
      "나이를 입력하세요 :  55\n"
     ]
    },
    {
     "name": "stdout",
     "output_type": "stream",
     "text": [
      "입장료 : 3000원 \n"
     ]
    }
   ],
   "source": [
    "#65세이상 , 7세 미만 무료\n",
    "#7세 이상,18세 이하 1000원\n",
    "#19세 이상 65세 미만 3000원\n",
    "\n",
    "age= int(input(\"나이를 입력하세요 : \"))\n",
    "\n",
    "if age < 7 or age >=65:\n",
    "    pay = \"무료\"\n",
    "elif age >= 7 and age <=18:\n",
    "    pay = \"1000원\"\n",
    "else:\n",
    "    pay = \"3000원\"\n",
    "\n",
    "    print(\"입장료 : %s \" %pay)"
   ]
  },
  {
   "cell_type": "code",
   "execution_count": 230,
   "id": "025613fb-7874-4897-866e-275f44850477",
   "metadata": {},
   "outputs": [
    {
     "name": "stdin",
     "output_type": "stream",
     "text": [
      "비밀번호를 입력하세요. 12345\n"
     ]
    },
    {
     "name": "stdout",
     "output_type": "stream",
     "text": [
      "비밀번호 OK!\n"
     ]
    },
    {
     "name": "stdin",
     "output_type": "stream",
     "text": [
      "비밀번호를 입력하세요. 12345\n"
     ]
    },
    {
     "name": "stdout",
     "output_type": "stream",
     "text": [
      "비밀번호 OK!\n"
     ]
    }
   ],
   "source": [
    "passwd =\"12345\"\n",
    "pwd=input(\"비밀번호를 입력하세요.\")\n",
    "\n",
    "if pwd == passwd :\n",
    "    print(\"비밀번호 OK!\")\n",
    "else:\n",
    "    print(\"비밀번호 ERROR!\")\n",
    "\n",
    "passwd = 12345\n",
    "pwd=int(input(\"비밀번호를 입력하세요.\"))\n",
    "\n",
    "if pwd == passwd :\n",
    "    print(\"비밀번호 OK!\")\n",
    "else:\n",
    "    print(\"비밀번호 ERROR!\")\n"
   ]
  },
  {
   "cell_type": "code",
   "execution_count": 246,
   "id": "80e924cd-afbe-46df-b92b-44ef8e5538bc",
   "metadata": {},
   "outputs": [
    {
     "name": "stdin",
     "output_type": "stream",
     "text": [
      "월을 입력하세요 :  7\n"
     ]
    },
    {
     "name": "stdout",
     "output_type": "stream",
     "text": [
      "7월은 여름입니다.\n"
     ]
    }
   ],
   "source": [
    "month = int(input('월을 입력하세요 : '))\n",
    "if month >= 3 and month <= 5 : \n",
    "    print('%d월은 봄입니다.' % month)\n",
    "if month >= 6 and month <= 8 : \n",
    "    print('%d월은 여름입니다.' % month)\n",
    "if month >= 9 and month <= 11 : \n",
    "    print('%d월은 가을입니다.' % month)\n",
    "if month == 12 or month == 1 or month == 2 : \n",
    "    print('%d월은 겨울입니다.' %month)"
   ]
  },
  {
   "cell_type": "code",
   "execution_count": 384,
   "id": "fe68343e-873f-485f-ae55-ca9042209976",
   "metadata": {},
   "outputs": [
    {
     "name": "stdout",
     "output_type": "stream",
     "text": [
      "i의 값 : 1, 합계 : 1\n",
      "i의 값 : 2, 합계 : 3\n",
      "i의 값 : 3, 합계 : 6\n",
      "i의 값 : 4, 합계 : 10\n",
      "i의 값 : 5, 합계 : 15\n",
      "i의 값 : 6, 합계 : 21\n",
      "i의 값 : 7, 합계 : 28\n",
      "i의 값 : 8, 합계 : 36\n",
      "i의 값 : 9, 합계 : 45\n",
      "i의 값 : 10, 합계 : 55\n"
     ]
    }
   ],
   "source": [
    "\n",
    "sum = 0\n",
    "for i in range(1, 11) :\n",
    "    sum += i\n",
    "    print('i의 값 : %d, 합계 : %d' % (i, sum))"
   ]
  },
  {
   "cell_type": "code",
   "execution_count": 406,
   "id": "d0eb3ff4-35eb-44bc-9ef5-6b229b91aa29",
   "metadata": {},
   "outputs": [
    {
     "name": "stdin",
     "output_type": "stream",
     "text": [
      "합계를 구할 최종값을 입력하세요. 55555\n"
     ]
    },
    {
     "name": "stdout",
     "output_type": "stream",
     "text": [
      "1~ 55555 까지 합계 : 1543206790\n"
     ]
    },
    {
     "name": "stdin",
     "output_type": "stream",
     "text": [
      "합계를 구할 최종값을 입력하세요. 55555\n"
     ]
    },
    {
     "name": "stdout",
     "output_type": "stream",
     "text": [
      "1~ 55555 까지 합계 : 1543206790\n"
     ]
    }
   ],
   "source": [
    "num =int(input(\"합계를 구할 최종값을 입력하세요.\"))\n",
    "#알고리즘1\n",
    "sum = 0\n",
    "for i in range(1, num+1) :\n",
    "    sum += i   #sum = sum+i\n",
    "print('1~' ,num,'까지 합계 : %d' % sum)\n",
    "\n",
    "num =int(input(\"합계를 구할 최종값을 입력하세요.\"))\n",
    "#알고리즘2\n",
    "sum = num*(num+1)*0.5\n",
    "print('1~' ,num,'까지 합계 : %d' % sum)"
   ]
  },
  {
   "cell_type": "code",
   "execution_count": null,
   "id": "0720d5c3-f8a5-48a6-8539-aa19f20277f9",
   "metadata": {},
   "outputs": [],
   "source": []
  }
 ],
 "metadata": {
  "kernelspec": {
   "display_name": "Python 3 (ipykernel)",
   "language": "python",
   "name": "python3"
  },
  "language_info": {
   "codemirror_mode": {
    "name": "ipython",
    "version": 3
   },
   "file_extension": ".py",
   "mimetype": "text/x-python",
   "name": "python",
   "nbconvert_exporter": "python",
   "pygments_lexer": "ipython3",
   "version": "3.12.4"
  }
 },
 "nbformat": 4,
 "nbformat_minor": 5
}
