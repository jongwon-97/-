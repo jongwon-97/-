{
 "cells": [
  {
   "cell_type": "code",
   "execution_count": 27,
   "id": "3883f7a4-32de-488b-9b00-b741f11273ec",
   "metadata": {},
   "outputs": [
    {
     "name": "stdout",
     "output_type": "stream",
     "text": [
      "- 3과목 합계와 평균\n",
      "이름 : 김성윤\n",
      "국어 : 85, 영어 : 90, 수학 : 83\n",
      "합계 : 258, 평균 : 86.0\n"
     ]
    }
   ],
   "source": [
    "#Q9-2 객체지향 합계/평균\n",
    "class SumAvg :\n",
    "    title = '- 3과목 합계와 평균'\n",
    "    def __init__(self, name, kor, eng, math) :\n",
    "        self.name = name\n",
    "        self.kor = kor\n",
    "        self.eng = eng\n",
    "        self.math = math\n",
    "    def getSum(self) :\n",
    "        sum = self.kor + self.eng + self.math\n",
    "        return sum\n",
    "s1 = SumAvg('김성윤', 85, 90, 83)\n",
    "print(SumAvg.title) \n",
    "print('이름 : %s' % s1.name) \n",
    "print('국어 : %d, 영어 : %d, 수학 : %d' % (s1.kor, s1.eng, s1.math)) \n",
    "print('합계 : %d, 평균 : %.1f' % (s1.getSum(),s1.getSum()/3))"
   ]
  },
  {
   "cell_type": "code",
   "execution_count": 55,
   "id": "7e26a06c-98b1-4a58-8248-5d9ddd7c39c2",
   "metadata": {},
   "outputs": [
    {
     "name": "stdin",
     "output_type": "stream",
     "text": [
      "첫번째 수를 입력하세요 :  10\n",
      "두번째 수를 입력하세요 :  20\n"
     ]
    },
    {
     "name": "stdout",
     "output_type": "stream",
     "text": [
      "10 - 20 = -10\n",
      "10 / 20 = 0.5\n"
     ]
    }
   ],
   "source": [
    "#Q9-3 객체지향 사칙연산 계산\n",
    "class Calculator :\n",
    "    def __init__(self, num1, num2) :\n",
    "        self.num1 = num1\n",
    "        self.num2 = num2\n",
    "    def add(self) :\n",
    "        return self.num1 + self.num2\n",
    "    def sub(self) :\n",
    "        return self.num1 - self.num2\n",
    "    def mul(self) :\n",
    "        return self.num1 * self.num2\n",
    "    def div(self) :\n",
    "        return self.num1 / self.num2\n",
    "a = int(input('첫번째 수를 입력하세요 : ')) \n",
    "b = int(input('두번째 수를 입력하세요 : '))\n",
    "cal1 = Calculator(a, b) \n",
    "print('%d - %d = %d' % (a, b, cal1.sub()))\n",
    "print('%d / %d = %.1f' % (a, b, cal1.div()))\n"
   ]
  },
  {
   "cell_type": "code",
   "execution_count": 59,
   "id": "b3285d78-e431-414d-90b5-c6ead49e782c",
   "metadata": {},
   "outputs": [
    {
     "name": "stdout",
     "output_type": "stream",
     "text": [
      "성명 : 김지혜\n",
      "이메일 : rubato@hanmail.net\n",
      "전화번호 : 010-1234-4567\n"
     ]
    }
   ],
   "source": [
    "#Q9-4 생성자 매개변수 리스트\n",
    "class Person :\n",
    "    def __init__(self,info) :\n",
    "        self.info = info\n",
    "    def getName(self) :\n",
    "        return self.info[0]\n",
    "    def getEmail(self) :\n",
    "        return self.info[1] \n",
    "    def getPhoneNum(self) :\n",
    "        return self.info[2]\n",
    "info = ['김지혜', 'rubato@hanmail.net', '010-1234-4567'] \n",
    "person = Person(info)\n",
    "print('성명 : %s' % person.getName()) \n",
    "print('이메일 : %s' % person.getEmail()) \n",
    "print('전화번호 : %s' % person.getPhoneNum())"
   ]
  },
  {
   "cell_type": "code",
   "execution_count": 65,
   "id": "f7da2bd9-fd92-493f-85ff-4ef35e642d97",
   "metadata": {},
   "outputs": [
    {
     "name": "stdout",
     "output_type": "stream",
     "text": [
      "역순 : !snoipmahc eht era eW\n",
      "하이픈(-) 삽입 : We-are-the-champions!\n"
     ]
    }
   ],
   "source": [
    "#Q9-5 객체지향 문자열 다루기\n",
    "class EngSentence :\n",
    "    def __init__(self, sentence) :\n",
    "        self.sentence = sentence\n",
    "        self.length = len(self.sentence)\n",
    "    def reverse(self) :\n",
    "        tmp = ''\n",
    "        for i in range(self.length) : \n",
    "            tmp += (self.sentence[self.length-i-1])\n",
    "        return tmp\n",
    "    def insertHypen(self) :\n",
    "            tmp = ''\n",
    "            for i in range(self.length) :\n",
    "                if self.sentence[i] == ' ' :\n",
    "                    tmp += '-'\n",
    "                else :\n",
    "                    tmp += self.sentence[i]\n",
    "            return tmp\n",
    "a = 'We are the champions!' \n",
    "eng1 = EngSentence(a) \n",
    "print('역순 : %s' % eng1.reverse()) \n",
    "print('하이픈(-) 삽입 : %s' % eng1.insertHypen())"
   ]
  },
  {
   "cell_type": "code",
   "execution_count": null,
   "id": "943b9f53-e2f3-48b4-a5c5-67e221f1ee0b",
   "metadata": {},
   "outputs": [],
   "source": []
  }
 ],
 "metadata": {
  "kernelspec": {
   "display_name": "Python 3 (ipykernel)",
   "language": "python",
   "name": "python3"
  },
  "language_info": {
   "codemirror_mode": {
    "name": "ipython",
    "version": 3
   },
   "file_extension": ".py",
   "mimetype": "text/x-python",
   "name": "python",
   "nbconvert_exporter": "python",
   "pygments_lexer": "ipython3",
   "version": "3.12.4"
  }
 },
 "nbformat": 4,
 "nbformat_minor": 5
}
