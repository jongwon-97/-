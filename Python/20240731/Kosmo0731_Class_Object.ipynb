{
 "cells": [
  {
   "cell_type": "code",
   "execution_count": 125,
   "id": "bead9297-3f11-43e6-8072-6bcd89fb3c2f",
   "metadata": {},
   "outputs": [
    {
     "name": "stdout",
     "output_type": "stream",
     "text": [
      "년 : 2024\n",
      "월 : 7\n",
      "일 : 31\n",
      "시 : 11\n",
      "분 : 13\n",
      "초 : 48\n",
      "2024/07/31 11:13:48\n",
      "24-07-31 AM 11:13\n"
     ]
    }
   ],
   "source": [
    "from datetime import datetime\n",
    "today = datetime.now()\n",
    "print('년 : %s' % today.year)\n",
    "print('월 : %s' % today.month)\n",
    "print('일 : %s' % today.day)\n",
    "print('시 : %s' % today.hour)\n",
    "print('분 : %s' % today.minute)\n",
    "print('초 : %s' % today.second)\n",
    "print(today.strftime('%Y/%m/%d %H:%M:%S'))\n",
    "print(today.strftime('%y-%m-%d %p %I:%M'))"
   ]
  },
  {
   "cell_type": "code",
   "execution_count": 137,
   "id": "0c78412f-267d-4110-bcdc-dbf9cf782a4e",
   "metadata": {},
   "outputs": [
    {
     "name": "stdout",
     "output_type": "stream",
     "text": [
      "10 + 20 = 30\n",
      "100 + 200 = 300\n"
     ]
    }
   ],
   "source": [
    "class Calculator :\n",
    "    def set(self, x, y) :\n",
    "        self.first = x\n",
    "        self.second = y\n",
    "    def add(self) :\n",
    "        result = self.first + self.second\n",
    "        return result\n",
    "cal1 = Calculator()\n",
    "cal1.set(10, 20)\n",
    "print('%d + %d = %d' % (cal1.first, cal1.second, \n",
    "cal1.add()))\n",
    "cal1.set(100, 200)\n",
    "print('%d + %d = %d' % (cal1.first, cal1.second, \n",
    "cal1.add()))\n"
   ]
  },
  {
   "cell_type": "code",
   "execution_count": 18,
   "id": "4235e1e5-bda6-42a5-8000-176312172fdb",
   "metadata": {},
   "outputs": [
    {
     "name": "stdout",
     "output_type": "stream",
     "text": [
      "이름 : 홍지수\n",
      "나이 : 24\n",
      "이름 : 안지영\n",
      "나이 : 20\n"
     ]
    }
   ],
   "source": [
    "class Member :\n",
    "    def __init__(self, name, age) :\n",
    "        self.name = name\n",
    "        self.age = age\n",
    "    def showMember(self) :\n",
    "        print('이름 : %s' % self.name)\n",
    "        print('나이 : %d' % self.age)\n",
    "mem1 = Member('홍지수', 24)\n",
    "mem1.showMember()\n",
    "mem2 = Member('안지영', 20)\n",
    "mem2.showMember()"
   ]
  },
  {
   "cell_type": "code",
   "execution_count": 16,
   "id": "1ec53cab-f5b1-4384-b9da-03b4e2f58fb8",
   "metadata": {},
   "outputs": [
    {
     "name": "stdout",
     "output_type": "stream",
     "text": [
      "110\n",
      "130\n",
      "140\n"
     ]
    }
   ],
   "source": [
    "class MyClass :\n",
    "    number = 100 # 클래스 속성 myclass안에서 변수 공유 \n",
    "    def inc_10(self): \n",
    "        MyClass.number += 10    \n",
    "    def inc_20(self): \n",
    "        MyClass.number += 20\n",
    "obj1 = MyClass() \n",
    "obj1.inc_10()            #여기서 나온 결과값은 110인데 number=110이 그대로 공유된다\n",
    "print(obj1.number)\n",
    "obj2 = MyClass()         #number=110 이 number+=20 에 적용 > 130이나옴\n",
    "obj2.inc_20()            #여기서 나온 결과값은 110인데 number=20이 그대로 공유된다\n",
    "print(obj2.number)\n",
    "obj2.inc_10()            #여기서 나온 결과값은 130인데 number=10이 그대로 공유된다\n",
    "print(obj2.number)"
   ]
  },
  {
   "cell_type": "code",
   "execution_count": 30,
   "id": "320eae4f-feb7-478d-8f82-bf98460b7bde",
   "metadata": {},
   "outputs": [
    {
     "name": "stdout",
     "output_type": "stream",
     "text": [
      "110\n",
      "130\n",
      "210\n",
      "230\n"
     ]
    }
   ],
   "source": [
    "class MyClass :\n",
    "    def __init__(self, number) :\n",
    "        self.number = number # 인스턴스 속성\n",
    "    def inc_10(self): \n",
    "        self.number += 10\n",
    "    def inc_20(self): \n",
    "        self.number += 20\n",
    "obj1 = MyClass(100) \n",
    "obj1.inc_10()\n",
    "print(obj1.number)\n",
    "obj1.inc_20()\n",
    "print(obj1.number)\n",
    "obj2 = MyClass(200) \n",
    "obj2.inc_10()\n",
    "print(obj2.number)\n",
    "obj2.inc_20() \n",
    "print(obj2.number)"
   ]
  },
  {
   "cell_type": "code",
   "execution_count": 12,
   "id": "df351d76-bc56-4dbf-9883-bbeae2050bb1",
   "metadata": {},
   "outputs": [
    {
     "name": "stdout",
     "output_type": "stream",
     "text": [
      "반지름: 10\n",
      "원의 면적 : 314.16\n",
      "원주의 길이 : 62.83184000\n"
     ]
    }
   ],
   "source": [
    "import math\n",
    "class Circle :\n",
    "    def __init__(self, radius) :\n",
    "        self.radius = radius\n",
    "    def getArea(self) :\n",
    "        area = math.pi * self.radius * self.radius\n",
    "        return area\n",
    "    def getCircum(self) :\n",
    "        circum = 2 * 3.141592 * self.radius\n",
    "        return circum\n",
    "cir = Circle(10)\n",
    "print('반지름: %d' % cir.radius) \n",
    "print('원의 면적 : %.2f' % cir.getArea())\n",
    "print('원주의 길이 : %.8f' % cir.getCircum())"
   ]
  },
  {
   "cell_type": "code",
   "execution_count": 26,
   "id": "d2721729-c1f5-465f-891a-a32ec6e3e382",
   "metadata": {},
   "outputs": [
    {
     "name": "stdout",
     "output_type": "stream",
     "text": [
      "이름:홍지수, 나이:20\n",
      "홍지수, 20\n",
      "홍지수님의 학과:소프트웨어공학과, 학번:20215550001\n"
     ]
    }
   ],
   "source": [
    "class Person:\n",
    "    def __init__(self, name, age):\n",
    "        self.name = name\n",
    "        self.age = age\n",
    "    def printInfo(self):\n",
    "        print('이름:%s, 나이:%d' % (self.name, self.age))\n",
    "    def getInfo(self) :\n",
    "        return self.name + ', ' + str(self.age)\n",
    "class Student(Person):\n",
    "    def __init__(self, name, age, department, id):\n",
    "        super().__init__(name, age)\n",
    "        self.department = department\n",
    "        self.id = id\n",
    "    def printStudentInfo(self):\n",
    "        name_age = super().getInfo()\n",
    "        print(name_age)\n",
    "        print('%s님의 학과:%s, 학번:%s' % (self.name,self.department, self.id))\n",
    "x = Student('홍지수', 20, '소프트웨어공학과', '20215550001')\n",
    "x.printInfo()\n",
    "x.printStudentInfo()\n"
   ]
  },
  {
   "cell_type": "code",
   "execution_count": 28,
   "id": "255350ef-75c2-49c5-b93a-c30268f3a782",
   "metadata": {},
   "outputs": [
    {
     "name": "stdout",
     "output_type": "stream",
     "text": [
      "Requirement already satisfied: pyinstaller in c:\\users\\user\\anaconda3\\lib\\site-packages (6.9.0)\n",
      "Requirement already satisfied: setuptools>=42.0.0 in c:\\users\\user\\anaconda3\\lib\\site-packages (from pyinstaller) (69.5.1)\n",
      "Requirement already satisfied: altgraph in c:\\users\\user\\anaconda3\\lib\\site-packages (from pyinstaller) (0.17.4)\n",
      "Requirement already satisfied: pyinstaller-hooks-contrib>=2024.7 in c:\\users\\user\\anaconda3\\lib\\site-packages (from pyinstaller) (2024.7)\n",
      "Requirement already satisfied: packaging>=22.0 in c:\\users\\user\\appdata\\roaming\\python\\python312\\site-packages (from pyinstaller) (24.1)\n",
      "Requirement already satisfied: pefile>=2022.5.30 in c:\\users\\user\\anaconda3\\lib\\site-packages (from pyinstaller) (2023.2.7)\n",
      "Requirement already satisfied: pywin32-ctypes>=0.2.1 in c:\\users\\user\\anaconda3\\lib\\site-packages (from pyinstaller) (0.2.2)\n"
     ]
    }
   ],
   "source": [
    "!pip install pyinstaller"
   ]
  },
  {
   "cell_type": "code",
   "execution_count": 30,
   "id": "3750571c-47b2-4d3a-aba6-82061dac0a82",
   "metadata": {},
   "outputs": [
    {
     "name": "stdout",
     "output_type": "stream",
     "text": [
      "Requirement already satisfied: numpy in c:\\users\\user\\anaconda3\\lib\\site-packages (1.26.4)\n"
     ]
    }
   ],
   "source": [
    "!pip install numpy"
   ]
  },
  {
   "cell_type": "code",
   "execution_count": 32,
   "id": "6d4a0140-fec1-4dde-aa94-46633951065a",
   "metadata": {},
   "outputs": [
    {
     "name": "stdout",
     "output_type": "stream",
     "text": [
      "Collecting folium\n",
      "  Downloading folium-0.17.0-py2.py3-none-any.whl.metadata (3.8 kB)\n",
      "Collecting branca>=0.6.0 (from folium)\n",
      "  Downloading branca-0.7.2-py3-none-any.whl.metadata (1.5 kB)\n",
      "Requirement already satisfied: jinja2>=2.9 in c:\\users\\user\\anaconda3\\lib\\site-packages (from folium) (3.1.4)\n",
      "Requirement already satisfied: numpy in c:\\users\\user\\anaconda3\\lib\\site-packages (from folium) (1.26.4)\n",
      "Requirement already satisfied: requests in c:\\users\\user\\anaconda3\\lib\\site-packages (from folium) (2.32.2)\n",
      "Requirement already satisfied: xyzservices in c:\\users\\user\\anaconda3\\lib\\site-packages (from folium) (2022.9.0)\n",
      "Requirement already satisfied: MarkupSafe>=2.0 in c:\\users\\user\\anaconda3\\lib\\site-packages (from jinja2>=2.9->folium) (2.1.3)\n",
      "Requirement already satisfied: charset-normalizer<4,>=2 in c:\\users\\user\\anaconda3\\lib\\site-packages (from requests->folium) (2.0.4)\n",
      "Requirement already satisfied: idna<4,>=2.5 in c:\\users\\user\\anaconda3\\lib\\site-packages (from requests->folium) (3.7)\n",
      "Requirement already satisfied: urllib3<3,>=1.21.1 in c:\\users\\user\\anaconda3\\lib\\site-packages (from requests->folium) (2.2.2)\n",
      "Requirement already satisfied: certifi>=2017.4.17 in c:\\users\\user\\anaconda3\\lib\\site-packages (from requests->folium) (2024.7.4)\n",
      "Downloading folium-0.17.0-py2.py3-none-any.whl (108 kB)\n",
      "   ---------------------------------------- 0.0/108.4 kB ? eta -:--:--\n",
      "   --- ------------------------------------ 10.2/108.4 kB ? eta -:--:--\n",
      "   ---------------------------------------- 108.4/108.4 kB 1.6 MB/s eta 0:00:00\n",
      "Downloading branca-0.7.2-py3-none-any.whl (25 kB)\n",
      "Installing collected packages: branca, folium\n",
      "Successfully installed branca-0.7.2 folium-0.17.0\n"
     ]
    }
   ],
   "source": [
    "!pip install folium"
   ]
  },
  {
   "cell_type": "code",
   "execution_count": null,
   "id": "3a11ce02-ee86-48d5-955a-d738654b3516",
   "metadata": {},
   "outputs": [],
   "source": []
  }
 ],
 "metadata": {
  "kernelspec": {
   "display_name": "Python 3 (ipykernel)",
   "language": "python",
   "name": "python3"
  },
  "language_info": {
   "codemirror_mode": {
    "name": "ipython",
    "version": 3
   },
   "file_extension": ".py",
   "mimetype": "text/x-python",
   "name": "python",
   "nbconvert_exporter": "python",
   "pygments_lexer": "ipython3",
   "version": "3.12.4"
  }
 },
 "nbformat": 4,
 "nbformat_minor": 5
}
