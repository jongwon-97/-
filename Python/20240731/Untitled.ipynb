{
 "cells": [
  {
   "cell_type": "code",
   "execution_count": 11,
   "id": "5c252269-944f-4ff4-aa05-ec3e162ec14e",
   "metadata": {},
   "outputs": [
    {
     "name": "stdin",
     "output_type": "stream",
     "text": [
      " 2\n",
      " 4\n",
      " west\n",
      " east\n",
      " wait\n"
     ]
    },
    {
     "name": "stdout",
     "output_type": "stream",
     "text": [
      "#1 3\n"
     ]
    },
    {
     "name": "stdin",
     "output_type": "stream",
     "text": [
      " 7\n",
      " samsung\n",
      " samsung\n",
      " samsung\n"
     ]
    },
    {
     "name": "stdout",
     "output_type": "stream",
     "text": [
      "#2 0\n"
     ]
    }
   ],
   "source": [
    "T = int(input())\n",
    "for test_case in range(1, T + 1):\n",
    "    n=int(input())\n",
    "    A=input()\n",
    "    B=input()\n",
    "    C=input()\n",
    "    count=0\n",
    "    for i in range(len(A)):\n",
    "        if A[i] == B[i] and B[i]==C[i] and A[i] == C[i]:\n",
    "            count += 0\n",
    "        elif A[i] != B[i] and B[i]!=C[i] and A[i] != C[i]:\n",
    "            count += 2\n",
    "        else: \n",
    "            count +=1\n",
    "    print(\"#%d %d\" % (test_case,count))"
   ]
  },
  {
   "cell_type": "code",
   "execution_count": 15,
   "id": "101a620b-e9b8-4e30-b21a-f1950a03a208",
   "metadata": {},
   "outputs": [
    {
     "name": "stdin",
     "output_type": "stream",
     "text": [
      " 2\n",
      " 4\n",
      " west\n",
      " wait\n",
      " east\n"
     ]
    },
    {
     "name": "stdout",
     "output_type": "stream",
     "text": [
      "#1  3\n"
     ]
    },
    {
     "name": "stdin",
     "output_type": "stream",
     "text": [
      " 7\n",
      " samsung\n",
      " samsung\n",
      " samsung\n"
     ]
    },
    {
     "name": "stdout",
     "output_type": "stream",
     "text": [
      "#2  0\n"
     ]
    }
   ],
   "source": [
    "T = int(input())\n",
    "for test_case in range(1, T + 1):\n",
    "    n=int(input())\n",
    "    A=input()\n",
    "    B=input()\n",
    "    C=input()\n",
    "    count=0\n",
    "    for i in range(len(A)):\n",
    "        if A[i] == B[i] and B[i]==C[i] and A[i] == C[i]:\n",
    "            count += 0\n",
    "        elif A[i] != B[i] and B[i]!=C[i] and A[i] != C[i]:\n",
    "            count += 2\n",
    "        else: \n",
    "            count +=1\n",
    "    print(f\"#{test_case}  {count}\")"
   ]
  }
 ],
 "metadata": {
  "kernelspec": {
   "display_name": "Python 3 (ipykernel)",
   "language": "python",
   "name": "python3"
  },
  "language_info": {
   "codemirror_mode": {
    "name": "ipython",
    "version": 3
   },
   "file_extension": ".py",
   "mimetype": "text/x-python",
   "name": "python",
   "nbconvert_exporter": "python",
   "pygments_lexer": "ipython3",
   "version": "3.12.4"
  }
 },
 "nbformat": 4,
 "nbformat_minor": 5
}
