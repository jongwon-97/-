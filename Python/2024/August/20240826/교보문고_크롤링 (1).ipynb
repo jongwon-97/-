{
 "cells": [
  {
   "cell_type": "code",
   "execution_count": null,
   "id": "e3a8e77e-2fe4-40d4-8b12-5c95144d0237",
   "metadata": {},
   "outputs": [],
   "source": [
    "#https://store.kyobobook.co.kr/bestseller/total/weekly?page=2\n",
    "\n",
    "#저자,출판사,날짜body > div > main > section > div > div > section > ol.grid.border-t.border-gray-400.grid-cols-1.pt-9 > li:nth-child(1) > div > div.flex.items-top.justify-start.mr-\\[35px\\] > div.ml-4.w-\\[516px\\] > div.line-clamp-2.flex.overflow-hidden.whitespace-normal.break-all.text-gray-800.font-text-l.mt-1\n",
    "#가격body > div > main > section > div > div > section > ol.grid.border-t.border-gray-400.grid-cols-1.pt-9 > li:nth-child(1) > div > div.flex.items-top.justify-start.mr-\\[35px\\] > div.ml-4.w-\\[516px\\] > div.flex.flex-col.mt-3 > div\n"
   ]
  },
  {
   "cell_type": "code",
   "execution_count": 153,
   "id": "91012221-ef7f-4ee9-a29b-7fb2e14621e3",
   "metadata": {},
   "outputs": [
    {
     "name": "stdout",
     "output_type": "stream",
     "text": [
      "                                저자      출판사         출판일      가격    할인가격    평점\n",
      "책제목                                                                          \n",
      "당신이 누군가를 죽였다              히가시노 게이고       북다  2024.07.23  17,820  19,800  9.57\n",
      "THE MONEY BOOK(더 머니북)           토스  비바리퍼블리카  2024.05.27  19,800  22,000   9.3\n",
      "불변의 법칙                      모건 하우절      서삼독  2024.02.28  22,500  25,000  9.49\n",
      "에그박사 13                       에그박사  미래엔아이세움  2024.08.08  14,220  15,800  9.91\n",
      "모순                             양귀자       쓰다  2013.04.01  11,700  13,000  9.79\n",
      "...                            ...      ...         ...     ...     ...   ...\n",
      "읽는 기도                      무명의 기도자      더하트  2024.05.23   4,950   5,500  9.81\n",
      "이방인                         알베르 카뮈      민음사  2019.09.02   9,000  10,000  9.74\n",
      "LLM을 활용한 실전 AI 애플리케이션 개발       허정준       책만  2024.07.25  28,800  32,000    10\n",
      "남에게 보여주려고 인생을 낭비하지 마라        쇼펜하우어   페이지2북스  2023.10.30  15,750  17,500  9.01\n",
      "타키 포오 코믹 어드벤처 6              캐릭온TV     대원키즈  2024.08.15  13,050  14,500    10\n",
      "\n",
      "[200 rows x 6 columns]\n"
     ]
    }
   ],
   "source": [
    "from selenium import webdriver\n",
    "from selenium.webdriver.common.keys import Keys\n",
    "from selenium.webdriver.common.by import By\n",
    "\n",
    "from selenium.webdriver.chrome.service import Service\n",
    "from selenium.webdriver.chrome.options import Options\n",
    "from webdriver_manager.chrome import ChromeDriverManager\n",
    "import time\n",
    "import pandas as pd\n",
    "da=[]\n",
    "\n",
    "serv=Service(excutable_path = ChromeDriverManager().install())\n",
    "driver = webdriver.Chrome(service=serv)\n",
    "for p in range(1,11):\n",
    "\n",
    "    driver.get(f\"https://store.kyobobook.co.kr/bestseller/total/weekly?page={p}\")\n",
    "    time.sleep(2)\n",
    "\n",
    "    ma = driver.find_elements(By.CSS_SELECTOR,\".pt-9 div.ml-4\")\n",
    "    for book in ma:\n",
    "        \n",
    "        ti = book.find_element(By.CSS_SELECTOR,\".ml-4 a\").text.strip()  # .앞에 왠만하면 태그 이름 써주는게 좋다 \n",
    "        pr = book.find_element(By.CSS_SELECTOR,\".mt-3 span .font-weight-bold\").text.strip()\n",
    "        sa = book.find_element(By.CSS_SELECTOR,\".mt-3 s\").text.replace(\"원\",\"\").strip()\n",
    "        day = book.find_element(By.CSS_SELECTOR,\".mt-1 span\").text.replace(\"·\", \"\").strip()\n",
    "        au= book.find_element(By.CSS_SELECTOR,\"div.mt-1\").text.split(\"·\")[0].strip()\n",
    "        ad= book.find_element(By.CSS_SELECTOR,\"div.mt-1\").text.split(\"·\")[1].strip()\n",
    "        re= book.find_element(By.CSS_SELECTOR,\"span.text-black\").text.strip()\n",
    "        # 필요에 따라 다른 정보를 추출할 수 있습니다.\n",
    "        da.append({\"책제목\": ti,\"저자\":au,\"출판사\":ad,\"출판일\":day,\"가격\":pr,\"할인가격\":sa,\"평점\":re})\n",
    "df = pd.DataFrame(da)\n",
    "df.set_index(\"책제목\", inplace=True)\n",
    "df.to_csv(\"교보문고_utf-8.csv\", encoding=\"utf-8\")\n",
    "df.to_csv(\"교보문고_euc-kr.csv\", encoding=\"euc-kr\")\n",
    "df.to_csv(\"교보문고_utf-8-sig.csv\", encoding=\"utf-8-sig\")\n",
    "print(df)  # 결과 출력"
   ]
  },
  {
   "cell_type": "code",
   "execution_count": null,
   "id": "b1ec40e7-77c0-43c8-8d64-16455a18dad6",
   "metadata": {},
   "outputs": [],
   "source": []
  }
 ],
 "metadata": {
  "kernelspec": {
   "display_name": "Python 3 (ipykernel)",
   "language": "python",
   "name": "python3"
  },
  "language_info": {
   "codemirror_mode": {
    "name": "ipython",
    "version": 3
   },
   "file_extension": ".py",
   "mimetype": "text/x-python",
   "name": "python",
   "nbconvert_exporter": "python",
   "pygments_lexer": "ipython3",
   "version": "3.12.4"
  }
 },
 "nbformat": 4,
 "nbformat_minor": 5
}
