{
 "cells": [
  {
   "cell_type": "code",
   "execution_count": 3,
   "id": "0dad91e0-9a52-4a6a-9641-1a34a961d0b3",
   "metadata": {},
   "outputs": [],
   "source": [
    "from flask import Flask\n",
    "from urllib import request\n",
    "from bs4 import BeautifulSoup\n",
    "\n",
    "app= Flask(__name__)\n",
    "@app.route(\"/\")\n",
    "\n",
    "def hello():\n",
    "    \n",
    "    target=request.urlopen(\"http://www.kma.go.kr/weather/forecast/mid-term-rss3.jsp?stnId=108\")\n",
    "\n",
    "    soup = BeautifulSoup(target,\"html.parser\")\n",
    "\n",
    "    output=\"\"\n",
    "    for location in soup.select(\"location\"):\n",
    "        output +=\"<h3>{}</h3>\".format(location.select_one(\"city\").string)\n",
    "        output +=\"날씨: {}<br/>\".format(location.select_one(\"wf\").string)\n",
    "        output +=\"최저/최고 기온:{}/{}\".format(location.select_one(\"tmn\").string,location.select_one(\"tmx\").string)\n",
    "        output +=\"<hr/>\"\n",
    "    return output\n"
   ]
  }
 ],
 "metadata": {
  "kernelspec": {
   "display_name": "Python 3 (ipykernel)",
   "language": "python",
   "name": "python3"
  },
  "language_info": {
   "codemirror_mode": {
    "name": "ipython",
    "version": 3
   },
   "file_extension": ".py",
   "mimetype": "text/x-python",
   "name": "python",
   "nbconvert_exporter": "python",
   "pygments_lexer": "ipython3",
   "version": "3.12.4"
  }
 },
 "nbformat": 4,
 "nbformat_minor": 5
}
