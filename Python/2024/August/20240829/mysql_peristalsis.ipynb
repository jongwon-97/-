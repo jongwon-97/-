{
 "cells": [
  {
   "cell_type": "code",
   "execution_count": null,
   "id": "86349549-4a3f-4e31-b3be-80c1e6a60af8",
   "metadata": {
    "scrolled": true
   },
   "outputs": [],
   "source": [
    "!pip install pymysql"
   ]
  },
  {
   "cell_type": "code",
   "execution_count": 15,
   "id": "b6f90f44-2a24-4b6b-a6fa-0c4591b50143",
   "metadata": {},
   "outputs": [],
   "source": [
    "import pymysql\n",
    "# 1. mysql DB에 연결하기 connect() 함수 사용.\n",
    "# 2. 커서 생성 cursor() 함수 사용.\n",
    "# 3. 생성된 커서를 이용해서 sql 명령어를 실행한다. execute() 함수 사용.\n",
    "# 4. 입력한 데이터를 저장한다. commit() 함수 사용.\n",
    "# 5. mysql DB에 연결해제 close()함수 사용.\n",
    "# ----------------------------------------------------------------------\n",
    "\n",
    "# 1. mysql DB에 연결하기\n",
    "conn= pymysql.connect(host='localhost',user='root',password='mysql904#',db='kosmo',charset='utf8')\n",
    "\n",
    "# 2. 커서 생성 cursor() 함수 사용.\n",
    "cur=conn.cursor()\n",
    "\n",
    "# 3. 생성된 커서를 이용해서 sql 명령어를 실행한다. execute() 함수 사용.\n",
    "cur.execute(\"insert into customer values(6,'박종원','대한민국 서울시','02-599-8697')\")\n",
    "cur.execute(\"insert into customer values(7,'이순신','대한민국 남해시','062-599-8697')\")\n",
    "\n",
    "# 4. 입력한 데이터를 저장한다. commit() 함수 사용.\n",
    "conn.commit()\n",
    "\n",
    "# 5. mysql DB에 연결해제 close()함수 사용.\n",
    "conn.close()"
   ]
  },
  {
   "cell_type": "code",
   "execution_count": 57,
   "id": "84e47baa-b9ce-4f6d-8246-f2653ceae3d1",
   "metadata": {},
   "outputs": [],
   "source": [
    "import pymysql\n",
    "conn= pymysql.connect(host='localhost',user='root',password='mysql904#',db='solodb',charset='utf8')\n",
    "cur=conn.cursor()\n",
    "cur.execute(\"create table usertable(id varchar(20), username varchar(20) not null,email varchar(20),birthyear int)\")\n",
    "cur.execute(\"insert into usertable values('hong','홍지윤','hong@naver.com',1996)\")\n",
    "cur.execute(\"insert into usertable values('kim','김태연','kim@naver.com',2011)\")\n",
    "cur.execute(\"insert into usertable values('star','별사람','star@naver.com',1990)\")\n",
    "cur.execute(\"insert into usertable values('yang','양지은','yang@naver.com',1993)\")\n",
    "conn.commit()\n"
   ]
  },
  {
   "cell_type": "code",
   "execution_count": 3,
   "id": "079ecd54-9dd9-437f-8a8d-a653c730821d",
   "metadata": {},
   "outputs": [],
   "source": [
    "import pymysql\n",
    "conn= pymysql.connect(host='localhost',user='root',password='mysql904#',db='solodb',charset='utf8')\n",
    "cur=conn.cursor()\n",
    "# cur.execute(\"create table dbinfo(dbms varchar(20),production_company varchar(40),OS varchar(40),etc varchar(40))\")\n",
    "cur.execute(\"insert into dbinfo values('MySQL','Oracle','Unix,Linux,Windows,Mac','오픈소스(무료),상용')\")\n",
    "cur.execute(\"insert into dbinfo values('MariaDB','MariaDB','Unix,Linux,Windows','오픈소스(무료),MySQL 초기 개발자들이 독립해서 만듦')\")\n",
    "cur.execute(\"insert into dbinfo values('PostgreSQL','PostgreSQL','Unix,Linux,Windows,Mac','오픈소스(무료)')\")\n",
    "cur.execute(\"insert into dbinfo values('Oracle','Oracle','Unix,Linux,Windows','상용 시장 점유율 1위')\")\n",
    "cur.execute(\"insert into dbinfo values('SQL Server','Microsoft','Windows','주로 중/대형급 시장에서 사용')\")\n",
    "cur.execute(\"insert into dbinfo values('DB2','IBM','Unix,Linux,Windows','메인프레임 시장 점유율 1위')\")\n",
    "cur.execute(\"insert into dbinfo values('Access','Microsoft','Windows','PC용')\")\n",
    "cur.execute(\"insert into dbinfo values('SQLite','SQLite','Android,IOS','모바일 전용,오픈소스(무료)')\")\n",
    "conn.commit()\n",
    "\n",
    "    "
   ]
  },
  {
   "cell_type": "code",
   "execution_count": 5,
   "id": "f5408380-d7af-46c0-9981-0067e17f4379",
   "metadata": {},
   "outputs": [],
   "source": [
    "conn.close()"
   ]
  },
  {
   "cell_type": "code",
   "execution_count": null,
   "id": "0a56c8fd-2ea6-462a-b8ec-b8868f95c5b1",
   "metadata": {},
   "outputs": [],
   "source": []
  }
 ],
 "metadata": {
  "kernelspec": {
   "display_name": "Python 3 (ipykernel)",
   "language": "python",
   "name": "python3"
  },
  "language_info": {
   "codemirror_mode": {
    "name": "ipython",
    "version": 3
   },
   "file_extension": ".py",
   "mimetype": "text/x-python",
   "name": "python",
   "nbconvert_exporter": "python",
   "pygments_lexer": "ipython3",
   "version": "3.12.4"
  }
 },
 "nbformat": 4,
 "nbformat_minor": 5
}
