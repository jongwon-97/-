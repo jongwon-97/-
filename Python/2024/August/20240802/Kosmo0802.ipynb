{
 "cells": [
  {
   "cell_type": "code",
   "execution_count": 522,
   "id": "904a8bde-151e-41f7-b617-19f632ac3a45",
   "metadata": {},
   "outputs": [
    {
     "name": "stdout",
     "output_type": "stream",
     "text": [
      "h\n"
     ]
    }
   ],
   "source": [
    "\n",
    "ary=[['a','b','c'],     #주어진 배열.\n",
    "     ['d','e','f'],\n",
    "     ['g,','h','i']]\n",
    "d1=len(ary)       #배열의 행.\n",
    "d2=len(ary[0])    #배열의 열.\n",
    "dx=[-1,1,0,0]  #각각 움직이는 행열.\n",
    "dy=[0,0,-1,1]  \n",
    "x,y=3,1  #주어진 행열.\n",
    "for i in range(4):      \n",
    "    t1 = x + dx[i]      \n",
    "    t2 = y + dy[i]\n",
    "\n",
    "    if t1>=0 and t1<d1 and t2>=0 and t2<d2:  #범위를 벗어난값을 넣었을때 오류 방지.\n",
    "        print(ary[t1][t2])\n"
   ]
  },
  {
   "cell_type": "code",
   "execution_count": 218,
   "id": "b39e50c8-0cda-4d6b-9a72-cb14462db01e",
   "metadata": {},
   "outputs": [
    {
     "name": "stdout",
     "output_type": "stream",
     "text": [
      "[3, 6, 7]\n",
      "[9, 8, 5]\n",
      "[3, 8, 3]\n"
     ]
    }
   ],
   "source": [
    "import random\n",
    "a=[[0]*3 for _ in range(3)]\n",
    "for x in range(3):\n",
    "    for y in range(3):\n",
    "        a[x][y]= random.randint(1,9)\n",
    "for ary in a:\n",
    "    print(ary)"
   ]
  },
  {
   "cell_type": "code",
   "execution_count": 226,
   "id": "31c82175-377e-46ca-ab14-39c51701348e",
   "metadata": {},
   "outputs": [
    {
     "name": "stdout",
     "output_type": "stream",
     "text": [
      "[4, 9, 8, 6, 3]\n",
      "[7, 2, 3, 4, 1]\n",
      "[3, 1, 5, 6, 9]\n",
      "[7, 4, 4, 7, 5]\n",
      "[3, 2, 7, 2, 9]\n"
     ]
    }
   ],
   "source": [
    "import random\n",
    "a = [[random.randint(1, 9) for _ in range(5)] for _ in range(5)]\n",
    "for ary in a:\n",
    "    print(ary)"
   ]
  },
  {
   "cell_type": "code",
   "execution_count": 468,
   "id": "fe2b61f5-88ea-4bd3-8805-813f2ee833a0",
   "metadata": {},
   "outputs": [
    {
     "name": "stdout",
     "output_type": "stream",
     "text": [
      "Random 5x5 이차원 배열 (1~100)\n",
      "[72, 63, 49, 31, 63]\n",
      "[100, 28, 27, 38, 12]\n",
      "[11, 6, 53, 16, 30]\n",
      "[89, 67, 18, 57, 42]\n",
      "[3, 9, 69, 38, 45]\n",
      "배열의 각 자리 요소들의 차이의 절댓값\n",
      "[37, 58, 54, 57, 83]\n",
      "[189, 130, 60, 66, 95]\n",
      "[172, 135, 145, 114, 44]\n",
      "[186, 190, 174, 114, 30]\n",
      "[92, 124, 142, 57, 10]\n",
      "배열 각 자리 요소들의 차이의 절댓값의 합: 2558\n"
     ]
    }
   ],
   "source": [
    "# 1) 리스트 초기값을 화면에 출력\n",
    "#  2) a[1][1] 이웃요소들 차의 절대값 합계 :  30\n",
    "#      a[1][2] 이웃요소들 차의 절대값 합계 :  92\n",
    "# a=[[1,2,3],\n",
    "#    [4,5,6],\n",
    "#    [7,8,9]]\n",
    "print(\"Random 5x5 이차원 배열 (1~100)\")\n",
    "import random\n",
    "a = [[random.randint(1, 100) for i in range(5)] for j in range(5)]  #랜덤한 5*5 2차원배열 생성.\n",
    "for ary in a:\n",
    "    print(ary)\n",
    "rx=len(a)         #생성된 배열의 행.\n",
    "ry=len(a[0])      #생성된 배열의 열.\n",
    "\n",
    "dx=[-1,1,0,0]     #배열안에서 각자리 요소에서의 움직일좌표.\n",
    "dy=[0,0,-1,1]\n",
    "result=[[0]*5 for _ in range(5)]    #각위치에 있을때 인접한 요소들의 합을 구해서 저장하기 위한 빈리스트 생성.\n",
    "sum =0           \n",
    "for x in range(rx):\n",
    "    for y in range(ry):\n",
    "        r=0       \n",
    "        for i in range(4):\n",
    "            t1 = x + dx[i]      \n",
    "            t2 = y + dy[i]\n",
    "            if t1>=0 and t1<rx and t2>=0 and t2<ry:\n",
    "                sum += abs(a[x][y]-a[t1][t2])\n",
    "                r += abs(a[x][y]-a[t1][t2])\n",
    "                \n",
    "        result[x][y]=r   #리스트에 각자리요소들의 합을 저장.\n",
    "print(\"배열의 각 자리 요소들의 차이의 절댓값\")\n",
    "for test in result:\n",
    "    print(test)\n",
    "print(\"배열 각 자리 요소들의 차이의 절댓값의 합:\",sum)"
   ]
  },
  {
   "cell_type": "code",
   "execution_count": 520,
   "id": "996dc0b7-c84d-434b-be41-12510285277d",
   "metadata": {},
   "outputs": [
    {
     "name": "stdout",
     "output_type": "stream",
     "text": [
      "Random 5x5 이차원 배열 (1~100)\n",
      "[35, 78, 92, 63, 54]\n",
      "[43, 15, 10, 92, 76]\n",
      "[33, 64, 79, 13, 34]\n",
      "[89, 53, 7, 61, 33]\n",
      "[15, 58, 70, 93, 61]\n",
      "배열의 각 자리 요소들의 차이의 절댓값\n",
      "[51, 120, 125, 67, 31]\n",
      "[46, 145, 238, 206, 80]\n",
      "[97, 106, 222, 214, 64]\n",
      "[166, 98, 235, 162, 57]\n",
      "[117, 60, 98, 87, 60]\n",
      "배열 각 자리 요소들의 차이의 절댓값의 합: 2952\n",
      "수행시간 :  0.012831449508666992\n"
     ]
    }
   ],
   "source": [
    "#시간 복잡도 체크하는소스\n",
    "# import time\n",
    "# start_time = time.time()\n",
    "# print(\"수행시간 : \", time.time() - start_time)"
   ]
  },
  {
   "cell_type": "code",
   "execution_count": 432,
   "id": "a5f13eb3-13cc-4fc1-a0a4-f54bd208565c",
   "metadata": {},
   "outputs": [
    {
     "name": "stdout",
     "output_type": "stream",
     "text": [
      "[[0, 0, 0, 0, 0], [0, 1, 0, 0, 0], [0, 0, 0, 0, 0], [0, 0, 0, 0, 0], [0, 0, 0, 0, 0]]\n"
     ]
    }
   ],
   "source": [
    "#비어있는 리스트 만드는 방법과 인덱스를 사용한 리스트에 요소추가\n",
    "result=[[0]*5 for _ in range(5)]\n",
    "result[1][1] = 1\n",
    "print(result)"
   ]
  }
 ],
 "metadata": {
  "kernelspec": {
   "display_name": "Python 3 (ipykernel)",
   "language": "python",
   "name": "python3"
  },
  "language_info": {
   "codemirror_mode": {
    "name": "ipython",
    "version": 3
   },
   "file_extension": ".py",
   "mimetype": "text/x-python",
   "name": "python",
   "nbconvert_exporter": "python",
   "pygments_lexer": "ipython3",
   "version": "3.12.4"
  }
 },
 "nbformat": 4,
 "nbformat_minor": 5
}
