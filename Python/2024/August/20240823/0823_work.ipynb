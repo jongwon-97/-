{
 "cells": [
  {
   "cell_type": "code",
   "execution_count": null,
   "id": "6e8f346d-6efd-4c63-bb49-559cc5bcc2bb",
   "metadata": {},
   "outputs": [],
   "source": [
    "#네이버 지도 검색\n",
    "#가게명,주소,전화번호,영업시간등등 (리뷰도전)\n",
    "#검색어.csv로 저장"
   ]
  },
  {
   "cell_type": "code",
   "execution_count": null,
   "id": "5d43009a-ce06-49be-9dea-28c6f5a05bfe",
   "metadata": {},
   "outputs": [],
   "source": [
    "from selenium import webdriver\n",
    "from selenium.webdriver.common.keys import Keys\n",
    "from selenium.webdriver.common.by import By\n",
    "\n",
    "from selenium.webdriver.chrome.service import Service\n",
    "from selenium.webdriver.chrome.options import Options\n",
    "from webdriver_manager.chrome import ChromeDriverManager\n",
    "import time\n",
    "\n",
    "import requests as req\n",
    "from bs4 import BeautifulSoup as bs\n",
    "\n",
    "se=input(\"검색어를 입력해주세요.\")\n",
    "\n",
    "serv=Service(excutable_path = ChromeDriverManager().install())\n",
    "driver = webdriver.Chrome(service=serv)\n",
    "\n",
    "t=3\n",
    "\n",
    "driver.get(\"https://map.naver.com/p?c=15.00,0,0,0,dh\")\n",
    "\n",
    "time.sleep(t)\n",
    "search = driver.find_element(By.CSS_SELECTOR, \".input_search\")\n",
    "search.send_keys(se)\n",
    "time.sleep(t)\n",
    "search.send_keys(Keys.ENTER)\n",
    "time.sleep(10)\n",
    "\n",
    "driver.switch_to.frame(\"searchIframe\") #현재 문서안에 포함되어 있는 iframe 영역으로 이동.\n",
    "time.sleep(2) #영역이동후 타임딜레이를 주어서 시간을 준다 1,2 초정도\n",
    "    \n",
    "ti = driver.find_elements(By.CSS_SELECTOR,\".place_bluelink.TYaxT\")\n",
    "se= ti.\n",
    "# for i in range(len(ti)):\n",
    "#     print(ti[i].text)\n",
    "\n",
    "# driver.switch_to.default_content() \n",
    "\n",
    "# driver.close()"
   ]
  }
 ],
 "metadata": {
  "kernelspec": {
   "display_name": "Python 3 (ipykernel)",
   "language": "python",
   "name": "python3"
  },
  "language_info": {
   "codemirror_mode": {
    "name": "ipython",
    "version": 3
   },
   "file_extension": ".py",
   "mimetype": "text/x-python",
   "name": "python",
   "nbconvert_exporter": "python",
   "pygments_lexer": "ipython3",
   "version": "3.12.4"
  }
 },
 "nbformat": 4,
 "nbformat_minor": 5
}
