{
 "cells": [
  {
   "cell_type": "code",
   "execution_count": 79,
   "id": "35fb93b0-3949-4943-92a6-1232a5a4ec67",
   "metadata": {
    "scrolled": true
   },
   "outputs": [
    {
     "name": "stdin",
     "output_type": "stream",
     "text": [
      "검색어를 입력해주세요. 이수역 맛집\n"
     ]
    },
    {
     "name": "stdout",
     "output_type": "stream",
     "text": [
      "영업 중\n",
      "23:15에 라스트오더\n",
      "23시 15분에 라스트오더\n"
     ]
    }
   ],
   "source": [
    "from selenium import webdriver\n",
    "from selenium.webdriver.common.keys import Keys\n",
    "from selenium.webdriver.common.by import By\n",
    "\n",
    "from selenium.webdriver.chrome.service import Service\n",
    "from selenium.webdriver.chrome.options import Options\n",
    "from webdriver_manager.chrome import ChromeDriverManager\n",
    "import time\n",
    "\n",
    "import requests as req\n",
    "from bs4 import BeautifulSoup as bs\n",
    "\n",
    "se=input(\"검색어를 입력해주세요.\")\n",
    "\n",
    "serv=Service(excutable_path = ChromeDriverManager().install())\n",
    "driver = webdriver.Chrome(service=serv)\n",
    "\n",
    "t=3\n",
    "\n",
    "driver.get(\"https://map.naver.com/p?c=15.00,0,0,0,dh\")\n",
    "\n",
    "time.sleep(t)\n",
    "search = driver.find_element(By.CSS_SELECTOR, \".input_search\")\n",
    "search.send_keys(se)\n",
    "time.sleep(t)\n",
    "search.send_keys(Keys.ENTER)\n",
    "time.sleep(10)\n",
    "\n",
    "driver.switch_to.frame(\"searchIframe\") #현재 문서안에 포함되어 있는 iframe 영역으로 이동.\n",
    "time.sleep(2) #영역이동후 타임딜레이를 주어서 시간을 준다 1,2 초정도\n",
    "\n",
    "# bo=driver.find_elements(By.CLASS_NAME,\"Ryr1F\")\n",
    "\n",
    "# for i in range (5):\n",
    "#     bo.send_keys(Keys.PAGE_DOWN)\n",
    "#     time.sleep(1)\n",
    "\n",
    "ti= driver.find_element(By.CSS_SELECTOR,\" #_pcmap_list_scroll_container ul li:nth-child(1) div.CHC5F span.place_bluelink.TYaxT\").click()\n",
    "#_pcmap_list_scroll_container > ul > li:nth-child(1) > div.CHC5F > a > div > div > span.place_bluelink.TYaxT\n",
    "time.sleep(5)\n",
    "driver.switch_to.default_content() \n",
    "time.sleep(2)\n",
    "driver.switch_to.frame(\"entryIframe\")\n",
    "time.sleep(2)\n",
    "# ph=driver.find_element(By.CSS_SELECTOR,\"#app-root div:nth-child(5) div:nth-child(2) div.place_section_content div.O8qbU.nbXkr span.xlx7Q\")\n",
    "ti=driver.find_element(By.CLASS_NAME,\"GHAhO\")\n",
    "ph=driver.find_element(By.CLASS_NAME,\"xlx7Q\")\n",
    "ad=driver.find_element(By.CLASS_NAME,\"zPfVt\")\n",
    "wo=driver.find_element(By.CLASS_NAME,\"A_cdD\")\n",
    "#_header\n",
    "#app-root div:nth-child(5) div:nth-child(2) div.place_section_content div.O8qbU.nbXkr span.xlx7Q\n",
    "print(wo.text)\n",
    "# driver.switch_to.default_content()\n",
    "# for i in range(len(ti)):\n",
    "#     print(ti[i].text)\n",
    "#     driver.switch_to.default_content()\n",
    "\n",
    "# driver.switch_to.default_content() "
   ]
  },
  {
   "cell_type": "code",
   "execution_count": null,
   "id": "495b0621-1ef2-49e0-8d85-865197ac8982",
   "metadata": {},
   "outputs": [],
   "source": []
  }
 ],
 "metadata": {
  "kernelspec": {
   "display_name": "Python 3 (ipykernel)",
   "language": "python",
   "name": "python3"
  },
  "language_info": {
   "codemirror_mode": {
    "name": "ipython",
    "version": 3
   },
   "file_extension": ".py",
   "mimetype": "text/x-python",
   "name": "python",
   "nbconvert_exporter": "python",
   "pygments_lexer": "ipython3",
   "version": "3.12.4"
  }
 },
 "nbformat": 4,
 "nbformat_minor": 5
}
