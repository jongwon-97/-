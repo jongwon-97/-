{
 "cells": [
  {
   "cell_type": "code",
   "execution_count": null,
   "id": "ca023867-b1a2-4ae7-8575-fb5e15cdb7c7",
   "metadata": {},
   "outputs": [],
   "source": [
    "#네이버 검색어 \"카리나\" 이미지50개 c:\\\n"
   ]
  },
  {
   "cell_type": "code",
   "execution_count": 41,
   "id": "774a9779-f626-4c7a-9d8f-f9a487bcdac3",
   "metadata": {},
   "outputs": [
    {
     "name": "stdin",
     "output_type": "stream",
     "text": [
      "검색어를 입력해주세요. 아이유\n"
     ]
    }
   ],
   "source": [
    "from selenium import webdriver #셀레니움 모듈을 활용한 웹크롤링 기능 가져옴. \n",
    "from selenium.webdriver.common.keys import Keys\n",
    "\n",
    "from webdriver_manager.chrome import ChromeDriverManager #크롬브라우저 설치를 해주는 드라이버. \n",
    "from selenium.webdriver.chrome.service import Service #최신버전의 크롬드라이버 설치 지원.\n",
    "\n",
    "from selenium.webdriver.common.by import By # html 관련 요소들을 선택할 수 있는 모듈.\n",
    "\n",
    "from selenium.webdriver.chrome.options import Options \n",
    "\n",
    "from bs4 import BeautifulSoup as bs #html코드 해석(번역).\n",
    "import pandas as pd #행렬구조의 2차원 테이블 형태로 데이터를 저장,분석.시각화를 지원하는 모듈.\n",
    "import time #딜레이 시간 설정.\n",
    "\n",
    "import os\n",
    "from urllib.request import urlretrieve\n",
    "\n",
    "#ChromeDriverManager를 이용해서 크롬드라이버를 설치 .\n",
    "serv = Service(executable_path=ChromeDriverManager().install())\n",
    "#sevice를 이용해서 최신버전의 크롬브라우저를 만든 후 driver 변수에 할당.\n",
    "driver = webdriver.Chrome(service=serv)\n",
    "\n",
    "se=input(\"검색어를 입력해주세요.\")\n",
    "driver.get(f\"https://search.naver.com/search.naver?ssc=tab.image.all&where=image&sm=tab_jum&query={se}\")\n",
    "\n",
    "if not os.path.isdir(\"C:/pic\"):\n",
    "     os.mkdir(\"C:/pic\")\n",
    "\n",
    "bo=driver.find_element(By.TAG_NAME,\"body\") \n",
    "for i in range (5):\n",
    "    bo.send_keys(Keys.PAGE_DOWN)\n",
    "    time.sleep(1)\n",
    "    \n",
    "img=driver.find_elements(By.CSS_SELECTOR,\"div.image_tile._fe_image_tab_grid img\")\n",
    "#main_pack section div.api_subject_bx._fe_image_tab_grid_root.ani_fadein div.image_tile._fe_image_tab_grid div:nth-child(1) img\n",
    "\n",
    "si_li=[]\n",
    "singer=[]\n",
    "\n",
    "\n",
    "for i in range(50):\n",
    "    si_li.append(img[i].get_attribute(\"src\"))    \n",
    "    urlretrieve(si_li[i],\"C:/pic/singer\"+ str(i+1) +\".jpg\" )"
   ]
  },
  {
   "cell_type": "code",
   "execution_count": null,
   "id": "abfa61b6-ef96-4061-a1b5-93fa69a51ca2",
   "metadata": {},
   "outputs": [],
   "source": []
  }
 ],
 "metadata": {
  "kernelspec": {
   "display_name": "Python 3 (ipykernel)",
   "language": "python",
   "name": "python3"
  },
  "language_info": {
   "codemirror_mode": {
    "name": "ipython",
    "version": 3
   },
   "file_extension": ".py",
   "mimetype": "text/x-python",
   "name": "python",
   "nbconvert_exporter": "python",
   "pygments_lexer": "ipython3",
   "version": "3.12.4"
  }
 },
 "nbformat": 4,
 "nbformat_minor": 5
}
