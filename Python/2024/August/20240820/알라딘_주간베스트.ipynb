{
 "cells": [
  {
   "cell_type": "code",
   "execution_count": 50,
   "id": "a8a587d1-48d3-4b81-82ce-b9a1cafbd62a",
   "metadata": {},
   "outputs": [
    {
     "name": "stdout",
     "output_type": "stream",
     "text": [
      "데이터 저장완료\n"
     ]
    }
   ],
   "source": [
    "import requests as req               #정적 크롤링\n",
    "from bs4 import BeautifulSoup as bs  #정적 크롤링,동적 크롤링에 다쓰임\n",
    "import pandas as pd                  #\n",
    "\n",
    "data=[]\n",
    "p=1\n",
    "for p in range(21):\n",
    "    res=req.get(f\"https://www.aladin.co.kr/shop/common/wbest.aspx?BestType=Bestseller&BranchType=1&CID=0&page={p}&cnt=1000&SortOrder=1\")\n",
    "    html=res.text\n",
    "    soup=bs(html,\"lxml\")\n",
    "    \n",
    "    #책이름,저자,원가,세일가,구분(국내/해외)\n",
    "    \n",
    "    infos=soup.select(\"#Myform .ss_book_box\")\n",
    "    \n",
    "    \n",
    "\n",
    "    for info in infos:\n",
    "        try:\n",
    "            book=info.select_one(\"li:nth-last-child(4) b\").text.strip()\n",
    "            au=\"\"\n",
    "            ho=\"\"\n",
    "            da=\"\"\n",
    "            opr=\"\"\n",
    "            spr=\"\"\n",
    "            na=\"\"\n",
    "        except Exception as e:\n",
    "            book=info.select_one(\"li:nth-last-child(3) b\").text.strip()\n",
    "            au=info.select_one(\"li:nth-last-child(2)\").text.split(\"|\")[0].strip()\n",
    "            ho=info.select_one(\"li:nth-last-child(2)\").text.split(\"|\")[1].strip()\n",
    "            da=info.select_one(\"li:nth-last-child(2)\").text.split(\"|\")[2].strip()\n",
    "            opr=info.select_one(\"li:nth-last-child(1) span\").text.replace(\",\",\"\")\n",
    "            spr=info.select_one(\"li:nth-last-child(1) span.ss_p2\").text.replace(\"원\",\"\").replace(\",\",\"\")\n",
    "            na=info.select_one(\"li:nth-last-child(3) span\").text.replace(\"[\",\"\").replace(\"]\",\"\")\n",
    "        else:\n",
    "            au=info.select_one(\"li:nth-last-child(3)\").text.split(\"|\")[0].strip()\n",
    "            ho=info.select_one(\"li:nth-last-child(3)\").text.split(\"|\")[1].strip()\n",
    "            da=info.select_one(\"li:nth-last-child(3)\").text.split(\"|\")[2].strip()\n",
    "            opr=info.select_one(\"li:nth-last-child(2) span\").text.replace(\",\",\"\")\n",
    "            spr=info.select_one(\"li:nth-last-child(2) span.ss_p2\").text.replace(\"원\",\"\").replace(\",\",\"\")\n",
    "            na=info.select_one(\"li:nth-last-child(4) span\").text.replace(\"[\",\"\").replace(\"]\",\"\")\n",
    "        data.append({\"도서명\":book,\"저자\":au,\"출판사\":ho,\"출판일\":da,\"원가격\":opr,\"세일가격\":spr,\"구분\":na})\n",
    "\n",
    "df=pd.DataFrame(data)\n",
    "df.set_index(\"도서명\",inplace=True)\n",
    "df.to_csv(\"알라딘_utf-8.csv\",encoding=\"utf8\")\n",
    "df.to_csv(\"알라딘_euc-kr.csv\",encoding=\"euc-kr\")\n",
    "df.to_csv(\"알라딘_utf-8-sig.csv\",encoding=\"utf-8-sig\")\n",
    "print(\"데이터 저장완료\")"
   ]
  }
 ],
 "metadata": {
  "kernelspec": {
   "display_name": "Python 3 (ipykernel)",
   "language": "python",
   "name": "python3"
  },
  "language_info": {
   "codemirror_mode": {
    "name": "ipython",
    "version": 3
   },
   "file_extension": ".py",
   "mimetype": "text/x-python",
   "name": "python",
   "nbconvert_exporter": "python",
   "pygments_lexer": "ipython3",
   "version": "3.12.4"
  }
 },
 "nbformat": 4,
 "nbformat_minor": 5
}
