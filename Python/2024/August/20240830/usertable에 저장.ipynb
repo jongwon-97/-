{
 "cells": [
  {
   "cell_type": "code",
   "execution_count": 1,
   "id": "1844ade4-1a67-470f-aa63-dc2b53c1baac",
   "metadata": {},
   "outputs": [
    {
     "name": "stdout",
     "output_type": "stream",
     "text": [
      "Requirement already satisfied: flask in c:\\users\\user\\anaconda3\\lib\\site-packages (3.0.3)\n",
      "Requirement already satisfied: Werkzeug>=3.0.0 in c:\\users\\user\\anaconda3\\lib\\site-packages (from flask) (3.0.3)\n",
      "Requirement already satisfied: Jinja2>=3.1.2 in c:\\users\\user\\anaconda3\\lib\\site-packages (from flask) (3.1.4)\n",
      "Requirement already satisfied: itsdangerous>=2.1.2 in c:\\users\\user\\anaconda3\\lib\\site-packages (from flask) (2.2.0)\n",
      "Requirement already satisfied: click>=8.1.3 in c:\\users\\user\\anaconda3\\lib\\site-packages (from flask) (8.1.7)\n",
      "Requirement already satisfied: blinker>=1.6.2 in c:\\users\\user\\anaconda3\\lib\\site-packages (from flask) (1.6.2)\n",
      "Requirement already satisfied: colorama in c:\\users\\user\\appdata\\roaming\\python\\python312\\site-packages (from click>=8.1.3->flask) (0.4.6)\n",
      "Requirement already satisfied: MarkupSafe>=2.0 in c:\\users\\user\\anaconda3\\lib\\site-packages (from Jinja2>=3.1.2->flask) (2.1.3)\n"
     ]
    }
   ],
   "source": [
    "!pip install flask"
   ]
  },
  {
   "cell_type": "code",
   "execution_count": null,
   "id": "ea895b22-cadc-4b8f-920c-04defb350f94",
   "metadata": {
    "scrolled": true
   },
   "outputs": [
    {
     "name": "stdout",
     "output_type": "stream",
     "text": [
      " * Serving Flask app '__main__'\n",
      " * Debug mode: off\n"
     ]
    },
    {
     "name": "stderr",
     "output_type": "stream",
     "text": [
      "WARNING: This is a development server. Do not use it in a production deployment. Use a production WSGI server instead.\n",
      " * Running on http://127.0.0.1:5000\n",
      "Press CTRL+C to quit\n",
      "127.0.0.1 - - [30/Aug/2024 18:18:46] \"GET / HTTP/1.1\" 200 -\n",
      "127.0.0.1 - - [30/Aug/2024 18:18:47] \"GET /join HTTP/1.1\" 200 -\n",
      "127.0.0.1 - - [30/Aug/2024 18:19:05] \"POST /insert HTTP/1.1\" 200 -\n"
     ]
    }
   ],
   "source": [
    "\n",
    "from flask import Flask,render_template,request\n",
    "import pymysql\n",
    "\n",
    "app=Flask(__name__)\n",
    "conn = pymysql.connect(host='127.0.0.1',user='root',password='mysql904#',db='mydb',charset='utf8')\n",
    "cur=conn.cursor()\n",
    "\n",
    "@app.route(\"/\")\n",
    "def index():\n",
    "    # mydb데이터베이스에연결 \n",
    "    #커서생성\n",
    "    #user테이블에 내용을 불러와서 화면에 출력\n",
    "    return render_template('login.html')\n",
    "\n",
    "@app.route('/insert', methods=['post'])\n",
    "def insertApp():\n",
    "    id = request.form['id']\n",
    "    pwd = request.form['pwd']\n",
    "    name = request.form['name']\n",
    "    email = request.form['email']\n",
    "    birthyear = request.form['birthyear']\n",
    "    cur.execute(\"insert into usertable values('%s','%s','%s','%s','%d')\"%(id,pwd,name,email,int(birthyear)))\n",
    "    conn.commit()\n",
    "    return render_template('login.html')\n",
    "\n",
    "@app.route(\"/join\")\n",
    "def joinApp():    \n",
    "    return render_template('join.html')\n",
    "\n",
    "@app.route(\"/favorite\")\n",
    "def testApp():\n",
    "    return render_template('favorite.html')\n",
    "\n",
    "host_addr=\"127.0.0.1\"\n",
    "port_num = \"5000\"\n",
    "\n",
    "if __name__ == \"__main__\":\n",
    "    app.run(host=host_addr,port = port_num)"
   ]
  },
  {
   "cell_type": "code",
   "execution_count": null,
   "id": "1b907c86-288b-4e30-a742-10304149db68",
   "metadata": {},
   "outputs": [],
   "source": [
    "conn.close()"
   ]
  },
  {
   "cell_type": "code",
   "execution_count": null,
   "id": "0c4116df-edc5-401a-993f-f4f329f17766",
   "metadata": {},
   "outputs": [
    {
     "name": "stdout",
     "output_type": "stream",
     "text": [
      " * Serving Flask app '__main__'\n",
      " * Debug mode: off\n"
     ]
    },
    {
     "name": "stderr",
     "output_type": "stream",
     "text": [
      "WARNING: This is a development server. Do not use it in a production deployment. Use a production WSGI server instead.\n",
      " * Running on http://127.0.0.1:5000\n",
      "Press CTRL+C to quit\n",
      "127.0.0.1 - - [30/Aug/2024 18:42:29] \"GET / HTTP/1.1\" 200 -\n",
      "127.0.0.1 - - [30/Aug/2024 18:42:30] \"GET /join HTTP/1.1\" 200 -\n",
      "[2024-08-30 18:42:35,374] ERROR in app: Exception on /insert [POST]\n",
      "Traceback (most recent call last):\n",
      "  File \"C:\\Users\\user\\anaconda3\\Lib\\site-packages\\flask\\app.py\", line 1473, in wsgi_app\n",
      "    response = self.full_dispatch_request()\n",
      "               ^^^^^^^^^^^^^^^^^^^^^^^^^^^^\n",
      "  File \"C:\\Users\\user\\anaconda3\\Lib\\site-packages\\flask\\app.py\", line 882, in full_dispatch_request\n",
      "    rv = self.handle_user_exception(e)\n",
      "         ^^^^^^^^^^^^^^^^^^^^^^^^^^^^^\n",
      "  File \"C:\\Users\\user\\anaconda3\\Lib\\site-packages\\flask\\app.py\", line 880, in full_dispatch_request\n",
      "    rv = self.dispatch_request()\n",
      "         ^^^^^^^^^^^^^^^^^^^^^^^\n",
      "  File \"C:\\Users\\user\\anaconda3\\Lib\\site-packages\\flask\\app.py\", line 865, in dispatch_request\n",
      "    return self.ensure_sync(self.view_functions[rule.endpoint])(**view_args)  # type: ignore[no-any-return]\n",
      "           ^^^^^^^^^^^^^^^^^^^^^^^^^^^^^^^^^^^^^^^^^^^^^^^^^^^^^^^^^^^^^^^^^\n",
      "  File \"C:\\Users\\user\\AppData\\Local\\Temp\\ipykernel_17288\\2110601729.py\", line 18, in insertApp\n",
      "    cur.execute(\"insert into usertable values('%s','%s','%s','%s',%d)\" % (id,pwd,name,email,int(birthyear)))\n",
      "                                                                                            ^^^^^^^^^^^^^^\n",
      "ValueError: invalid literal for int() with base 10: 'ddd'\n",
      "127.0.0.1 - - [30/Aug/2024 18:42:35] \"POST /insert HTTP/1.1\" 500 -\n"
     ]
    }
   ],
   "source": [
    "from flask import Flask, render_template,request\n",
    "import pymysql\n",
    "app=Flask(__name__)\n",
    "conn = pymysql.connect(host='127.0.0.1', user='root', password='mysql904#', db='mydb', charset='utf8')\n",
    "cur=conn.cursor()\n",
    "\n",
    "@app.route(\"/\")\n",
    "def index():\n",
    "    return render_template('login.html')\n",
    "    \n",
    "@app.route(\"/insert\", methods=['post'])\n",
    "def insertApp():\n",
    "    id = request.form['id']\n",
    "    pwd = request.form['pwd']\n",
    "    name = request.form['name']\n",
    "    email = request.form['email']\n",
    "    birthyear = request.form['birthyear']\n",
    "    cur.execute(\"insert into usertable values('%s','%s','%s','%s',%d)\" % (id,pwd,name,email,int(birthyear)))\n",
    "    conn.commit()\n",
    "    # conn.close()\n",
    "    return render_template('login.html')\n",
    "    \n",
    "@app.route(\"/favorite\")\n",
    "def testApp():\n",
    "    return render_template('favorite.html')\n",
    "        \n",
    "@app.route(\"/join\")\n",
    "def joinApp():\n",
    "    return render_template('join.html')\n",
    "host_addr=\"127.0.0.1\"\n",
    "port_num=\"5000\"\n",
    "\n",
    "if __name__==\"__main__\":\n",
    "    app.run(host=host_addr,port=port_num)"
   ]
  }
 ],
 "metadata": {
  "kernelspec": {
   "display_name": "Python 3 (ipykernel)",
   "language": "python",
   "name": "python3"
  },
  "language_info": {
   "codemirror_mode": {
    "name": "ipython",
    "version": 3
   },
   "file_extension": ".py",
   "mimetype": "text/x-python",
   "name": "python",
   "nbconvert_exporter": "python",
   "pygments_lexer": "ipython3",
   "version": "3.12.4"
  }
 },
 "nbformat": 4,
 "nbformat_minor": 5
}
