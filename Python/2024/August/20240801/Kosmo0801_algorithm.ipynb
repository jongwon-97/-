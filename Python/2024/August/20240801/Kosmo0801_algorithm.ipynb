{
 "cells": [
  {
   "cell_type": "code",
   "execution_count": 21,
   "id": "d44f7abe-ea6c-46bb-9525-51775d0ce8f3",
   "metadata": {},
   "outputs": [
    {
     "name": "stdin",
     "output_type": "stream",
     "text": [
      "6number 123777\n"
     ]
    },
    {
     "name": "stdout",
     "output_type": "stream",
     "text": [
      "Baby Gin\n"
     ]
    }
   ],
   "source": [
    "c=[0]*12\n",
    "tri=0\n",
    "run=0\n",
    "card=int(input(\"6number\"))\n",
    "\n",
    "i=0\n",
    "while i<6:\n",
    "    n=int(card%10)\n",
    "    c[n]+=1\n",
    "    card //= 10\n",
    "    i+=1\n",
    "i=0\n",
    "while i<10:\n",
    "    if c[i]>=3:\n",
    "        c[i]=c[i]-3\n",
    "        tri+=1\n",
    "        continue\n",
    "    if c[i] >= 1 and c[i+1]>=1 and c[i+2]>=1:\n",
    "        c[i] -= 1\n",
    "        c[i+1] -= 1\n",
    "        c[i+2] -= 1\n",
    "        run+=1\n",
    "        continue\n",
    "    i+=1\n",
    "if run+tri == 2: \n",
    "    print(\"Baby Gin\")\n",
    "else:\n",
    "    print(\"Lose\")"
   ]
  },
  {
   "cell_type": "code",
   "execution_count": 49,
   "id": "7e079fda-db4e-49c5-b2d3-d1ad81d7c8e4",
   "metadata": {},
   "outputs": [
    {
     "name": "stdout",
     "output_type": "stream",
     "text": [
      "버블정렬 [7, 12, 12, 55, 78]\n"
     ]
    }
   ],
   "source": [
    "def bubble_sort(a):\n",
    "    n=len(a)\n",
    "    for i in range(n-1,0,-1):\n",
    "        for j in range(i):\n",
    "            if a[j] > a[j+1] :\n",
    "                temp=a[j]\n",
    "                a[j]=a[j+1]\n",
    "                a[j+1]=temp\n",
    "    return a\n",
    "\n",
    "a=[55,12,78,7,12]\n",
    "bubble_sort(a)\n",
    "print(\"버블정렬\",a)"
   ]
  },
  {
   "cell_type": "code",
   "execution_count": 83,
   "id": "18630e19-5ea5-4271-bd85-6d610a55c7f2",
   "metadata": {},
   "outputs": [
    {
     "name": "stdout",
     "output_type": "stream",
     "text": [
      "Sorted array is: [0, 1, 2, 2, 3, 4, 4]\n"
     ]
    }
   ],
   "source": [
    "def counting_sort(a,k):\n",
    "    n=len(a)\n",
    "    c=[0]*(k+1)\n",
    "    b=[0]*(n+1)\n",
    "    for i in range(1,k):\n",
    "        c[i] = 0\n",
    "    for j in range(n):\n",
    "        c[a[j]] += 1\n",
    "    for i in range(1,k+1):\n",
    "        c[i] += c[i-1]\n",
    "    for j in range(n-1,-1,-1):\n",
    "        b[c[a[j]]]=a[j]\n",
    "        c[a[j]] -= 1 \n",
    "    result = b[1:]\n",
    "    return result\n",
    "\n",
    "a = [4, 2, 4, 0, 2, 3, 1]\n",
    "k = max(a)  # 최대 값은 8+1\n",
    "sorted_a = counting_sort(a, k)\n",
    "print(\"Sorted array is:\", sorted_a)\n"
   ]
  },
  {
   "cell_type": "code",
   "execution_count": null,
   "id": "ed4f01d9-875f-4b8e-8ebd-6a67f81ebd69",
   "metadata": {},
   "outputs": [],
   "source": []
  }
 ],
 "metadata": {
  "kernelspec": {
   "display_name": "Python 3 (ipykernel)",
   "language": "python",
   "name": "python3"
  },
  "language_info": {
   "codemirror_mode": {
    "name": "ipython",
    "version": 3
   },
   "file_extension": ".py",
   "mimetype": "text/x-python",
   "name": "python",
   "nbconvert_exporter": "python",
   "pygments_lexer": "ipython3",
   "version": "3.12.4"
  }
 },
 "nbformat": 4,
 "nbformat_minor": 5
}
