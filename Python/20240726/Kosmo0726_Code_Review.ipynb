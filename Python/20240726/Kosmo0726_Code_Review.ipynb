{
 "cells": [
  {
   "cell_type": "code",
   "execution_count": 7,
   "id": "8e88a884-5a6a-4813-9458-cfccc9d007b4",
   "metadata": {},
   "outputs": [
    {
     "name": "stdin",
     "output_type": "stream",
     "text": [
      "서비스 만족도 점수 \n",
      "1점:매우만족\n",
      "2점:만족 \n",
      "3점:불만족\n",
      "서비스 만족도를 입력해주세요(예: 1 또는 2 또는 3) :  1\n",
      "음식값을 입력해 주세요(예:8000) :  50000\n"
     ]
    },
    {
     "name": "stdout",
     "output_type": "stream",
     "text": [
      "서비스 만족도 : 매우 만족 \n",
      "팁 : 10000원\n"
     ]
    }
   ],
   "source": [
    "a = int(input('서비스 만족도 점수 \\n'  '1점:매우만족\\n' '2점:만족 \\n' '3점:불만족\\n'\n",
    "              '서비스 만족도를 입력해주세요(예: 1 또는 2 또는 3) : '))   #만약에 1,2,3말고 다른숫자를 포함했을때\n",
    "                                                                      #다시 돌아가게 할수있게 만들어보기\n",
    "price = int(input('음식값을 입력해 주세요(예:8000) : ')) \n",
    "if a == 1: \n",
    "     tip = int(price * 0.2) \n",
    "     service = '매우 만족' \n",
    "elif a == 2: \n",
    "     tip = int(price * 0.1) \n",
    "     service = '만족' \n",
    "else: \n",
    "     tip = int(price * 0.05) \n",
    "     service = '불만족'\n",
    "print('서비스 만족도 : %s \\n팁 : %d원' % (service,tip))"
   ]
  },
  {
   "cell_type": "code",
   "execution_count": 11,
   "id": "4b70673c-61e5-412f-9c9e-961dc326b628",
   "metadata": {
    "scrolled": true
   },
   "outputs": [
    {
     "name": "stdin",
     "output_type": "stream",
     "text": [
      "서비스 만족도:\n",
      "1: 매우 만족\n",
      "2: 만족\n",
      "3: 불만족\n",
      "서비스 만족도를 입력해주세요 (예: 1 또는 2 또는 3):  5\n"
     ]
    },
    {
     "name": "stdout",
     "output_type": "stream",
     "text": [
      "1, 2, 3 중에 입력하세요.\n"
     ]
    },
    {
     "name": "stdin",
     "output_type": "stream",
     "text": [
      "서비스 만족도:\n",
      "1: 매우 만족\n",
      "2: 만족\n",
      "3: 불만족\n",
      "서비스 만족도를 입력해주세요 (예: 1 또는 2 또는 3):  6\n"
     ]
    },
    {
     "name": "stdout",
     "output_type": "stream",
     "text": [
      "1, 2, 3 중에 입력하세요.\n"
     ]
    },
    {
     "name": "stdin",
     "output_type": "stream",
     "text": [
      "서비스 만족도:\n",
      "1: 매우 만족\n",
      "2: 만족\n",
      "3: 불만족\n",
      "서비스 만족도를 입력해주세요 (예: 1 또는 2 또는 3):  1\n",
      "음식값을 입력해 주세요(예:8000):  3000\n"
     ]
    },
    {
     "name": "stdout",
     "output_type": "stream",
     "text": [
      "\n",
      "서비스 만족도 : 매우 만족,\n",
      "팁 : 600원\n"
     ]
    }
   ],
   "source": [
    "a = int(input('서비스 만족도 점수 \\n'  '1점:매우만족\\n' '2점:만족 \\n' '3점:불만족\\n'\n",
    "              '서비스 만족도를 입력해주세요(예: 1 또는 2 또는 3) : '))\n",
    "price = int(input('음식값을 입력해 주세요(예:8000) : ')) \n",
    "\n",
    "for i in (a)\n",
    "    if a == 1: \n",
    "         tip = int(price * 0.2) \n",
    "         service = '매우 만족' \n",
    "    elif a == 2: \n",
    "         tip = int(price * 0.1) \n",
    "         service = '만족' \n",
    "    else: \n",
    "         tip = int(price * 0.05) \n",
    "         service = '불만족'\n",
    "        return "
   ]
  },
  {
   "cell_type": "code",
   "execution_count": null,
   "id": "b8285cff-f2de-48aa-911b-142cc2c016fa",
   "metadata": {},
   "outputs": [
    {
     "name": "stdin",
     "output_type": "stream",
     "text": [
      "서비스 만족도 점수 \n",
      "1:매우만족\n",
      "2:만족 \n",
      "3:불만족\n",
      "0:끝내기\n",
      "서비스 만족도를 입력해주세요(예: 1 또는 2 또는 3) :  0\n"
     ]
    }
   ],
   "source": [
    "#while 문을 사용해서 1,2,3 이외의 값을 주었을때 처음으로 돌아가는 코드 0을누르면 바로 종료\n",
    "a = input('서비스 만족도 점수 \\n'  \n",
    "              '1:매우만족\\n' \n",
    "              '2:만족 \\n' \n",
    "              '3:불만족\\n'\n",
    "              '0:끝내기\\n'\n",
    "              '서비스 만족도를 입력해주세요(예: 1 또는 2 또는 3) : ')   \n",
    "\n",
    "while True:\n",
    "    if (a<'0' or a >'3'):\n",
    "        print('0~1사이의 값을 입력해주세요.')\n",
    "        a = input('서비스 만족도 점수 \\n'  \n",
    "              '1:매우만족\\n' \n",
    "              '2:만족 \\n' \n",
    "              '3:불만족\\n'\n",
    "              '0:끝내기\\n'\n",
    "              '서비스 만족도를 입력해주세요(예: 1 또는 2 또는 3) : '\n",
    "              )\n",
    "        break\n",
    "    else:\n",
    "        if a == '0':\n",
    "            continue\n",
    "        \n",
    "        price = int(input('음식값을 입력해 주세요(예:8000) : ')) \n",
    "        if a == '1': \n",
    "             tip = int(price * 0.2) \n",
    "             service = '매우 만족' \n",
    "        elif a == '2': \n",
    "             tip = int(price * 0.1) \n",
    "             service = '만족' \n",
    "        else: \n",
    "             tip = int(price * 0.05) \n",
    "             service = '불만족'\n",
    "        print('서비스 만족도 : %s \\n팁 : %d원' % (service,tip))\n",
    "        break"
   ]
  },
  {
   "cell_type": "code",
   "execution_count": 13,
   "id": "fb557ba5-9156-4500-9572-0e90ef3fb230",
   "metadata": {},
   "outputs": [
    {
     "name": "stdin",
     "output_type": "stream",
     "text": [
      "하이픈(-)을 뺀 11자리의 휴대폰 번호를 입력하세요:  01012345678\n"
     ]
    },
    {
     "name": "stdout",
     "output_type": "stream",
     "text": [
      "-0\n",
      "-01\n",
      "-010\n",
      "-0101\n",
      "-01012\n",
      "-010123\n",
      "-0101234\n",
      "-01012345\n",
      "-010123456\n",
      "-0101234567\n",
      "-01012345678\n"
     ]
    }
   ],
   "source": [
    "phone = input('하이픈(-)을 뺀 11자리의 휴대폰 번호를 입력하세요: ') \n",
    "number = ''\n",
    "for i in range(0,11) : \n",
    "    if i == [2] : \n",
    "        number = number + (phone[2]+'-') \n",
    "    elif i == [6]:\n",
    "        number = number + (phone[6]+'-') \n",
    "    else :\n",
    "        number = number + phone[i]\n",
    "    \n",
    "    print(number)"
   ]
  },
  {
   "cell_type": "code",
   "execution_count": 1,
   "id": "e2d2cd69-00fd-4916-a47f-d8e95b26d46f",
   "metadata": {},
   "outputs": [
    {
     "name": "stdout",
     "output_type": "stream",
     "text": [
      "------------------------------\n",
      " 섭씨 화씨\n",
      "------------------------------\n",
      "     -20     -4.0\n",
      "     -19     -2.2\n",
      "     -18     -0.4\n",
      "     -17      1.4\n",
      "     -16      3.2\n",
      "     -15      5.0\n",
      "     -14      6.8\n",
      "     -13      8.6\n",
      "     -12     10.4\n",
      "     -11     12.2\n",
      "     -10     14.0\n",
      "      -9     15.8\n",
      "      -8     17.6\n",
      "      -7     19.4\n",
      "      -6     21.2\n",
      "      -5     23.0\n",
      "      -4     24.8\n",
      "      -3     26.6\n",
      "      -2     28.4\n",
      "      -1     30.2\n",
      "       0     32.0\n",
      "       1     33.8\n",
      "       2     35.6\n",
      "       3     37.4\n",
      "       4     39.2\n",
      "       5     41.0\n",
      "       6     42.8\n",
      "       7     44.6\n",
      "       8     46.4\n",
      "       9     48.2\n",
      "      10     50.0\n",
      "      11     51.8\n",
      "      12     53.6\n",
      "      13     55.4\n",
      "      14     57.2\n",
      "      15     59.0\n",
      "      16     60.8\n",
      "      17     62.6\n",
      "      18     64.4\n",
      "      19     66.2\n",
      "      20     68.0\n",
      "      21     69.8\n",
      "      22     71.6\n",
      "      23     73.4\n",
      "      24     75.2\n",
      "      25     77.0\n",
      "      26     78.8\n",
      "      27     80.6\n",
      "      28     82.4\n",
      "      29     84.2\n",
      "      30     86.0\n",
      "      31     87.8\n",
      "      32     89.6\n",
      "      33     91.4\n",
      "      34     93.2\n",
      "      35     95.0\n",
      "      36     96.8\n",
      "      37     98.6\n",
      "      38    100.4\n",
      "      39    102.2\n",
      "      40    104.0\n",
      "------------------------------\n"
     ]
    }
   ],
   "source": [
    "print('-' * 30) \n",
    "print(' 섭씨 화씨') \n",
    "print('-' * 30) \n",
    "c = -20 # 초기값\n",
    "while c < 41 : \n",
    "    f = c * 9.0/ 5.0 + 32.0 \n",
    "    print('%8d %8.1f' % (c, f))\n",
    "    c+=1\n",
    "print('-' * 30)"
   ]
  },
  {
   "cell_type": "code",
   "execution_count": 9,
   "id": "07c5f81c-c0b3-423a-ac11-220b666a7d66",
   "metadata": {},
   "outputs": [
    {
     "name": "stdout",
     "output_type": "stream",
     "text": [
      "200 202 203 205 206 208 209 211 \n",
      "212 214 215 217 218 220 221 223 \n",
      "224 226 227 229 230 232 233 235 \n",
      "236 238 239 241 242 244 245 247 \n",
      "248 250 251 253 254 256 257 259 \n",
      "260 262 263 265 266 268 269 271 \n",
      "272 274 275 277 278 280 281 283 \n",
      "284 286 287 289 290 292 293 295 \n",
      "296 298 299 301 302 304 305 307 \n",
      "308 310 311 313 314 316 317 319 \n",
      "320 322 323 325 326 328 329 331 \n",
      "332 334 335 337 338 340 341 343 \n",
      "344 346 347 349 350 352 353 355 \n",
      "356 358 359 361 362 364 365 367 \n",
      "368 370 371 373 374 376 377 379 \n",
      "380 382 383 385 386 388 389 391 \n",
      "392 394 395 397 398 400 401 403 \n",
      "404 406 407 409 410 412 413 415 \n",
      "416 418 419 421 422 424 425 427 \n",
      "428 430 431 433 434 436 437 439 \n",
      "440 442 443 445 446 448 449 451 \n",
      "452 454 455 457 458 460 461 463 \n",
      "464 466 467 469 470 472 473 475 \n",
      "476 478 479 481 482 484 485 487 \n",
      "488 490 491 493 494 496 497 499 \n",
      "500 502 503 505 506 508 509 511 \n",
      "512 514 515 517 518 520 521 523 \n",
      "524 526 527 529 530 532 533 535 \n",
      "536 538 539 541 542 544 545 547 \n",
      "548 550 551 553 554 556 557 559 \n",
      "560 562 563 565 566 568 569 571 \n",
      "572 574 575 577 578 580 581 583 \n",
      "584 586 587 589 590 592 593 595 \n",
      "596 598 599 "
     ]
    }
   ],
   "source": [
    "i = 200 \n",
    "count = 0 \n",
    "while i < 601 : \n",
    "    if i % 3 != 0 : \n",
    "        print('%d ' % i, end='') \n",
    "        count += 1\n",
    "        if count % 8 == 0 : \n",
    "            print() \n",
    "    i += 1"
   ]
  },
  {
   "cell_type": "code",
   "execution_count": 25,
   "id": "c81884b4-15f2-424e-ab9b-2e2eaeb98809",
   "metadata": {},
   "outputs": [
    {
     "name": "stdin",
     "output_type": "stream",
     "text": [
      "영어 문장을 입력하세요 : coffee\n"
     ]
    },
    {
     "name": "stdout",
     "output_type": "stream",
     "text": [
      "모음 : oee"
     ]
    }
   ],
   "source": [
    "s = input('영어 문장을 입력하세요 :')\n",
    "i = 0\n",
    "count = 0\n",
    "print('모음 : ', end = '')\n",
    "while i <= len(s) - 1 :\n",
    "    if (s[i] == 'a' or s[i] == 'A' or s[i] == 'e' or s[i] == 'E' \\\n",
    "        or s[i] == 'i' or s[i] == 'I' or s[i] == 'o' or s[i] == 'O' \\\n",
    "        or s[i] == 'u' or s[i] == 'U') :\n",
    "        count += 1\n",
    "        print(s[i],end='')\n",
    "    i += 1"
   ]
  },
  {
   "cell_type": "code",
   "execution_count": 37,
   "id": "94a60988-77ad-44e0-a2ff-a4800fe9768d",
   "metadata": {},
   "outputs": [
    {
     "name": "stdin",
     "output_type": "stream",
     "text": [
      "문장을 입력해 주세요 :  망했어요\n"
     ]
    },
    {
     "name": "stdout",
     "output_type": "stream",
     "text": [
      "요어했망"
     ]
    }
   ],
   "source": [
    "sentence = input('문장을 입력해 주세요 : ') \n",
    "i = len(sentence) - 1\n",
    "while i >= 0 : \n",
    "    if sentence[i] == ' ' : \n",
    "        print('-', end='') \n",
    "    else :\n",
    "        print('%s' % sentence[i], end='')\n",
    "    i -= 1"
   ]
  },
  {
   "cell_type": "code",
   "execution_count": 45,
   "id": "52f23c01-2570-478c-a5ea-a6cba2dba719",
   "metadata": {},
   "outputs": [
    {
     "name": "stdout",
     "output_type": "stream",
     "text": [
      "1\n",
      "2\n",
      "3\n",
      "4\n",
      "5\n"
     ]
    }
   ],
   "source": [
    "for i in range(1, 1001) :\n",
    "    print(i)\n",
    "    if i == 5 :\n",
    "        break"
   ]
  },
  {
   "cell_type": "code",
   "execution_count": null,
   "id": "86995e09-d5da-4f78-9f94-47394bf6649b",
   "metadata": {},
   "outputs": [],
   "source": []
  }
 ],
 "metadata": {
  "kernelspec": {
   "display_name": "Python 3 (ipykernel)",
   "language": "python",
   "name": "python3"
  },
  "language_info": {
   "codemirror_mode": {
    "name": "ipython",
    "version": 3
   },
   "file_extension": ".py",
   "mimetype": "text/x-python",
   "name": "python",
   "nbconvert_exporter": "python",
   "pygments_lexer": "ipython3",
   "version": "3.12.4"
  }
 },
 "nbformat": 4,
 "nbformat_minor": 5
}
