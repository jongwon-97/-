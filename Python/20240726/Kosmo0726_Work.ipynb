{
 "cells": [
  {
   "cell_type": "code",
   "execution_count": 7,
   "id": "3d70f547-316d-451f-9758-5bfd9693be0d",
   "metadata": {},
   "outputs": [
    {
     "name": "stdout",
     "output_type": "stream",
     "text": [
      "red\n",
      "white\n",
      "['green', 'blue', 'black']\n"
     ]
    }
   ],
   "source": [
    "#Q5-1. 리스트 추출하기\n",
    "\n",
    "color = ['red', 'green', 'blue', 'black', 'white']\n",
    "print(color[0]) \n",
    "print(color[4]) \n",
    "print(color[1:4])"
   ]
  },
  {
   "cell_type": "code",
   "execution_count": 17,
   "id": "297bfd93-9967-4f90-989d-1ebbc8f0be5e",
   "metadata": {},
   "outputs": [
    {
     "name": "stdout",
     "output_type": "stream",
     "text": [
      "[1, 3, 5, 7, 9, 11, 13, 15, 17, 19]\n"
     ]
    }
   ],
   "source": [
    "#Q5-2. list()와 range()로 리스트 생성하기\n",
    "\n",
    "num = list(range(1,20,2)) \n",
    "print(num)\n"
   ]
  },
  {
   "cell_type": "code",
   "execution_count": 23,
   "id": "4cd8cc2f-6446-4ed8-b67d-7725e26cd5b3",
   "metadata": {},
   "outputs": [
    {
     "name": "stdout",
     "output_type": "stream",
     "text": [
      "사과\n",
      "바나나\n",
      "파인애플\n",
      "배\n",
      "키위\n"
     ]
    }
   ],
   "source": [
    "#Q5-3. 리스트 요소 추가하기\n",
    "\n",
    "mylist = ['사과', '바나나', '파인애플', '배'] \n",
    "mylist.append('키위')\n",
    "for a in mylist: \n",
    "    print(a)"
   ]
  },
  {
   "cell_type": "code",
   "execution_count": 31,
   "id": "d1d303e9-859e-4815-84a0-6ba30abb487d",
   "metadata": {},
   "outputs": [
    {
     "name": "stdout",
     "output_type": "stream",
     "text": [
      "['사과', '파인애플', '포도', '오렌지', '배']\n"
     ]
    }
   ],
   "source": [
    "#Q5-4. 리스트 요소 삭제하기\n",
    "\n",
    "mylist = ['사과', '바나나', '파인애플', '포도', '오렌지', '배']\n",
    "mylist.remove('바나나') \n",
    "print(mylist)"
   ]
  },
  {
   "cell_type": "code",
   "execution_count": 9,
   "id": "c9ec8df9-22a8-4599-b91e-307c5c9558e9",
   "metadata": {},
   "outputs": [
    {
     "name": "stdout",
     "output_type": "stream",
     "text": [
      "['kim', 24, 'kim@naver.com', 'lee', 35, 'lee@hanmail.net']\n"
     ]
    }
   ],
   "source": [
    "#Q5-5. 리스트 요소 삭제하기\n",
    "\n",
    "person1 = ['kim', 24, 'kim@naver.com'] \n",
    "person2 = ['lee', 35, 'lee@hanmail.net']\n",
    "person = person1+person2 \n",
    "print(person)"
   ]
  },
  {
   "cell_type": "code",
   "execution_count": 1,
   "id": "4d89bf47-4b3e-46b1-8fb8-6e3ebe13b244",
   "metadata": {},
   "outputs": [
    {
     "name": "stdout",
     "output_type": "stream",
     "text": [
      "수 : 3명\n",
      "우 : 6명\n",
      "미 : 3명\n",
      "양 : 4명\n",
      "가 : 4명\n"
     ]
    }
   ],
   "source": [
    "#Q5-6. while문에서 리스트 활용하기\n",
    "\n",
    "s = [64, 89, 100, 85, 77, 58, 79, 67, 96, 87, 87, 36, 82, 98, 84, 76, 63, 69, 53, 22]\n",
    "count_su = 0 # 90점 ~ 100점\n",
    "count_woo = 0 # 80점 ~ 89점\n",
    "count_mi = 0 # 70점 ~ 79점\n",
    "count_yang = 0 # 60점 ~ 69점\n",
    "count_ga = 0 # 0점 ~ 59점\n",
    "i=0 \n",
    "while i < len(s) : \n",
    "    if s[i] >= 90 and s[i] <=100 :\n",
    "        count_su = count_su + 1\n",
    "    if s[i] >= 80 and s[i] <= 89 :\n",
    "        count_woo = count_woo + 1\n",
    "    if s[i] >= 70 and s[i] <= 79 :\n",
    "        count_mi = count_mi + 1\n",
    "    if s[i] >= 60 and s[i] <= 69 :\n",
    "        count_yang = count_yang + 1\n",
    "    if s[i] >= 0 and s[i] <= 59 :\n",
    "        count_ga = count_ga + 1\n",
    "    i += 1\n",
    "\n",
    "print('수 : %d명' % count_su) \n",
    "print('우 : %d명' % count_woo) \n",
    "print('미 : %d명' % count_mi) \n",
    "print('양 : %d명' % count_yang) \n",
    "print('가 : %d명' % count_ga)"
   ]
  },
  {
   "cell_type": "code",
   "execution_count": 77,
   "id": "88485372-de5f-4854-bd02-88899ad969e4",
   "metadata": {},
   "outputs": [
    {
     "name": "stdout",
     "output_type": "stream",
     "text": [
      "[100, 98, 96, 89, 87, 87, 85, 84, 82, 79, 77, 76, 69, 67, 64, 63, 58, 53, 36, 22]\n",
      "수 : 3명\n",
      "우 : 6명\n",
      "미 : 3명\n",
      "양 : 4명\n",
      "가 : 4명\n"
     ]
    }
   ],
   "source": [
    "s = [64, 89, 100, 85, 77, 58, 79, 67, 96, 87, 87, 36, 82, 98, 84, 76, 63, 69, 53, 22]\n",
    "count_su = 0 # 90점 ~ 100점\n",
    "count_woo = 0 # 80점 ~ 89점\n",
    "count_mi = 0 # 70점 ~ 79점\n",
    "count_yang = 0 # 60점 ~ 69점\n",
    "count_ga = 0 # 0점 ~ 59점\n",
    "s.sort(reverse=True) #큰 숫자부터 정렬\n",
    "i=0 \n",
    "print(s)\n",
    "while i < len(s) : \n",
    "    if s[i]>= 90:\n",
    "     count_su += 1\n",
    "    elif s[i]>= 80:\n",
    "     count_woo += 1\n",
    "    elif s[i]>= 70:\n",
    "     count_mi += 1\n",
    "    elif s[i]>= 60:\n",
    "     count_yang += 1\n",
    "    else:\n",
    "     count_ga += 1\n",
    "    i += 1\n",
    "print('수 : %d명' % count_su) \n",
    "print('우 : %d명' % count_woo) \n",
    "print('미 : %d명' % count_mi) \n",
    "print('양 : %d명' % count_yang) \n",
    "print('가 : %d명' % count_ga)"
   ]
  },
  {
   "cell_type": "code",
   "execution_count": 83,
   "id": "58a9bc6d-62dc-47f8-ace0-de0597111bf5",
   "metadata": {},
   "outputs": [
    {
     "name": "stdout",
     "output_type": "stream",
     "text": [
      "[101, 100, 98, 96, 89, 87, 87, 85, 84, 82, 79, 77, 76, 69, 67, 64, 63, 58, 53, 36, 22, -1]\n",
      "수 : 3명\n",
      "우 : 6명\n",
      "미 : 3명\n",
      "양 : 4명\n",
      "가 : 4명\n"
     ]
    }
   ],
   "source": [
    "s = [64, 89, 100, 85, 77, 58, 79, 67, 96, 87, 87, 36, 82, 98, 84, 76, 63, 69, 53, 22]\n",
    "count_su = 0 # 90점 ~ 100점\n",
    "count_woo = 0 # 80점 ~ 89점\n",
    "count_mi = 0 # 70점 ~ 79점\n",
    "count_yang = 0 # 60점 ~ 69점0\n",
    "count_ga = 0 # 0점 ~ 59점\n",
    "s.sort(reverse=True)\n",
    "i=0 \n",
    "while i < len(s) :\n",
    "    if s[i]>100 or s[i]<0:\n",
    "        i+=1\n",
    "        continue\n",
    "    elif s[i]>= 90:\n",
    "     count_su += 1\n",
    "    elif s[i]>= 80:\n",
    "     count_woo += 1\n",
    "    elif s[i]>= 70:\n",
    "     count_mi += 1\n",
    "    elif s[i]>= 60:\n",
    "     count_yang += 1\n",
    "    else:\n",
    "     count_ga += 1\n",
    "    i += 1\n",
    "print('수 : %d명' % count_su) \n",
    "print('우 : %d명' % count_woo) \n",
    "print('미 : %d명' % count_mi) \n",
    "print('양 : %d명' % count_yang) \n",
    "print('가 : %d명' % count_ga)"
   ]
  },
  {
   "cell_type": "code",
   "execution_count": 41,
   "id": "dab7c475-c428-4158-a9b6-27d08790b527",
   "metadata": {},
   "outputs": [
    {
     "name": "stdin",
     "output_type": "stream",
     "text": [
      "tr_in 에서 밑줄(_) 안에 들어갈 알파벳은? a\n"
     ]
    },
    {
     "name": "stdout",
     "output_type": "stream",
     "text": [
      "정답입니다!\n"
     ]
    },
    {
     "name": "stdin",
     "output_type": "stream",
     "text": [
      "b_s 에서 밑줄(_) 안에 들어갈 알파벳은? u\n"
     ]
    },
    {
     "name": "stdout",
     "output_type": "stream",
     "text": [
      "정답입니다!\n"
     ]
    },
    {
     "name": "stdin",
     "output_type": "stream",
     "text": [
      "_axi 에서 밑줄(_) 안에 들어갈 알파벳은? t\n"
     ]
    },
    {
     "name": "stdout",
     "output_type": "stream",
     "text": [
      "정답입니다!\n"
     ]
    },
    {
     "name": "stdin",
     "output_type": "stream",
     "text": [
      "air_lane 에서 밑줄(_) 안에 들어갈 알파벳은? p\n"
     ]
    },
    {
     "name": "stdout",
     "output_type": "stream",
     "text": [
      "정답입니다!\n"
     ]
    }
   ],
   "source": [
    "#Q5-7. 리스트를 이용한 영어단어 퀴즈\n",
    "\n",
    "questions = ['tr_in', 'b_s', '_axi', 'air_lane'] \n",
    "answers = ['a', 'u', 't','p']\n",
    "for i in range(len(questions)):\n",
    "    q = '%s 에서 밑줄(_) 안에 들어갈 알파벳은?' % questions[i]\n",
    "    ans = input(q)\n",
    "    if ans == answers[i]:\n",
    "        print('정답입니다!')\n",
    "    else :\n",
    "        print('틀렸습니다!')"
   ]
  },
  {
   "cell_type": "code",
   "execution_count": 85,
   "id": "0f3382e8-b252-4136-b9f6-13129a4a6259",
   "metadata": {},
   "outputs": [
    {
     "name": "stdout",
     "output_type": "stream",
     "text": [
      "1번째 학생의 합계 : 260, 평균 : 86.67\n",
      "2번째 학생의 합계 : 258, 평균 : 86.00\n",
      "3번째 학생의 합계 : 254, 평균 : 84.67\n",
      "4번째 학생의 합계 : 254, 평균 : 84.67\n",
      "5번째 학생의 합계 : 257, 평균 : 85.67\n",
      "6번째 학생의 합계 : 236, 평균 : 78.67\n",
      "7번째 학생의 합계 : 248, 평균 : 82.67\n",
      "8번째 학생의 합계 : 258, 평균 : 86.00\n"
     ]
    }
   ],
   "source": [
    "#Q5-8. 예제 5-10을 while문으로 작성하기\n",
    "\n",
    "scores = [[96, 84, 80], \n",
    "          [96, 86, 76], \n",
    "          [76, 95, 83],\n",
    "          [89, 96, 69], \n",
    "          [90, 76, 91], \n",
    "          [82, 66, 88],\n",
    "          [83, 86, 79], \n",
    "          [85, 90, 83]]\n",
    "i = 0 \n",
    "while i < len(scores) :\n",
    "    sum = 0\n",
    "    j = 0\n",
    "    while j < len(scores[i]) :\n",
    "        sum +=scores[i][j]\n",
    "        j += 1\n",
    "    avg = sum/len(scores[i])\n",
    "    print('%d번째 학생의 합계 : %d, 평균 : %.2f' % (i+1, sum, avg)) \n",
    "    i += 1"
   ]
  },
  {
   "cell_type": "code",
   "execution_count": 87,
   "id": "105f195a-ee3e-489b-a169-8bb5921dee2f",
   "metadata": {},
   "outputs": [
    {
     "name": "stdin",
     "output_type": "stream",
     "text": [
      "성적을 입력하세요(종료 시 -1 입력):  75\n"
     ]
    },
    {
     "name": "stdout",
     "output_type": "stream",
     "text": [
      "합계 : 75, 평균 : 75.00\n"
     ]
    },
    {
     "name": "stdin",
     "output_type": "stream",
     "text": [
      "성적을 입력하세요(종료 시 -1 입력):  93\n"
     ]
    },
    {
     "name": "stdout",
     "output_type": "stream",
     "text": [
      "합계 : 168, 평균 : 84.00\n"
     ]
    },
    {
     "name": "stdin",
     "output_type": "stream",
     "text": [
      "성적을 입력하세요(종료 시 -1 입력):  88\n"
     ]
    },
    {
     "name": "stdout",
     "output_type": "stream",
     "text": [
      "합계 : 256, 평균 : 85.33\n"
     ]
    },
    {
     "name": "stdin",
     "output_type": "stream",
     "text": [
      "성적을 입력하세요(종료 시 -1 입력):  83\n"
     ]
    },
    {
     "name": "stdout",
     "output_type": "stream",
     "text": [
      "합계 : 339, 평균 : 84.75\n"
     ]
    },
    {
     "name": "stdin",
     "output_type": "stream",
     "text": [
      "성적을 입력하세요(종료 시 -1 입력):  97\n"
     ]
    },
    {
     "name": "stdout",
     "output_type": "stream",
     "text": [
      "합계 : 436, 평균 : 87.20\n"
     ]
    },
    {
     "name": "stdin",
     "output_type": "stream",
     "text": [
      "성적을 입력하세요(종료 시 -1 입력):  -1\n"
     ]
    }
   ],
   "source": [
    "#Q5-9. 리스트를 이용한 합계/평균 구하기\n",
    "\n",
    "scores = []\n",
    "while True :\n",
    "    score = int(input('성적을 입력하세요(종료 시 -1 입력): '))\n",
    "    if score == -1 :\n",
    "        break\n",
    "    else :\n",
    "        scores.append(score)\n",
    "    sum = 0 \n",
    "    for i in range(0,len(scores)) :\n",
    "        sum += scores[i]\n",
    "    avg = sum/len(scores)\n",
    "    print('합계 : %d, 평균 : %.2f' % (sum, avg))"
   ]
  },
  {
   "cell_type": "code",
   "execution_count": 67,
   "id": "81dc154b-43e0-4da3-baf3-402bffae2942",
   "metadata": {},
   "outputs": [
    {
     "name": "stdout",
     "output_type": "stream",
     "text": [
      "  □  □  □  □  □  □  □  □\n",
      "  □  □  □  □  □  □  □  □\n",
      "  □  □  □  □  □  □  □  □\n",
      "  ■  ■  ■  □  □  □  □  □\n",
      "  □  □  □  □  □  ■  □  □\n",
      "  □  ■  □  □  □  ■  □  ■\n",
      "  □  □  □  □  □  □  ■  □\n",
      "  ■  □  ■  □  □  □  □  □\n",
      "\n",
      "※ 예약 가능 : ■, 예약 불가 : □\n"
     ]
    }
   ],
   "source": [
    "#Q5-10. 영화관 빈 좌석 표시하기\n",
    "\n",
    "seats = [[0, 0, 0, 0, 0, 0, 0, 0, 0, 0],\n",
    "        [0, 0, 0, 0, 0, 0, 0, 0, 0, 0],\n",
    "        [0, 0, 0, 0, 0, 0, 0, 0, 0, 0],\n",
    "        [1, 1, 1, 0, 0, 0, 0, 0, 1, 0],\n",
    "        [0, 0, 0, 0, 0, 1, 0, 0, 0, 0],\n",
    "        [0, 1, 0, 0, 0, 1, 0, 1, 0, 0],\n",
    "        [0, 0, 0, 0, 0, 0, 1, 0, 0, 0],\n",
    "        [1, 0, 1, 0, 0, 0, 0, 0, 0, 1]]\n",
    "\n",
    "for i in range(len(seats)) :\n",
    "    for j in range(len(seats)) :\n",
    "        if seats[i][j] == 0 :\n",
    "            print('%3s' % '□', end='')\n",
    "        else :\n",
    "            print('%3s' % '■', end='')\n",
    "    print()\n",
    "print('\\n※ 예약 가능 : ■, 예약 불가 : □') \n"
   ]
  },
  {
   "cell_type": "code",
   "execution_count": null,
   "id": "098b36b7-a98d-4789-828f-a9db90292a4b",
   "metadata": {},
   "outputs": [],
   "source": []
  }
 ],
 "metadata": {
  "kernelspec": {
   "display_name": "Python 3 (ipykernel)",
   "language": "python",
   "name": "python3"
  },
  "language_info": {
   "codemirror_mode": {
    "name": "ipython",
    "version": 3
   },
   "file_extension": ".py",
   "mimetype": "text/x-python",
   "name": "python",
   "nbconvert_exporter": "python",
   "pygments_lexer": "ipython3",
   "version": "3.12.4"
  }
 },
 "nbformat": 4,
 "nbformat_minor": 5
}
